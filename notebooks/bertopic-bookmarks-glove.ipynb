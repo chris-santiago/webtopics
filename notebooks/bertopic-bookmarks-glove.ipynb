{
 "cells": [
  {
   "cell_type": "markdown",
   "id": "a60580cc-7aef-485b-99e9-eb25efc3f935",
   "metadata": {},
   "source": [
    "# BERTopic\n",
    "\n",
    "This can all be easily done via [BERTopic](https://maartengr.github.io/BERTopic/algorithm/algorithm.html)"
   ]
  },
  {
   "cell_type": "code",
   "execution_count": 17,
   "id": "2e5ee897-349e-4dfc-8020-0ed0a5e5fb5c",
   "metadata": {},
   "outputs": [],
   "source": [
    "import numpy as np\n",
    "import pandas as pd\n",
    "from bertopic import BERTopic\n",
    "from bertopic.dimensionality import BaseDimensionalityReduction\n",
    "\n",
    "import gensim.downloader as api\n",
    "from gensim.parsing.preprocessing import (\n",
    "    preprocess_string, strip_multiple_whitespaces, strip_numeric, strip_punctuation,\n",
    "    remove_stopwords, STOPWORDS\n",
    ")"
   ]
  },
  {
   "cell_type": "markdown",
   "id": "513c723d-4532-41b8-a58a-20ae30d42fcb",
   "metadata": {},
   "source": [
    "# Data"
   ]
  },
  {
   "cell_type": "code",
   "execution_count": 26,
   "id": "46125019-399d-448a-a61b-7cf17d2b880b",
   "metadata": {},
   "outputs": [],
   "source": [
    "data = pd.read_json('../data/bookmarks_data.json').dropna()"
   ]
  },
  {
   "cell_type": "code",
   "execution_count": 27,
   "id": "1fe1cfcf-bbc2-44b2-89e3-b1e54d2f9899",
   "metadata": {},
   "outputs": [
    {
     "data": {
      "text/html": [
       "<div>\n",
       "<style scoped>\n",
       "    .dataframe tbody tr th:only-of-type {\n",
       "        vertical-align: middle;\n",
       "    }\n",
       "\n",
       "    .dataframe tbody tr th {\n",
       "        vertical-align: top;\n",
       "    }\n",
       "\n",
       "    .dataframe thead th {\n",
       "        text-align: right;\n",
       "    }\n",
       "</style>\n",
       "<table border=\"1\" class=\"dataframe\">\n",
       "  <thead>\n",
       "    <tr style=\"text-align: right;\">\n",
       "      <th></th>\n",
       "      <th>title</th>\n",
       "      <th>url</th>\n",
       "      <th>url_text</th>\n",
       "    </tr>\n",
       "  </thead>\n",
       "  <tbody>\n",
       "    <tr>\n",
       "      <th>1</th>\n",
       "      <td>Dashboard | edX</td>\n",
       "      <td>https://courses.edx.org/dashboard</td>\n",
       "      <td>\\n       Sign in or Register | edX\\n</td>\n",
       "    </tr>\n",
       "    <tr>\n",
       "      <th>2</th>\n",
       "      <td>GT | GT Login</td>\n",
       "      <td>https://login.gatech.edu/cas/login</td>\n",
       "      <td>GT | GT Login I don't know my GT Account I don...</td>\n",
       "    </tr>\n",
       "    <tr>\n",
       "      <th>3</th>\n",
       "      <td>BuzzPort Login</td>\n",
       "      <td>https://buzzport.gatech.edu/cp/home/displaylogin</td>\n",
       "      <td>BuzzPort | Georgia Tech Creating the next Buzz...</td>\n",
       "    </tr>\n",
       "    <tr>\n",
       "      <th>4</th>\n",
       "      <td>Georgia Tech :: Account Management :: Passport</td>\n",
       "      <td>https://passport.gatech.edu/home</td>\n",
       "      <td>Georgia Tech :: Account Management :: Passport...</td>\n",
       "    </tr>\n",
       "    <tr>\n",
       "      <th>5</th>\n",
       "      <td>Georgia Tech OMS Analytics - Google+</td>\n",
       "      <td>https://plus.google.com/communities/1006647335...</td>\n",
       "      <td>Sign in - Google Accounts \\n\\n\\n  Sign in with...</td>\n",
       "    </tr>\n",
       "  </tbody>\n",
       "</table>\n",
       "</div>"
      ],
      "text/plain": [
       "                                            title  \\\n",
       "1                                 Dashboard | edX   \n",
       "2                                   GT | GT Login   \n",
       "3                                  BuzzPort Login   \n",
       "4  Georgia Tech :: Account Management :: Passport   \n",
       "5            Georgia Tech OMS Analytics - Google+   \n",
       "\n",
       "                                                 url  \\\n",
       "1                  https://courses.edx.org/dashboard   \n",
       "2                 https://login.gatech.edu/cas/login   \n",
       "3   https://buzzport.gatech.edu/cp/home/displaylogin   \n",
       "4                   https://passport.gatech.edu/home   \n",
       "5  https://plus.google.com/communities/1006647335...   \n",
       "\n",
       "                                            url_text  \n",
       "1         \\n       Sign in or Register | edX\\n        \n",
       "2  GT | GT Login I don't know my GT Account I don...  \n",
       "3  BuzzPort | Georgia Tech Creating the next Buzz...  \n",
       "4  Georgia Tech :: Account Management :: Passport...  \n",
       "5  Sign in - Google Accounts \\n\\n\\n  Sign in with...  "
      ]
     },
     "execution_count": 27,
     "metadata": {},
     "output_type": "execute_result"
    }
   ],
   "source": [
    "data.head()"
   ]
  },
  {
   "cell_type": "code",
   "execution_count": 28,
   "id": "3924d37a-5a5e-4b22-bd71-56a488e006da",
   "metadata": {},
   "outputs": [
    {
     "data": {
      "text/plain": [
       "(1135, 3)"
      ]
     },
     "execution_count": 28,
     "metadata": {},
     "output_type": "execute_result"
    }
   ],
   "source": [
    "data.shape"
   ]
  },
  {
   "cell_type": "code",
   "execution_count": 29,
   "id": "c994e46f-270c-4d68-98a8-1e181c9acd74",
   "metadata": {},
   "outputs": [],
   "source": [
    "titles = data['title'].to_list()\n",
    "content = data['url_text'].to_list()"
   ]
  },
  {
   "cell_type": "code",
   "execution_count": 30,
   "id": "3fd3ef69-fadb-4673-8eee-b9c45622d51a",
   "metadata": {},
   "outputs": [
    {
     "data": {
      "text/plain": [
       "['Dashboard | edX',\n",
       " 'GT | GT Login',\n",
       " 'BuzzPort Login',\n",
       " 'Georgia Tech :: Account Management :: Passport',\n",
       " 'Georgia Tech OMS Analytics - Google+',\n",
       " 'Georgia Tech Email Services :: Login',\n",
       " 'CSE 6040 Slack',\n",
       " 'OMSA Study Group Slack',\n",
       " 'Team_NOVA Bios - Google Sheets',\n",
       " 'DVA Project Ideas - Google Docs']"
      ]
     },
     "execution_count": 30,
     "metadata": {},
     "output_type": "execute_result"
    }
   ],
   "source": [
    "titles[:10]"
   ]
  },
  {
   "cell_type": "markdown",
   "id": "70d9a3ab-2d0c-48c7-a355-c67fd1ebf12e",
   "metadata": {},
   "source": [
    "# Fit Model"
   ]
  },
  {
   "cell_type": "code",
   "execution_count": 31,
   "id": "08189391-defb-4369-ba30-d14bbf8444ed",
   "metadata": {},
   "outputs": [],
   "source": [
    "embedding_model = api.load('glove-wiki-gigaword-50')"
   ]
  },
  {
   "cell_type": "code",
   "execution_count": 32,
   "id": "37a06743-3f8e-4bda-9aa7-c7f0dac96e7b",
   "metadata": {},
   "outputs": [],
   "source": [
    "# Fit BERTopic without actually performing any dimensionality reduction\n",
    "empty_dimensionality_model = BaseDimensionalityReduction()"
   ]
  },
  {
   "cell_type": "code",
   "execution_count": 37,
   "id": "6079d008-b4c4-4998-a1ec-7c43a78d3d77",
   "metadata": {},
   "outputs": [],
   "source": [
    "model = BERTopic(\n",
    "    embedding_model=embedding_model,\n",
    "    umap_model=empty_dimensionality_model,\n",
    "    top_n_words=5,\n",
    "    n_gram_range=(1,3),\n",
    ")\n",
    "topics, probs = model.fit_transform(titles)"
   ]
  },
  {
   "cell_type": "code",
   "execution_count": 38,
   "id": "8071f119-cd9e-4db3-95f4-53d042f37f86",
   "metadata": {},
   "outputs": [
    {
     "data": {
      "text/html": [
       "<div>\n",
       "<style scoped>\n",
       "    .dataframe tbody tr th:only-of-type {\n",
       "        vertical-align: middle;\n",
       "    }\n",
       "\n",
       "    .dataframe tbody tr th {\n",
       "        vertical-align: top;\n",
       "    }\n",
       "\n",
       "    .dataframe thead th {\n",
       "        text-align: right;\n",
       "    }\n",
       "</style>\n",
       "<table border=\"1\" class=\"dataframe\">\n",
       "  <thead>\n",
       "    <tr style=\"text-align: right;\">\n",
       "      <th></th>\n",
       "      <th>Topic</th>\n",
       "      <th>Count</th>\n",
       "      <th>Name</th>\n",
       "    </tr>\n",
       "  </thead>\n",
       "  <tbody>\n",
       "    <tr>\n",
       "      <th>0</th>\n",
       "      <td>-1</td>\n",
       "      <td>507</td>\n",
       "      <td>-1_to_python_in_and</td>\n",
       "    </tr>\n",
       "    <tr>\n",
       "      <th>1</th>\n",
       "      <td>0</td>\n",
       "      <td>133</td>\n",
       "      <td>0_https_python_html_hastie</td>\n",
       "    </tr>\n",
       "    <tr>\n",
       "      <th>2</th>\n",
       "      <td>1</td>\n",
       "      <td>87</td>\n",
       "      <td>1_cran package_cran_package_jupyter</td>\n",
       "    </tr>\n",
       "    <tr>\n",
       "      <th>3</th>\n",
       "      <td>2</td>\n",
       "      <td>63</td>\n",
       "      <td>2_in_and_python_in python</td>\n",
       "    </tr>\n",
       "    <tr>\n",
       "      <th>4</th>\n",
       "      <td>3</td>\n",
       "      <td>60</td>\n",
       "      <td>3_documentation_documentation sklearn_sklearn_...</td>\n",
       "    </tr>\n",
       "    <tr>\n",
       "      <th>5</th>\n",
       "      <td>4</td>\n",
       "      <td>58</td>\n",
       "      <td>4_and_data_with_for</td>\n",
       "    </tr>\n",
       "    <tr>\n",
       "      <th>6</th>\n",
       "      <td>5</td>\n",
       "      <td>37</td>\n",
       "      <td>5_dashboard_university_google_science handbook</td>\n",
       "    </tr>\n",
       "    <tr>\n",
       "      <th>7</th>\n",
       "      <td>6</td>\n",
       "      <td>33</td>\n",
       "      <td>6_with_and_forecasting_in python</td>\n",
       "    </tr>\n",
       "    <tr>\n",
       "      <th>8</th>\n",
       "      <td>7</td>\n",
       "      <td>31</td>\n",
       "      <td>7_documentation_welcome to_welcome_documentati...</td>\n",
       "    </tr>\n",
       "    <tr>\n",
       "      <th>9</th>\n",
       "      <td>8</td>\n",
       "      <td>30</td>\n",
       "      <td>8_numpy_v1_numpy v1_manual</td>\n",
       "    </tr>\n",
       "    <tr>\n",
       "      <th>10</th>\n",
       "      <td>9</td>\n",
       "      <td>29</td>\n",
       "      <td>9_analytics_uc business_uc business analytics_...</td>\n",
       "    </tr>\n",
       "    <tr>\n",
       "      <th>11</th>\n",
       "      <td>10</td>\n",
       "      <td>26</td>\n",
       "      <td>10_at master_master_at_github</td>\n",
       "    </tr>\n",
       "    <tr>\n",
       "      <th>12</th>\n",
       "      <td>11</td>\n",
       "      <td>15</td>\n",
       "      <td>11_xgboost_xgboost 81_81 documentation_81</td>\n",
       "    </tr>\n",
       "    <tr>\n",
       "      <th>13</th>\n",
       "      <td>12</td>\n",
       "      <td>13</td>\n",
       "      <td>12_real_real python_python_towards data science</td>\n",
       "    </tr>\n",
       "    <tr>\n",
       "      <th>14</th>\n",
       "      <td>13</td>\n",
       "      <td>13</td>\n",
       "      <td>13_for_for python_color advice for_for maps</td>\n",
       "    </tr>\n",
       "  </tbody>\n",
       "</table>\n",
       "</div>"
      ],
      "text/plain": [
       "    Topic  Count                                               Name\n",
       "0      -1    507                                -1_to_python_in_and\n",
       "1       0    133                         0_https_python_html_hastie\n",
       "2       1     87                1_cran package_cran_package_jupyter\n",
       "3       2     63                          2_in_and_python_in python\n",
       "4       3     60  3_documentation_documentation sklearn_sklearn_...\n",
       "5       4     58                                4_and_data_with_for\n",
       "6       5     37     5_dashboard_university_google_science handbook\n",
       "7       6     33                   6_with_and_forecasting_in python\n",
       "8       7     31  7_documentation_welcome to_welcome_documentati...\n",
       "9       8     30                         8_numpy_v1_numpy v1_manual\n",
       "10      9     29  9_analytics_uc business_uc business analytics_...\n",
       "11     10     26                      10_at master_master_at_github\n",
       "12     11     15          11_xgboost_xgboost 81_81 documentation_81\n",
       "13     12     13    12_real_real python_python_towards data science\n",
       "14     13     13        13_for_for python_color advice for_for maps"
      ]
     },
     "execution_count": 38,
     "metadata": {},
     "output_type": "execute_result"
    }
   ],
   "source": [
    "model.get_topic_info()"
   ]
  },
  {
   "cell_type": "code",
   "execution_count": 39,
   "id": "94cc86a4-ae46-4e20-a46f-23b621a1d2a4",
   "metadata": {},
   "outputs": [],
   "source": [
    "model = BERTopic(\n",
    "    embedding_model=embedding_model,\n",
    "    top_n_words=5,\n",
    "    n_gram_range=(1,3),\n",
    ")\n",
    "topics, probs = model.fit_transform(titles)"
   ]
  },
  {
   "cell_type": "code",
   "execution_count": 40,
   "id": "cbfd3419-a973-4fc5-b2c8-c229727a94bc",
   "metadata": {},
   "outputs": [
    {
     "data": {
      "text/html": [
       "<div>\n",
       "<style scoped>\n",
       "    .dataframe tbody tr th:only-of-type {\n",
       "        vertical-align: middle;\n",
       "    }\n",
       "\n",
       "    .dataframe tbody tr th {\n",
       "        vertical-align: top;\n",
       "    }\n",
       "\n",
       "    .dataframe thead th {\n",
       "        text-align: right;\n",
       "    }\n",
       "</style>\n",
       "<table border=\"1\" class=\"dataframe\">\n",
       "  <thead>\n",
       "    <tr style=\"text-align: right;\">\n",
       "      <th></th>\n",
       "      <th>Topic</th>\n",
       "      <th>Count</th>\n",
       "      <th>Name</th>\n",
       "    </tr>\n",
       "  </thead>\n",
       "  <tbody>\n",
       "    <tr>\n",
       "      <th>0</th>\n",
       "      <td>-1</td>\n",
       "      <td>131</td>\n",
       "      <td>-1_python_with_documentation_and</td>\n",
       "    </tr>\n",
       "    <tr>\n",
       "      <th>1</th>\n",
       "      <td>0</td>\n",
       "      <td>132</td>\n",
       "      <td>0_https_html_python_hastie</td>\n",
       "    </tr>\n",
       "    <tr>\n",
       "      <th>2</th>\n",
       "      <td>1</td>\n",
       "      <td>99</td>\n",
       "      <td>1_to_for_how_how to</td>\n",
       "    </tr>\n",
       "    <tr>\n",
       "      <th>3</th>\n",
       "      <td>2</td>\n",
       "      <td>93</td>\n",
       "      <td>2_cran_cran package_package_jupyter</td>\n",
       "    </tr>\n",
       "    <tr>\n",
       "      <th>4</th>\n",
       "      <td>3</td>\n",
       "      <td>72</td>\n",
       "      <td>3_documentation_documentation sklearn_sklearn_20</td>\n",
       "    </tr>\n",
       "    <tr>\n",
       "      <th>5</th>\n",
       "      <td>4</td>\n",
       "      <td>51</td>\n",
       "      <td>4_with_to_in_how to</td>\n",
       "    </tr>\n",
       "    <tr>\n",
       "      <th>6</th>\n",
       "      <td>5</td>\n",
       "      <td>45</td>\n",
       "      <td>5_in_python_real python_real</td>\n",
       "    </tr>\n",
       "    <tr>\n",
       "      <th>7</th>\n",
       "      <td>6</td>\n",
       "      <td>40</td>\n",
       "      <td>6_pypi_programming guide_business analytics pr...</td>\n",
       "    </tr>\n",
       "    <tr>\n",
       "      <th>8</th>\n",
       "      <td>7</td>\n",
       "      <td>40</td>\n",
       "      <td>7_documentation_seaborn_learn_scikit</td>\n",
       "    </tr>\n",
       "    <tr>\n",
       "      <th>9</th>\n",
       "      <td>8</td>\n",
       "      <td>38</td>\n",
       "      <td>8_dashboard_johns hopkins_hopkins_johns</td>\n",
       "    </tr>\n",
       "    <tr>\n",
       "      <th>10</th>\n",
       "      <td>9</td>\n",
       "      <td>37</td>\n",
       "      <td>9_with_and_introduction to econometrics_econom...</td>\n",
       "    </tr>\n",
       "    <tr>\n",
       "      <th>11</th>\n",
       "      <td>10</td>\n",
       "      <td>35</td>\n",
       "      <td>10_in_practical_and_to</td>\n",
       "    </tr>\n",
       "    <tr>\n",
       "      <th>12</th>\n",
       "      <td>11</td>\n",
       "      <td>30</td>\n",
       "      <td>11_numpy_v1_numpy v1_manual</td>\n",
       "    </tr>\n",
       "    <tr>\n",
       "      <th>13</th>\n",
       "      <td>12</td>\n",
       "      <td>30</td>\n",
       "      <td>12_digitalocean_for_in_science</td>\n",
       "    </tr>\n",
       "    <tr>\n",
       "      <th>14</th>\n",
       "      <td>13</td>\n",
       "      <td>27</td>\n",
       "      <td>13_at master_master_at_github</td>\n",
       "    </tr>\n",
       "    <tr>\n",
       "      <th>15</th>\n",
       "      <td>14</td>\n",
       "      <td>26</td>\n",
       "      <td>14_forecasting_and_principles_principles and</td>\n",
       "    </tr>\n",
       "    <tr>\n",
       "      <th>16</th>\n",
       "      <td>15</td>\n",
       "      <td>24</td>\n",
       "      <td>15_in_in python_sthda_articles sthda</td>\n",
       "    </tr>\n",
       "    <tr>\n",
       "      <th>17</th>\n",
       "      <td>16</td>\n",
       "      <td>22</td>\n",
       "      <td>16_overflow_stack overflow_stack_using</td>\n",
       "    </tr>\n",
       "    <tr>\n",
       "      <th>18</th>\n",
       "      <td>17</td>\n",
       "      <td>22</td>\n",
       "      <td>17_dash_and_plotly_ridge lasso</td>\n",
       "    </tr>\n",
       "    <tr>\n",
       "      <th>19</th>\n",
       "      <td>18</td>\n",
       "      <td>20</td>\n",
       "      <td>18_and_data_aws_ji zhang blog</td>\n",
       "    </tr>\n",
       "    <tr>\n",
       "      <th>20</th>\n",
       "      <td>19</td>\n",
       "      <td>20</td>\n",
       "      <td>19_documentation_documentation welcome to_docu...</td>\n",
       "    </tr>\n",
       "    <tr>\n",
       "      <th>21</th>\n",
       "      <td>20</td>\n",
       "      <td>20</td>\n",
       "      <td>20_documentation_lightning_statsmodels_rest</td>\n",
       "    </tr>\n",
       "    <tr>\n",
       "      <th>22</th>\n",
       "      <td>21</td>\n",
       "      <td>16</td>\n",
       "      <td>21_for_for python_spark unified_apache spark u...</td>\n",
       "    </tr>\n",
       "    <tr>\n",
       "      <th>23</th>\n",
       "      <td>22</td>\n",
       "      <td>15</td>\n",
       "      <td>22_for_for python_python job_colorbrewer color</td>\n",
       "    </tr>\n",
       "    <tr>\n",
       "      <th>24</th>\n",
       "      <td>23</td>\n",
       "      <td>15</td>\n",
       "      <td>23_real python_real_python_towards data science</td>\n",
       "    </tr>\n",
       "    <tr>\n",
       "      <th>25</th>\n",
       "      <td>24</td>\n",
       "      <td>13</td>\n",
       "      <td>24_to_from python to_from python_python to numpy</td>\n",
       "    </tr>\n",
       "    <tr>\n",
       "      <th>26</th>\n",
       "      <td>25</td>\n",
       "      <td>11</td>\n",
       "      <td>25_xgboost_xgboost 81 documentation_xgboost 81_81</td>\n",
       "    </tr>\n",
       "    <tr>\n",
       "      <th>27</th>\n",
       "      <td>26</td>\n",
       "      <td>11</td>\n",
       "      <td>26_documentation_restructuredtext_language_too...</td>\n",
       "    </tr>\n",
       "  </tbody>\n",
       "</table>\n",
       "</div>"
      ],
      "text/plain": [
       "    Topic  Count                                               Name\n",
       "0      -1    131                   -1_python_with_documentation_and\n",
       "1       0    132                         0_https_html_python_hastie\n",
       "2       1     99                                1_to_for_how_how to\n",
       "3       2     93                2_cran_cran package_package_jupyter\n",
       "4       3     72   3_documentation_documentation sklearn_sklearn_20\n",
       "5       4     51                                4_with_to_in_how to\n",
       "6       5     45                       5_in_python_real python_real\n",
       "7       6     40  6_pypi_programming guide_business analytics pr...\n",
       "8       7     40               7_documentation_seaborn_learn_scikit\n",
       "9       8     38            8_dashboard_johns hopkins_hopkins_johns\n",
       "10      9     37  9_with_and_introduction to econometrics_econom...\n",
       "11     10     35                             10_in_practical_and_to\n",
       "12     11     30                        11_numpy_v1_numpy v1_manual\n",
       "13     12     30                     12_digitalocean_for_in_science\n",
       "14     13     27                      13_at master_master_at_github\n",
       "15     14     26       14_forecasting_and_principles_principles and\n",
       "16     15     24               15_in_in python_sthda_articles sthda\n",
       "17     16     22             16_overflow_stack overflow_stack_using\n",
       "18     17     22                     17_dash_and_plotly_ridge lasso\n",
       "19     18     20                      18_and_data_aws_ji zhang blog\n",
       "20     19     20  19_documentation_documentation welcome to_docu...\n",
       "21     20     20        20_documentation_lightning_statsmodels_rest\n",
       "22     21     16  21_for_for python_spark unified_apache spark u...\n",
       "23     22     15     22_for_for python_python job_colorbrewer color\n",
       "24     23     15    23_real python_real_python_towards data science\n",
       "25     24     13   24_to_from python to_from python_python to numpy\n",
       "26     25     11  25_xgboost_xgboost 81 documentation_xgboost 81_81\n",
       "27     26     11  26_documentation_restructuredtext_language_too..."
      ]
     },
     "execution_count": 40,
     "metadata": {},
     "output_type": "execute_result"
    }
   ],
   "source": [
    "model.get_topic_info()"
   ]
  },
  {
   "cell_type": "code",
   "execution_count": 41,
   "id": "6edd6a30-db06-4b3e-990b-4a12a827c36b",
   "metadata": {},
   "outputs": [
    {
     "data": {
      "text/plain": [
       "{8: ['Java Programming I | UCLA Continuing Education',\n",
       "  'Docker Documentation | Docker Documentation',\n",
       "  'Download Python | Python.org'],\n",
       " 0: ['ChainMapper (Apache Hadoop Main 2.7.0 API)',\n",
       "  'Microsoft Azure Notebooks',\n",
       "  'https://pyyaml.org'],\n",
       " 2: ['Linear Regression - Econometrics Academy',\n",
       "  'Tutorials - CatBoost. Documentation',\n",
       "  'Julia Archives - Stochastic Lifestyle'],\n",
       " 21: ['SQLAlchemy - The Database Toolkit for Python',\n",
       "  'PY4E - Python for Everybody',\n",
       "  'SQLAlchemy - The Database Toolkit for Python'],\n",
       " 15: ['GitHub - ipython/ipyparallel: Interactive Parallel Computing in Python',\n",
       "  'Queuing System Discrete Event Simulation in Python (Process interaction) - YouTube',\n",
       "  'Machine Learning in R - Next Generation • mlr3'],\n",
       " 18: ['Python Multithreading Tutorial: Concurrency and Parallelism | Toptal',\n",
       "  'Big Data and Data Science Online Program | Continuing Studies',\n",
       "  'Jupyter Notebook Server with AWS EC2 and AWS VPC | Post | Coding For Entrepreneurs'],\n",
       " 12: ['Object Oriented Programming in Java | Coursera',\n",
       "  'Scale functions | D3 in Depth',\n",
       "  'Install Docker Desktop on Mac | Docker Documentation'],\n",
       " 11: ['airflow.sensors.external_task_sensor — Airflow Documentation',\n",
       "  'Flask\\u200a—\\u200aHost Your Python Machine Learning Model On Web',\n",
       "  'NetworkX — NetworkX'],\n",
       " 6: ['tabulate · PyPI',\n",
       "  'Predictive Analytics · UC Business Analytics R Programming Guide',\n",
       "  'Introduction · Bootstrap v4.5'],\n",
       " 3: ['Projects — DataRobot Python Client 2.16.0 documentation',\n",
       "  'Gluon — Apache MXNet documentation',\n",
       "  'IPython Documentation — IPython 7.3.0 documentation'],\n",
       " 5: ['Dynamically Generating DAGs in Airflow',\n",
       "  'Linear Programming with Python and PuLP – Part 6 – Ben Alex Keen',\n",
       "  'Data Leakage in Machine Learning'],\n",
       " 1: ['Python safe method to get value of nested dictionary - Stack Overflow',\n",
       "  \"GitHub - tgsmith61591/pmdarima: A package that brings R's beloved auto.arima to Python, making an even stronger case for why Python > R for data science.\",\n",
       "  'Time Series Feature Extraction for industrial big data (IIoT) applications'],\n",
       " 19: ['Welcome to LightGBM’s documentation! — LightGBM 2.2.4 documentation',\n",
       "  're — Regular expression operations — Python 3.7.2 documentation',\n",
       "  'Welcome to AIOHTTP — aiohttp 3.6.2 documentation'],\n",
       " 7: ['Style sheets reference — Matplotlib 3.1.1 documentation',\n",
       "  'zipfile — Work with ZIP archives — Python 3.7.3 documentation',\n",
       "  'Column Transformer with Mixed Types — scikit-learn 0.22.1 documentation'],\n",
       " 20: ['Configuration — Read the Docs Sphinx Theme 0.4.2 documentation',\n",
       "  'ReST – reStructuredText — Rest and Sphinx Memo v1.1-29-g98998ab documentation',\n",
       "  'ReST – reStructuredText — Rest and Sphinx Memo v1.1-29-g98998ab documentation'],\n",
       " 4: ['How to Develop Your First XGBoost Model in Python with scikit-learn',\n",
       "  'Time Series FeatuRe Extraction on basis of Scalable Hypothesis tests (tsfresh – A Python package) - ScienceDirect',\n",
       "  'How to Create an ARIMA Model for Time Series Forecasting in Python'],\n",
       " 24: ['Beginners Guide to Apache Pig',\n",
       "  'From Python to Numpy',\n",
       "  'From Python to Numpy'],\n",
       " 13: ['xgboost/parameter.rst at master · dmlc/xgboost · GitHub',\n",
       "  'tpot/README.md at master · EpistasisLab/tpot · GitHub',\n",
       "  'handson-ml2/15_processing_sequences_using_rnns_and_cnns.ipynb at master · ageron/handson-ml2 · GitHub'],\n",
       " 25: ['sklearn.model_selection.TimeSeriesSplit — scikit-learn 0.22 documentation',\n",
       "  'Python API Reference — xgboost 0.81 documentation',\n",
       "  'Get Started with XGBoost — xgboost 0.81 documentation'],\n",
       " 23: ['Look Ma, No For-Loops: Array Programming With NumPy – Real Python',\n",
       "  'Supercharge Your Classes With Python super() – Real Python',\n",
       "  'Understanding Boxplots – Towards Data Science'],\n",
       " 17: ['NLP with Python: Text Feature Extraction - Sanjaya’s Blog',\n",
       "  'RPubs - Data Processing with dplyr &amp; tidyr',\n",
       "  'Creating PDF Reports with Pandas, Jinja and\\xa0WeasyPrint - Practical Business Python'],\n",
       " 14: ['Forecasting: Principles\\xa0and\\xa0Practice',\n",
       "  'Estimation, Out-of-sample Validation, and Forecasting',\n",
       "  'LASSO, Ridge, and Elastic Net'],\n",
       " 10: ['Create a REST API in AWS - Hackers and Slackers - Hackers and Slackers',\n",
       "  '4. Code Reuse: Functions and Modules - Head First Python, 2nd Edition [Book]',\n",
       "  'Parallelize Machine Learning in R with Multi-Core CPUs - Data Acumen'],\n",
       " 26: ['SQL Expression Language Tutorial — SQLAlchemy 1.3 Documentation',\n",
       "  'API Documentation — nxviz 0.3 documentation',\n",
       "  'PyMC3 Documentation — PyMC3 3.8 documentation'],\n",
       " 9: ['How to Use Docker Containers with AWS EC2 | HostAdvice',\n",
       "  'Applied Statistics Using Stata: A Guide for the Social Sciences | SAGE Companion',\n",
       "  'Docker APIs on Google Cloud Platform with Python | Towards Data Science'],\n",
       " 22: ['TensorFlow for R',\n",
       "  'ColorBrewer: Color Advice for Maps',\n",
       "  'AWS SDK for Python'],\n",
       " 16: ['python - pip install fails with \"connection error: [SSL: CERTIFICATE_VERIFY_FAILED] certificate verify failed (_ssl.c:598)\" - Stack Overflow',\n",
       "  'python - Proper way to create dynamic workflows in Airflow - Stack Overflow',\n",
       "  'Creating a dynamic DAG using Apache Airflow - Towards Data Science']}"
      ]
     },
     "execution_count": 41,
     "metadata": {},
     "output_type": "execute_result"
    }
   ],
   "source": [
    "model.get_representative_docs(titles)"
   ]
  },
  {
   "cell_type": "code",
   "execution_count": 42,
   "id": "92bebd06-19f7-497e-8dea-8d131d88d03f",
   "metadata": {},
   "outputs": [
    {
     "data": {
      "application/vnd.plotly.v1+json": {
       "config": {
        "plotlyServerURL": "https://plot.ly"
       },
       "data": [
        {
         "hoverinfo": "text",
         "marker": {
          "color": "rgb(0,116,217)"
         },
         "mode": "lines",
         "type": "scatter",
         "x": [
          0,
          1.3312336279540196,
          1.3312336279540196,
          0
         ],
         "xaxis": "x",
         "y": [
          -15,
          -15,
          -25,
          -25
         ],
         "yaxis": "y"
        },
        {
         "hoverinfo": "text",
         "marker": {
          "color": "rgb(0,116,217)"
         },
         "mode": "lines",
         "type": "scatter",
         "x": [
          0,
          1.3450981045937924,
          1.3450981045937924,
          1.3312336279540196
         ],
         "xaxis": "x",
         "y": [
          -5,
          -5,
          -20,
          -20
         ],
         "yaxis": "y"
        },
        {
         "hoverinfo": "text",
         "marker": {
          "color": "rgb(0,116,217)"
         },
         "mode": "lines",
         "type": "scatter",
         "x": [
          0,
          1.1518748499198201,
          1.1518748499198201,
          0
         ],
         "xaxis": "x",
         "y": [
          -35,
          -35,
          -45,
          -45
         ],
         "yaxis": "y"
        },
        {
         "hoverinfo": "text",
         "marker": {
          "color": "rgb(0,116,217)"
         },
         "mode": "lines",
         "type": "scatter",
         "x": [
          1.1518748499198201,
          1.3202119402664323,
          1.3202119402664323,
          0
         ],
         "xaxis": "x",
         "y": [
          -40,
          -40,
          -55,
          -55
         ],
         "yaxis": "y"
        },
        {
         "hoverinfo": "text",
         "marker": {
          "color": "rgb(0,116,217)"
         },
         "mode": "lines",
         "type": "scatter",
         "x": [
          1.3450981045937924,
          1.386255433549267,
          1.386255433549267,
          1.3202119402664323
         ],
         "xaxis": "x",
         "y": [
          -12.5,
          -12.5,
          -47.5,
          -47.5
         ],
         "yaxis": "y"
        },
        {
         "hoverinfo": "text",
         "marker": {
          "color": "rgb(0,116,217)"
         },
         "mode": "lines",
         "type": "scatter",
         "x": [
          0,
          1.2792115951909084,
          1.2792115951909084,
          0
         ],
         "xaxis": "x",
         "y": [
          -75,
          -75,
          -85,
          -85
         ],
         "yaxis": "y"
        },
        {
         "hoverinfo": "text",
         "marker": {
          "color": "rgb(0,116,217)"
         },
         "mode": "lines",
         "type": "scatter",
         "x": [
          0,
          1.3653216949384386,
          1.3653216949384386,
          1.2792115951909084
         ],
         "xaxis": "x",
         "y": [
          -65,
          -65,
          -80,
          -80
         ],
         "yaxis": "y"
        },
        {
         "hoverinfo": "text",
         "marker": {
          "color": "rgb(0,116,217)"
         },
         "mode": "lines",
         "type": "scatter",
         "x": [
          0,
          1.3723392757206658,
          1.3723392757206658,
          0
         ],
         "xaxis": "x",
         "y": [
          -95,
          -95,
          -105,
          -105
         ],
         "yaxis": "y"
        },
        {
         "hoverinfo": "text",
         "marker": {
          "color": "rgb(0,116,217)"
         },
         "mode": "lines",
         "type": "scatter",
         "x": [
          0,
          1.3235602706261882,
          1.3235602706261882,
          0
         ],
         "xaxis": "x",
         "y": [
          -115,
          -115,
          -125,
          -125
         ],
         "yaxis": "y"
        },
        {
         "hoverinfo": "text",
         "marker": {
          "color": "rgb(0,116,217)"
         },
         "mode": "lines",
         "type": "scatter",
         "x": [
          1.3235602706261882,
          1.3808039214866137,
          1.3808039214866137,
          0
         ],
         "xaxis": "x",
         "y": [
          -120,
          -120,
          -135,
          -135
         ],
         "yaxis": "y"
        },
        {
         "hoverinfo": "text",
         "marker": {
          "color": "rgb(0,116,217)"
         },
         "mode": "lines",
         "type": "scatter",
         "x": [
          1.3723392757206658,
          1.3902631213625944,
          1.3902631213625944,
          1.3808039214866137
         ],
         "xaxis": "x",
         "y": [
          -100,
          -100,
          -127.5,
          -127.5
         ],
         "yaxis": "y"
        },
        {
         "hoverinfo": "text",
         "marker": {
          "color": "rgb(0,116,217)"
         },
         "mode": "lines",
         "type": "scatter",
         "x": [
          0,
          1.335522924640544,
          1.335522924640544,
          0
         ],
         "xaxis": "x",
         "y": [
          -145,
          -145,
          -155,
          -155
         ],
         "yaxis": "y"
        },
        {
         "hoverinfo": "text",
         "marker": {
          "color": "rgb(0,116,217)"
         },
         "mode": "lines",
         "type": "scatter",
         "x": [
          1.3902631213625944,
          1.3979993494335248,
          1.3979993494335248,
          1.335522924640544
         ],
         "xaxis": "x",
         "y": [
          -113.75,
          -113.75,
          -150,
          -150
         ],
         "yaxis": "y"
        },
        {
         "hoverinfo": "text",
         "marker": {
          "color": "rgb(0,116,217)"
         },
         "mode": "lines",
         "type": "scatter",
         "x": [
          1.3979993494335248,
          1.4044397714857528,
          1.4044397714857528,
          0
         ],
         "xaxis": "x",
         "y": [
          -131.875,
          -131.875,
          -165,
          -165
         ],
         "yaxis": "y"
        },
        {
         "hoverinfo": "text",
         "marker": {
          "color": "rgb(0,116,217)"
         },
         "mode": "lines",
         "type": "scatter",
         "x": [
          1.3653216949384386,
          1.4639221962987794,
          1.4639221962987794,
          1.4044397714857528
         ],
         "xaxis": "x",
         "y": [
          -72.5,
          -72.5,
          -148.4375,
          -148.4375
         ],
         "yaxis": "y"
        },
        {
         "hoverinfo": "text",
         "marker": {
          "color": "rgb(0,116,217)"
         },
         "mode": "lines",
         "type": "scatter",
         "x": [
          0,
          1.2608037557022966,
          1.2608037557022966,
          0
         ],
         "xaxis": "x",
         "y": [
          -175,
          -175,
          -185,
          -185
         ],
         "yaxis": "y"
        },
        {
         "hoverinfo": "text",
         "marker": {
          "color": "rgb(0,116,217)"
         },
         "mode": "lines",
         "type": "scatter",
         "x": [
          1.2608037557022966,
          1.3107488960623732,
          1.3107488960623732,
          0
         ],
         "xaxis": "x",
         "y": [
          -180,
          -180,
          -195,
          -195
         ],
         "yaxis": "y"
        },
        {
         "hoverinfo": "text",
         "marker": {
          "color": "rgb(0,116,217)"
         },
         "mode": "lines",
         "type": "scatter",
         "x": [
          0,
          1.1165533851733531,
          1.1165533851733531,
          0
         ],
         "xaxis": "x",
         "y": [
          -215,
          -215,
          -225,
          -225
         ],
         "yaxis": "y"
        },
        {
         "hoverinfo": "text",
         "marker": {
          "color": "rgb(0,116,217)"
         },
         "mode": "lines",
         "type": "scatter",
         "x": [
          0,
          1.259640297745789,
          1.259640297745789,
          0
         ],
         "xaxis": "x",
         "y": [
          -235,
          -235,
          -245,
          -245
         ],
         "yaxis": "y"
        },
        {
         "hoverinfo": "text",
         "marker": {
          "color": "rgb(0,116,217)"
         },
         "mode": "lines",
         "type": "scatter",
         "x": [
          1.1165533851733531,
          1.29828440182397,
          1.29828440182397,
          1.259640297745789
         ],
         "xaxis": "x",
         "y": [
          -220,
          -220,
          -240,
          -240
         ],
         "yaxis": "y"
        },
        {
         "hoverinfo": "text",
         "marker": {
          "color": "rgb(0,116,217)"
         },
         "mode": "lines",
         "type": "scatter",
         "x": [
          0,
          1.3509043894960095,
          1.3509043894960095,
          1.29828440182397
         ],
         "xaxis": "x",
         "y": [
          -205,
          -205,
          -230,
          -230
         ],
         "yaxis": "y"
        },
        {
         "hoverinfo": "text",
         "marker": {
          "color": "rgb(0,116,217)"
         },
         "mode": "lines",
         "type": "scatter",
         "x": [
          0,
          1.2029351044629606,
          1.2029351044629606,
          0
         ],
         "xaxis": "x",
         "y": [
          -255,
          -255,
          -265,
          -265
         ],
         "yaxis": "y"
        },
        {
         "hoverinfo": "text",
         "marker": {
          "color": "rgb(0,116,217)"
         },
         "mode": "lines",
         "type": "scatter",
         "x": [
          1.3509043894960095,
          1.4621355645329497,
          1.4621355645329497,
          1.2029351044629606
         ],
         "xaxis": "x",
         "y": [
          -217.5,
          -217.5,
          -260,
          -260
         ],
         "yaxis": "y"
        },
        {
         "hoverinfo": "text",
         "marker": {
          "color": "rgb(0,116,217)"
         },
         "mode": "lines",
         "type": "scatter",
         "x": [
          1.3107488960623732,
          1.516842829089136,
          1.516842829089136,
          1.4621355645329497
         ],
         "xaxis": "x",
         "y": [
          -187.5,
          -187.5,
          -238.75,
          -238.75
         ],
         "yaxis": "y"
        },
        {
         "hoverinfo": "text",
         "marker": {
          "color": "rgb(0,116,217)"
         },
         "mode": "lines",
         "type": "scatter",
         "x": [
          1.4639221962987794,
          1.6048292445881347,
          1.6048292445881347,
          1.516842829089136
         ],
         "xaxis": "x",
         "y": [
          -110.46875,
          -110.46875,
          -213.125,
          -213.125
         ],
         "yaxis": "y"
        },
        {
         "hoverinfo": "text",
         "marker": {
          "color": "rgb(0,116,217)"
         },
         "mode": "lines",
         "type": "scatter",
         "x": [
          1.386255433549267,
          1.8909065866912795,
          1.8909065866912795,
          1.6048292445881347
         ],
         "xaxis": "x",
         "y": [
          -30,
          -30,
          -161.796875,
          -161.796875
         ],
         "yaxis": "y"
        }
       ],
       "layout": {
        "autosize": false,
        "height": 605,
        "hoverlabel": {
         "bgcolor": "white",
         "font": {
          "family": "Rockwell",
          "size": 16
         }
        },
        "hovermode": "closest",
        "plot_bgcolor": "#ECEFF1",
        "showlegend": false,
        "template": {
         "data": {
          "bar": [
           {
            "error_x": {
             "color": "#2a3f5f"
            },
            "error_y": {
             "color": "#2a3f5f"
            },
            "marker": {
             "line": {
              "color": "white",
              "width": 0.5
             },
             "pattern": {
              "fillmode": "overlay",
              "size": 10,
              "solidity": 0.2
             }
            },
            "type": "bar"
           }
          ],
          "barpolar": [
           {
            "marker": {
             "line": {
              "color": "white",
              "width": 0.5
             },
             "pattern": {
              "fillmode": "overlay",
              "size": 10,
              "solidity": 0.2
             }
            },
            "type": "barpolar"
           }
          ],
          "carpet": [
           {
            "aaxis": {
             "endlinecolor": "#2a3f5f",
             "gridcolor": "#C8D4E3",
             "linecolor": "#C8D4E3",
             "minorgridcolor": "#C8D4E3",
             "startlinecolor": "#2a3f5f"
            },
            "baxis": {
             "endlinecolor": "#2a3f5f",
             "gridcolor": "#C8D4E3",
             "linecolor": "#C8D4E3",
             "minorgridcolor": "#C8D4E3",
             "startlinecolor": "#2a3f5f"
            },
            "type": "carpet"
           }
          ],
          "choropleth": [
           {
            "colorbar": {
             "outlinewidth": 0,
             "ticks": ""
            },
            "type": "choropleth"
           }
          ],
          "contour": [
           {
            "colorbar": {
             "outlinewidth": 0,
             "ticks": ""
            },
            "colorscale": [
             [
              0,
              "#0d0887"
             ],
             [
              0.1111111111111111,
              "#46039f"
             ],
             [
              0.2222222222222222,
              "#7201a8"
             ],
             [
              0.3333333333333333,
              "#9c179e"
             ],
             [
              0.4444444444444444,
              "#bd3786"
             ],
             [
              0.5555555555555556,
              "#d8576b"
             ],
             [
              0.6666666666666666,
              "#ed7953"
             ],
             [
              0.7777777777777778,
              "#fb9f3a"
             ],
             [
              0.8888888888888888,
              "#fdca26"
             ],
             [
              1,
              "#f0f921"
             ]
            ],
            "type": "contour"
           }
          ],
          "contourcarpet": [
           {
            "colorbar": {
             "outlinewidth": 0,
             "ticks": ""
            },
            "type": "contourcarpet"
           }
          ],
          "heatmap": [
           {
            "colorbar": {
             "outlinewidth": 0,
             "ticks": ""
            },
            "colorscale": [
             [
              0,
              "#0d0887"
             ],
             [
              0.1111111111111111,
              "#46039f"
             ],
             [
              0.2222222222222222,
              "#7201a8"
             ],
             [
              0.3333333333333333,
              "#9c179e"
             ],
             [
              0.4444444444444444,
              "#bd3786"
             ],
             [
              0.5555555555555556,
              "#d8576b"
             ],
             [
              0.6666666666666666,
              "#ed7953"
             ],
             [
              0.7777777777777778,
              "#fb9f3a"
             ],
             [
              0.8888888888888888,
              "#fdca26"
             ],
             [
              1,
              "#f0f921"
             ]
            ],
            "type": "heatmap"
           }
          ],
          "heatmapgl": [
           {
            "colorbar": {
             "outlinewidth": 0,
             "ticks": ""
            },
            "colorscale": [
             [
              0,
              "#0d0887"
             ],
             [
              0.1111111111111111,
              "#46039f"
             ],
             [
              0.2222222222222222,
              "#7201a8"
             ],
             [
              0.3333333333333333,
              "#9c179e"
             ],
             [
              0.4444444444444444,
              "#bd3786"
             ],
             [
              0.5555555555555556,
              "#d8576b"
             ],
             [
              0.6666666666666666,
              "#ed7953"
             ],
             [
              0.7777777777777778,
              "#fb9f3a"
             ],
             [
              0.8888888888888888,
              "#fdca26"
             ],
             [
              1,
              "#f0f921"
             ]
            ],
            "type": "heatmapgl"
           }
          ],
          "histogram": [
           {
            "marker": {
             "pattern": {
              "fillmode": "overlay",
              "size": 10,
              "solidity": 0.2
             }
            },
            "type": "histogram"
           }
          ],
          "histogram2d": [
           {
            "colorbar": {
             "outlinewidth": 0,
             "ticks": ""
            },
            "colorscale": [
             [
              0,
              "#0d0887"
             ],
             [
              0.1111111111111111,
              "#46039f"
             ],
             [
              0.2222222222222222,
              "#7201a8"
             ],
             [
              0.3333333333333333,
              "#9c179e"
             ],
             [
              0.4444444444444444,
              "#bd3786"
             ],
             [
              0.5555555555555556,
              "#d8576b"
             ],
             [
              0.6666666666666666,
              "#ed7953"
             ],
             [
              0.7777777777777778,
              "#fb9f3a"
             ],
             [
              0.8888888888888888,
              "#fdca26"
             ],
             [
              1,
              "#f0f921"
             ]
            ],
            "type": "histogram2d"
           }
          ],
          "histogram2dcontour": [
           {
            "colorbar": {
             "outlinewidth": 0,
             "ticks": ""
            },
            "colorscale": [
             [
              0,
              "#0d0887"
             ],
             [
              0.1111111111111111,
              "#46039f"
             ],
             [
              0.2222222222222222,
              "#7201a8"
             ],
             [
              0.3333333333333333,
              "#9c179e"
             ],
             [
              0.4444444444444444,
              "#bd3786"
             ],
             [
              0.5555555555555556,
              "#d8576b"
             ],
             [
              0.6666666666666666,
              "#ed7953"
             ],
             [
              0.7777777777777778,
              "#fb9f3a"
             ],
             [
              0.8888888888888888,
              "#fdca26"
             ],
             [
              1,
              "#f0f921"
             ]
            ],
            "type": "histogram2dcontour"
           }
          ],
          "mesh3d": [
           {
            "colorbar": {
             "outlinewidth": 0,
             "ticks": ""
            },
            "type": "mesh3d"
           }
          ],
          "parcoords": [
           {
            "line": {
             "colorbar": {
              "outlinewidth": 0,
              "ticks": ""
             }
            },
            "type": "parcoords"
           }
          ],
          "pie": [
           {
            "automargin": true,
            "type": "pie"
           }
          ],
          "scatter": [
           {
            "fillpattern": {
             "fillmode": "overlay",
             "size": 10,
             "solidity": 0.2
            },
            "type": "scatter"
           }
          ],
          "scatter3d": [
           {
            "line": {
             "colorbar": {
              "outlinewidth": 0,
              "ticks": ""
             }
            },
            "marker": {
             "colorbar": {
              "outlinewidth": 0,
              "ticks": ""
             }
            },
            "type": "scatter3d"
           }
          ],
          "scattercarpet": [
           {
            "marker": {
             "colorbar": {
              "outlinewidth": 0,
              "ticks": ""
             }
            },
            "type": "scattercarpet"
           }
          ],
          "scattergeo": [
           {
            "marker": {
             "colorbar": {
              "outlinewidth": 0,
              "ticks": ""
             }
            },
            "type": "scattergeo"
           }
          ],
          "scattergl": [
           {
            "marker": {
             "colorbar": {
              "outlinewidth": 0,
              "ticks": ""
             }
            },
            "type": "scattergl"
           }
          ],
          "scattermapbox": [
           {
            "marker": {
             "colorbar": {
              "outlinewidth": 0,
              "ticks": ""
             }
            },
            "type": "scattermapbox"
           }
          ],
          "scatterpolar": [
           {
            "marker": {
             "colorbar": {
              "outlinewidth": 0,
              "ticks": ""
             }
            },
            "type": "scatterpolar"
           }
          ],
          "scatterpolargl": [
           {
            "marker": {
             "colorbar": {
              "outlinewidth": 0,
              "ticks": ""
             }
            },
            "type": "scatterpolargl"
           }
          ],
          "scatterternary": [
           {
            "marker": {
             "colorbar": {
              "outlinewidth": 0,
              "ticks": ""
             }
            },
            "type": "scatterternary"
           }
          ],
          "surface": [
           {
            "colorbar": {
             "outlinewidth": 0,
             "ticks": ""
            },
            "colorscale": [
             [
              0,
              "#0d0887"
             ],
             [
              0.1111111111111111,
              "#46039f"
             ],
             [
              0.2222222222222222,
              "#7201a8"
             ],
             [
              0.3333333333333333,
              "#9c179e"
             ],
             [
              0.4444444444444444,
              "#bd3786"
             ],
             [
              0.5555555555555556,
              "#d8576b"
             ],
             [
              0.6666666666666666,
              "#ed7953"
             ],
             [
              0.7777777777777778,
              "#fb9f3a"
             ],
             [
              0.8888888888888888,
              "#fdca26"
             ],
             [
              1,
              "#f0f921"
             ]
            ],
            "type": "surface"
           }
          ],
          "table": [
           {
            "cells": {
             "fill": {
              "color": "#EBF0F8"
             },
             "line": {
              "color": "white"
             }
            },
            "header": {
             "fill": {
              "color": "#C8D4E3"
             },
             "line": {
              "color": "white"
             }
            },
            "type": "table"
           }
          ]
         },
         "layout": {
          "annotationdefaults": {
           "arrowcolor": "#2a3f5f",
           "arrowhead": 0,
           "arrowwidth": 1
          },
          "autotypenumbers": "strict",
          "coloraxis": {
           "colorbar": {
            "outlinewidth": 0,
            "ticks": ""
           }
          },
          "colorscale": {
           "diverging": [
            [
             0,
             "#8e0152"
            ],
            [
             0.1,
             "#c51b7d"
            ],
            [
             0.2,
             "#de77ae"
            ],
            [
             0.3,
             "#f1b6da"
            ],
            [
             0.4,
             "#fde0ef"
            ],
            [
             0.5,
             "#f7f7f7"
            ],
            [
             0.6,
             "#e6f5d0"
            ],
            [
             0.7,
             "#b8e186"
            ],
            [
             0.8,
             "#7fbc41"
            ],
            [
             0.9,
             "#4d9221"
            ],
            [
             1,
             "#276419"
            ]
           ],
           "sequential": [
            [
             0,
             "#0d0887"
            ],
            [
             0.1111111111111111,
             "#46039f"
            ],
            [
             0.2222222222222222,
             "#7201a8"
            ],
            [
             0.3333333333333333,
             "#9c179e"
            ],
            [
             0.4444444444444444,
             "#bd3786"
            ],
            [
             0.5555555555555556,
             "#d8576b"
            ],
            [
             0.6666666666666666,
             "#ed7953"
            ],
            [
             0.7777777777777778,
             "#fb9f3a"
            ],
            [
             0.8888888888888888,
             "#fdca26"
            ],
            [
             1,
             "#f0f921"
            ]
           ],
           "sequentialminus": [
            [
             0,
             "#0d0887"
            ],
            [
             0.1111111111111111,
             "#46039f"
            ],
            [
             0.2222222222222222,
             "#7201a8"
            ],
            [
             0.3333333333333333,
             "#9c179e"
            ],
            [
             0.4444444444444444,
             "#bd3786"
            ],
            [
             0.5555555555555556,
             "#d8576b"
            ],
            [
             0.6666666666666666,
             "#ed7953"
            ],
            [
             0.7777777777777778,
             "#fb9f3a"
            ],
            [
             0.8888888888888888,
             "#fdca26"
            ],
            [
             1,
             "#f0f921"
            ]
           ]
          },
          "colorway": [
           "#636efa",
           "#EF553B",
           "#00cc96",
           "#ab63fa",
           "#FFA15A",
           "#19d3f3",
           "#FF6692",
           "#B6E880",
           "#FF97FF",
           "#FECB52"
          ],
          "font": {
           "color": "#2a3f5f"
          },
          "geo": {
           "bgcolor": "white",
           "lakecolor": "white",
           "landcolor": "white",
           "showlakes": true,
           "showland": true,
           "subunitcolor": "#C8D4E3"
          },
          "hoverlabel": {
           "align": "left"
          },
          "hovermode": "closest",
          "mapbox": {
           "style": "light"
          },
          "paper_bgcolor": "white",
          "plot_bgcolor": "white",
          "polar": {
           "angularaxis": {
            "gridcolor": "#EBF0F8",
            "linecolor": "#EBF0F8",
            "ticks": ""
           },
           "bgcolor": "white",
           "radialaxis": {
            "gridcolor": "#EBF0F8",
            "linecolor": "#EBF0F8",
            "ticks": ""
           }
          },
          "scene": {
           "xaxis": {
            "backgroundcolor": "white",
            "gridcolor": "#DFE8F3",
            "gridwidth": 2,
            "linecolor": "#EBF0F8",
            "showbackground": true,
            "ticks": "",
            "zerolinecolor": "#EBF0F8"
           },
           "yaxis": {
            "backgroundcolor": "white",
            "gridcolor": "#DFE8F3",
            "gridwidth": 2,
            "linecolor": "#EBF0F8",
            "showbackground": true,
            "ticks": "",
            "zerolinecolor": "#EBF0F8"
           },
           "zaxis": {
            "backgroundcolor": "white",
            "gridcolor": "#DFE8F3",
            "gridwidth": 2,
            "linecolor": "#EBF0F8",
            "showbackground": true,
            "ticks": "",
            "zerolinecolor": "#EBF0F8"
           }
          },
          "shapedefaults": {
           "line": {
            "color": "#2a3f5f"
           }
          },
          "ternary": {
           "aaxis": {
            "gridcolor": "#DFE8F3",
            "linecolor": "#A2B1C6",
            "ticks": ""
           },
           "baxis": {
            "gridcolor": "#DFE8F3",
            "linecolor": "#A2B1C6",
            "ticks": ""
           },
           "bgcolor": "white",
           "caxis": {
            "gridcolor": "#DFE8F3",
            "linecolor": "#A2B1C6",
            "ticks": ""
           }
          },
          "title": {
           "x": 0.05
          },
          "xaxis": {
           "automargin": true,
           "gridcolor": "#EBF0F8",
           "linecolor": "#EBF0F8",
           "ticks": "",
           "title": {
            "standoff": 15
           },
           "zerolinecolor": "#EBF0F8",
           "zerolinewidth": 2
          },
          "yaxis": {
           "automargin": true,
           "gridcolor": "#EBF0F8",
           "linecolor": "#EBF0F8",
           "ticks": "",
           "title": {
            "standoff": 15
           },
           "zerolinecolor": "#EBF0F8",
           "zerolinewidth": 2
          }
         }
        },
        "title": {
         "font": {
          "color": "Black",
          "size": 22
         },
         "text": "<b>Hierarchical Clustering",
         "x": 0.5,
         "xanchor": "center",
         "yanchor": "top"
        },
        "width": 1000,
        "xaxis": {
         "autorange": true,
         "mirror": "allticks",
         "range": [
          0,
          1.8909065866912795
         ],
         "rangemode": "tozero",
         "showgrid": false,
         "showline": true,
         "showticklabels": true,
         "ticks": "outside",
         "type": "linear",
         "zeroline": false
        },
        "yaxis": {
         "mirror": "allticks",
         "range": [
          -270,
          0
         ],
         "rangemode": "tozero",
         "showgrid": false,
         "showline": true,
         "showticklabels": true,
         "tickmode": "array",
         "ticks": "outside",
         "ticktext": [
          "26_documentation_restructur...",
          "20_documentation_lightning_...",
          "19_documentation_documentat...",
          "7_documentation_seaborn_learn",
          "3_documentation_documentati...",
          "25_xgboost_xgboost 81 docum...",
          "13_at master_master_at",
          "15_in_in python_sthda",
          "17_dash_and_plotly",
          "11_numpy_v1_numpy v1",
          "0_https_html_python",
          "2_cran_cran package_package",
          "16_overflow_stack overflow_...",
          "14_forecasting_and_principles",
          "18_and_data_aws",
          "8_dashboard_johns hopkins_h...",
          "6_pypi_programming guide_bu...",
          "22_for_for python_python job",
          "21_for_for python_spark uni...",
          "12_digitalocean_for_in",
          "24_to_from python to_from p...",
          "4_with_to_in",
          "1_to_for_how",
          "9_with_and_introduction to ...",
          "10_in_practical_and",
          "5_in_python_real python",
          "23_real python_real_python"
         ],
         "tickvals": [
          -5,
          -15,
          -25,
          -35,
          -45,
          -55,
          -65,
          -75,
          -85,
          -95,
          -105,
          -115,
          -125,
          -135,
          -145,
          -155,
          -165,
          -175,
          -185,
          -195,
          -205,
          -215,
          -225,
          -235,
          -245,
          -255,
          -265
         ],
         "type": "linear",
         "zeroline": false
        }
       }
      },
      "image/png": "[encoded data removed]",
      "text/html": [
       "<div>                            <div id=\"c91aada7-7728-455b-bee7-d2e630981204\" class=\"plotly-graph-div\" style=\"height:605px; width:1000px;\"></div>            <script type=\"text/javascript\">                require([\"plotly\"], function(Plotly) {                    window.PLOTLYENV=window.PLOTLYENV || {};                                    if (document.getElementById(\"c91aada7-7728-455b-bee7-d2e630981204\")) {                    Plotly.newPlot(                        \"c91aada7-7728-455b-bee7-d2e630981204\",                        [{\"hoverinfo\":\"text\",\"marker\":{\"color\":\"rgb(0,116,217)\"},\"mode\":\"lines\",\"x\":[0.0,1.3312336279540196,1.3312336279540196,0.0],\"xaxis\":\"x\",\"y\":[-15.0,-15.0,-25.0,-25.0],\"yaxis\":\"y\",\"type\":\"scatter\"},{\"hoverinfo\":\"text\",\"marker\":{\"color\":\"rgb(0,116,217)\"},\"mode\":\"lines\",\"x\":[0.0,1.3450981045937924,1.3450981045937924,1.3312336279540196],\"xaxis\":\"x\",\"y\":[-5.0,-5.0,-20.0,-20.0],\"yaxis\":\"y\",\"type\":\"scatter\"},{\"hoverinfo\":\"text\",\"marker\":{\"color\":\"rgb(0,116,217)\"},\"mode\":\"lines\",\"x\":[0.0,1.1518748499198201,1.1518748499198201,0.0],\"xaxis\":\"x\",\"y\":[-35.0,-35.0,-45.0,-45.0],\"yaxis\":\"y\",\"type\":\"scatter\"},{\"hoverinfo\":\"text\",\"marker\":{\"color\":\"rgb(0,116,217)\"},\"mode\":\"lines\",\"x\":[1.1518748499198201,1.3202119402664323,1.3202119402664323,0.0],\"xaxis\":\"x\",\"y\":[-40.0,-40.0,-55.0,-55.0],\"yaxis\":\"y\",\"type\":\"scatter\"},{\"hoverinfo\":\"text\",\"marker\":{\"color\":\"rgb(0,116,217)\"},\"mode\":\"lines\",\"x\":[1.3450981045937924,1.386255433549267,1.386255433549267,1.3202119402664323],\"xaxis\":\"x\",\"y\":[-12.5,-12.5,-47.5,-47.5],\"yaxis\":\"y\",\"type\":\"scatter\"},{\"hoverinfo\":\"text\",\"marker\":{\"color\":\"rgb(0,116,217)\"},\"mode\":\"lines\",\"x\":[0.0,1.2792115951909084,1.2792115951909084,0.0],\"xaxis\":\"x\",\"y\":[-75.0,-75.0,-85.0,-85.0],\"yaxis\":\"y\",\"type\":\"scatter\"},{\"hoverinfo\":\"text\",\"marker\":{\"color\":\"rgb(0,116,217)\"},\"mode\":\"lines\",\"x\":[0.0,1.3653216949384386,1.3653216949384386,1.2792115951909084],\"xaxis\":\"x\",\"y\":[-65.0,-65.0,-80.0,-80.0],\"yaxis\":\"y\",\"type\":\"scatter\"},{\"hoverinfo\":\"text\",\"marker\":{\"color\":\"rgb(0,116,217)\"},\"mode\":\"lines\",\"x\":[0.0,1.3723392757206658,1.3723392757206658,0.0],\"xaxis\":\"x\",\"y\":[-95.0,-95.0,-105.0,-105.0],\"yaxis\":\"y\",\"type\":\"scatter\"},{\"hoverinfo\":\"text\",\"marker\":{\"color\":\"rgb(0,116,217)\"},\"mode\":\"lines\",\"x\":[0.0,1.3235602706261882,1.3235602706261882,0.0],\"xaxis\":\"x\",\"y\":[-115.0,-115.0,-125.0,-125.0],\"yaxis\":\"y\",\"type\":\"scatter\"},{\"hoverinfo\":\"text\",\"marker\":{\"color\":\"rgb(0,116,217)\"},\"mode\":\"lines\",\"x\":[1.3235602706261882,1.3808039214866137,1.3808039214866137,0.0],\"xaxis\":\"x\",\"y\":[-120.0,-120.0,-135.0,-135.0],\"yaxis\":\"y\",\"type\":\"scatter\"},{\"hoverinfo\":\"text\",\"marker\":{\"color\":\"rgb(0,116,217)\"},\"mode\":\"lines\",\"x\":[1.3723392757206658,1.3902631213625944,1.3902631213625944,1.3808039214866137],\"xaxis\":\"x\",\"y\":[-100.0,-100.0,-127.5,-127.5],\"yaxis\":\"y\",\"type\":\"scatter\"},{\"hoverinfo\":\"text\",\"marker\":{\"color\":\"rgb(0,116,217)\"},\"mode\":\"lines\",\"x\":[0.0,1.335522924640544,1.335522924640544,0.0],\"xaxis\":\"x\",\"y\":[-145.0,-145.0,-155.0,-155.0],\"yaxis\":\"y\",\"type\":\"scatter\"},{\"hoverinfo\":\"text\",\"marker\":{\"color\":\"rgb(0,116,217)\"},\"mode\":\"lines\",\"x\":[1.3902631213625944,1.3979993494335248,1.3979993494335248,1.335522924640544],\"xaxis\":\"x\",\"y\":[-113.75,-113.75,-150.0,-150.0],\"yaxis\":\"y\",\"type\":\"scatter\"},{\"hoverinfo\":\"text\",\"marker\":{\"color\":\"rgb(0,116,217)\"},\"mode\":\"lines\",\"x\":[1.3979993494335248,1.4044397714857528,1.4044397714857528,0.0],\"xaxis\":\"x\",\"y\":[-131.875,-131.875,-165.0,-165.0],\"yaxis\":\"y\",\"type\":\"scatter\"},{\"hoverinfo\":\"text\",\"marker\":{\"color\":\"rgb(0,116,217)\"},\"mode\":\"lines\",\"x\":[1.3653216949384386,1.4639221962987794,1.4639221962987794,1.4044397714857528],\"xaxis\":\"x\",\"y\":[-72.5,-72.5,-148.4375,-148.4375],\"yaxis\":\"y\",\"type\":\"scatter\"},{\"hoverinfo\":\"text\",\"marker\":{\"color\":\"rgb(0,116,217)\"},\"mode\":\"lines\",\"x\":[0.0,1.2608037557022966,1.2608037557022966,0.0],\"xaxis\":\"x\",\"y\":[-175.0,-175.0,-185.0,-185.0],\"yaxis\":\"y\",\"type\":\"scatter\"},{\"hoverinfo\":\"text\",\"marker\":{\"color\":\"rgb(0,116,217)\"},\"mode\":\"lines\",\"x\":[1.2608037557022966,1.3107488960623732,1.3107488960623732,0.0],\"xaxis\":\"x\",\"y\":[-180.0,-180.0,-195.0,-195.0],\"yaxis\":\"y\",\"type\":\"scatter\"},{\"hoverinfo\":\"text\",\"marker\":{\"color\":\"rgb(0,116,217)\"},\"mode\":\"lines\",\"x\":[0.0,1.1165533851733531,1.1165533851733531,0.0],\"xaxis\":\"x\",\"y\":[-215.0,-215.0,-225.0,-225.0],\"yaxis\":\"y\",\"type\":\"scatter\"},{\"hoverinfo\":\"text\",\"marker\":{\"color\":\"rgb(0,116,217)\"},\"mode\":\"lines\",\"x\":[0.0,1.259640297745789,1.259640297745789,0.0],\"xaxis\":\"x\",\"y\":[-235.0,-235.0,-245.0,-245.0],\"yaxis\":\"y\",\"type\":\"scatter\"},{\"hoverinfo\":\"text\",\"marker\":{\"color\":\"rgb(0,116,217)\"},\"mode\":\"lines\",\"x\":[1.1165533851733531,1.29828440182397,1.29828440182397,1.259640297745789],\"xaxis\":\"x\",\"y\":[-220.0,-220.0,-240.0,-240.0],\"yaxis\":\"y\",\"type\":\"scatter\"},{\"hoverinfo\":\"text\",\"marker\":{\"color\":\"rgb(0,116,217)\"},\"mode\":\"lines\",\"x\":[0.0,1.3509043894960095,1.3509043894960095,1.29828440182397],\"xaxis\":\"x\",\"y\":[-205.0,-205.0,-230.0,-230.0],\"yaxis\":\"y\",\"type\":\"scatter\"},{\"hoverinfo\":\"text\",\"marker\":{\"color\":\"rgb(0,116,217)\"},\"mode\":\"lines\",\"x\":[0.0,1.2029351044629606,1.2029351044629606,0.0],\"xaxis\":\"x\",\"y\":[-255.0,-255.0,-265.0,-265.0],\"yaxis\":\"y\",\"type\":\"scatter\"},{\"hoverinfo\":\"text\",\"marker\":{\"color\":\"rgb(0,116,217)\"},\"mode\":\"lines\",\"x\":[1.3509043894960095,1.4621355645329497,1.4621355645329497,1.2029351044629606],\"xaxis\":\"x\",\"y\":[-217.5,-217.5,-260.0,-260.0],\"yaxis\":\"y\",\"type\":\"scatter\"},{\"hoverinfo\":\"text\",\"marker\":{\"color\":\"rgb(0,116,217)\"},\"mode\":\"lines\",\"x\":[1.3107488960623732,1.516842829089136,1.516842829089136,1.4621355645329497],\"xaxis\":\"x\",\"y\":[-187.5,-187.5,-238.75,-238.75],\"yaxis\":\"y\",\"type\":\"scatter\"},{\"hoverinfo\":\"text\",\"marker\":{\"color\":\"rgb(0,116,217)\"},\"mode\":\"lines\",\"x\":[1.4639221962987794,1.6048292445881347,1.6048292445881347,1.516842829089136],\"xaxis\":\"x\",\"y\":[-110.46875,-110.46875,-213.125,-213.125],\"yaxis\":\"y\",\"type\":\"scatter\"},{\"hoverinfo\":\"text\",\"marker\":{\"color\":\"rgb(0,116,217)\"},\"mode\":\"lines\",\"x\":[1.386255433549267,1.8909065866912795,1.8909065866912795,1.6048292445881347],\"xaxis\":\"x\",\"y\":[-30.0,-30.0,-161.796875,-161.796875],\"yaxis\":\"y\",\"type\":\"scatter\"}],                        {\"autosize\":false,\"height\":605,\"hovermode\":\"closest\",\"showlegend\":false,\"width\":1000,\"xaxis\":{\"mirror\":\"allticks\",\"rangemode\":\"tozero\",\"showgrid\":false,\"showline\":true,\"showticklabels\":true,\"ticks\":\"outside\",\"type\":\"linear\",\"zeroline\":false},\"yaxis\":{\"mirror\":\"allticks\",\"rangemode\":\"tozero\",\"showgrid\":false,\"showline\":true,\"showticklabels\":true,\"tickmode\":\"array\",\"ticks\":\"outside\",\"ticktext\":[\"26_documentation_restructur...\",\"20_documentation_lightning_...\",\"19_documentation_documentat...\",\"7_documentation_seaborn_learn\",\"3_documentation_documentati...\",\"25_xgboost_xgboost 81 docum...\",\"13_at master_master_at\",\"15_in_in python_sthda\",\"17_dash_and_plotly\",\"11_numpy_v1_numpy v1\",\"0_https_html_python\",\"2_cran_cran package_package\",\"16_overflow_stack overflow_...\",\"14_forecasting_and_principles\",\"18_and_data_aws\",\"8_dashboard_johns hopkins_h...\",\"6_pypi_programming guide_bu...\",\"22_for_for python_python job\",\"21_for_for python_spark uni...\",\"12_digitalocean_for_in\",\"24_to_from python to_from p...\",\"4_with_to_in\",\"1_to_for_how\",\"9_with_and_introduction to ...\",\"10_in_practical_and\",\"5_in_python_real python\",\"23_real python_real_python\"],\"tickvals\":[-5.0,-15.0,-25.0,-35.0,-45.0,-55.0,-65.0,-75.0,-85.0,-95.0,-105.0,-115.0,-125.0,-135.0,-145.0,-155.0,-165.0,-175.0,-185.0,-195.0,-205.0,-215.0,-225.0,-235.0,-245.0,-255.0,-265.0],\"type\":\"linear\",\"zeroline\":false,\"range\":[-270.0,0.0]},\"template\":{\"data\":{\"barpolar\":[{\"marker\":{\"line\":{\"color\":\"white\",\"width\":0.5},\"pattern\":{\"fillmode\":\"overlay\",\"size\":10,\"solidity\":0.2}},\"type\":\"barpolar\"}],\"bar\":[{\"error_x\":{\"color\":\"#2a3f5f\"},\"error_y\":{\"color\":\"#2a3f5f\"},\"marker\":{\"line\":{\"color\":\"white\",\"width\":0.5},\"pattern\":{\"fillmode\":\"overlay\",\"size\":10,\"solidity\":0.2}},\"type\":\"bar\"}],\"carpet\":[{\"aaxis\":{\"endlinecolor\":\"#2a3f5f\",\"gridcolor\":\"#C8D4E3\",\"linecolor\":\"#C8D4E3\",\"minorgridcolor\":\"#C8D4E3\",\"startlinecolor\":\"#2a3f5f\"},\"baxis\":{\"endlinecolor\":\"#2a3f5f\",\"gridcolor\":\"#C8D4E3\",\"linecolor\":\"#C8D4E3\",\"minorgridcolor\":\"#C8D4E3\",\"startlinecolor\":\"#2a3f5f\"},\"type\":\"carpet\"}],\"choropleth\":[{\"colorbar\":{\"outlinewidth\":0,\"ticks\":\"\"},\"type\":\"choropleth\"}],\"contourcarpet\":[{\"colorbar\":{\"outlinewidth\":0,\"ticks\":\"\"},\"type\":\"contourcarpet\"}],\"contour\":[{\"colorbar\":{\"outlinewidth\":0,\"ticks\":\"\"},\"colorscale\":[[0.0,\"#0d0887\"],[0.1111111111111111,\"#46039f\"],[0.2222222222222222,\"#7201a8\"],[0.3333333333333333,\"#9c179e\"],[0.4444444444444444,\"#bd3786\"],[0.5555555555555556,\"#d8576b\"],[0.6666666666666666,\"#ed7953\"],[0.7777777777777778,\"#fb9f3a\"],[0.8888888888888888,\"#fdca26\"],[1.0,\"#f0f921\"]],\"type\":\"contour\"}],\"heatmapgl\":[{\"colorbar\":{\"outlinewidth\":0,\"ticks\":\"\"},\"colorscale\":[[0.0,\"#0d0887\"],[0.1111111111111111,\"#46039f\"],[0.2222222222222222,\"#7201a8\"],[0.3333333333333333,\"#9c179e\"],[0.4444444444444444,\"#bd3786\"],[0.5555555555555556,\"#d8576b\"],[0.6666666666666666,\"#ed7953\"],[0.7777777777777778,\"#fb9f3a\"],[0.8888888888888888,\"#fdca26\"],[1.0,\"#f0f921\"]],\"type\":\"heatmapgl\"}],\"heatmap\":[{\"colorbar\":{\"outlinewidth\":0,\"ticks\":\"\"},\"colorscale\":[[0.0,\"#0d0887\"],[0.1111111111111111,\"#46039f\"],[0.2222222222222222,\"#7201a8\"],[0.3333333333333333,\"#9c179e\"],[0.4444444444444444,\"#bd3786\"],[0.5555555555555556,\"#d8576b\"],[0.6666666666666666,\"#ed7953\"],[0.7777777777777778,\"#fb9f3a\"],[0.8888888888888888,\"#fdca26\"],[1.0,\"#f0f921\"]],\"type\":\"heatmap\"}],\"histogram2dcontour\":[{\"colorbar\":{\"outlinewidth\":0,\"ticks\":\"\"},\"colorscale\":[[0.0,\"#0d0887\"],[0.1111111111111111,\"#46039f\"],[0.2222222222222222,\"#7201a8\"],[0.3333333333333333,\"#9c179e\"],[0.4444444444444444,\"#bd3786\"],[0.5555555555555556,\"#d8576b\"],[0.6666666666666666,\"#ed7953\"],[0.7777777777777778,\"#fb9f3a\"],[0.8888888888888888,\"#fdca26\"],[1.0,\"#f0f921\"]],\"type\":\"histogram2dcontour\"}],\"histogram2d\":[{\"colorbar\":{\"outlinewidth\":0,\"ticks\":\"\"},\"colorscale\":[[0.0,\"#0d0887\"],[0.1111111111111111,\"#46039f\"],[0.2222222222222222,\"#7201a8\"],[0.3333333333333333,\"#9c179e\"],[0.4444444444444444,\"#bd3786\"],[0.5555555555555556,\"#d8576b\"],[0.6666666666666666,\"#ed7953\"],[0.7777777777777778,\"#fb9f3a\"],[0.8888888888888888,\"#fdca26\"],[1.0,\"#f0f921\"]],\"type\":\"histogram2d\"}],\"histogram\":[{\"marker\":{\"pattern\":{\"fillmode\":\"overlay\",\"size\":10,\"solidity\":0.2}},\"type\":\"histogram\"}],\"mesh3d\":[{\"colorbar\":{\"outlinewidth\":0,\"ticks\":\"\"},\"type\":\"mesh3d\"}],\"parcoords\":[{\"line\":{\"colorbar\":{\"outlinewidth\":0,\"ticks\":\"\"}},\"type\":\"parcoords\"}],\"pie\":[{\"automargin\":true,\"type\":\"pie\"}],\"scatter3d\":[{\"line\":{\"colorbar\":{\"outlinewidth\":0,\"ticks\":\"\"}},\"marker\":{\"colorbar\":{\"outlinewidth\":0,\"ticks\":\"\"}},\"type\":\"scatter3d\"}],\"scattercarpet\":[{\"marker\":{\"colorbar\":{\"outlinewidth\":0,\"ticks\":\"\"}},\"type\":\"scattercarpet\"}],\"scattergeo\":[{\"marker\":{\"colorbar\":{\"outlinewidth\":0,\"ticks\":\"\"}},\"type\":\"scattergeo\"}],\"scattergl\":[{\"marker\":{\"colorbar\":{\"outlinewidth\":0,\"ticks\":\"\"}},\"type\":\"scattergl\"}],\"scattermapbox\":[{\"marker\":{\"colorbar\":{\"outlinewidth\":0,\"ticks\":\"\"}},\"type\":\"scattermapbox\"}],\"scatterpolargl\":[{\"marker\":{\"colorbar\":{\"outlinewidth\":0,\"ticks\":\"\"}},\"type\":\"scatterpolargl\"}],\"scatterpolar\":[{\"marker\":{\"colorbar\":{\"outlinewidth\":0,\"ticks\":\"\"}},\"type\":\"scatterpolar\"}],\"scatter\":[{\"fillpattern\":{\"fillmode\":\"overlay\",\"size\":10,\"solidity\":0.2},\"type\":\"scatter\"}],\"scatterternary\":[{\"marker\":{\"colorbar\":{\"outlinewidth\":0,\"ticks\":\"\"}},\"type\":\"scatterternary\"}],\"surface\":[{\"colorbar\":{\"outlinewidth\":0,\"ticks\":\"\"},\"colorscale\":[[0.0,\"#0d0887\"],[0.1111111111111111,\"#46039f\"],[0.2222222222222222,\"#7201a8\"],[0.3333333333333333,\"#9c179e\"],[0.4444444444444444,\"#bd3786\"],[0.5555555555555556,\"#d8576b\"],[0.6666666666666666,\"#ed7953\"],[0.7777777777777778,\"#fb9f3a\"],[0.8888888888888888,\"#fdca26\"],[1.0,\"#f0f921\"]],\"type\":\"surface\"}],\"table\":[{\"cells\":{\"fill\":{\"color\":\"#EBF0F8\"},\"line\":{\"color\":\"white\"}},\"header\":{\"fill\":{\"color\":\"#C8D4E3\"},\"line\":{\"color\":\"white\"}},\"type\":\"table\"}]},\"layout\":{\"annotationdefaults\":{\"arrowcolor\":\"#2a3f5f\",\"arrowhead\":0,\"arrowwidth\":1},\"autotypenumbers\":\"strict\",\"coloraxis\":{\"colorbar\":{\"outlinewidth\":0,\"ticks\":\"\"}},\"colorscale\":{\"diverging\":[[0,\"#8e0152\"],[0.1,\"#c51b7d\"],[0.2,\"#de77ae\"],[0.3,\"#f1b6da\"],[0.4,\"#fde0ef\"],[0.5,\"#f7f7f7\"],[0.6,\"#e6f5d0\"],[0.7,\"#b8e186\"],[0.8,\"#7fbc41\"],[0.9,\"#4d9221\"],[1,\"#276419\"]],\"sequential\":[[0.0,\"#0d0887\"],[0.1111111111111111,\"#46039f\"],[0.2222222222222222,\"#7201a8\"],[0.3333333333333333,\"#9c179e\"],[0.4444444444444444,\"#bd3786\"],[0.5555555555555556,\"#d8576b\"],[0.6666666666666666,\"#ed7953\"],[0.7777777777777778,\"#fb9f3a\"],[0.8888888888888888,\"#fdca26\"],[1.0,\"#f0f921\"]],\"sequentialminus\":[[0.0,\"#0d0887\"],[0.1111111111111111,\"#46039f\"],[0.2222222222222222,\"#7201a8\"],[0.3333333333333333,\"#9c179e\"],[0.4444444444444444,\"#bd3786\"],[0.5555555555555556,\"#d8576b\"],[0.6666666666666666,\"#ed7953\"],[0.7777777777777778,\"#fb9f3a\"],[0.8888888888888888,\"#fdca26\"],[1.0,\"#f0f921\"]]},\"colorway\":[\"#636efa\",\"#EF553B\",\"#00cc96\",\"#ab63fa\",\"#FFA15A\",\"#19d3f3\",\"#FF6692\",\"#B6E880\",\"#FF97FF\",\"#FECB52\"],\"font\":{\"color\":\"#2a3f5f\"},\"geo\":{\"bgcolor\":\"white\",\"lakecolor\":\"white\",\"landcolor\":\"white\",\"showlakes\":true,\"showland\":true,\"subunitcolor\":\"#C8D4E3\"},\"hoverlabel\":{\"align\":\"left\"},\"hovermode\":\"closest\",\"mapbox\":{\"style\":\"light\"},\"paper_bgcolor\":\"white\",\"plot_bgcolor\":\"white\",\"polar\":{\"angularaxis\":{\"gridcolor\":\"#EBF0F8\",\"linecolor\":\"#EBF0F8\",\"ticks\":\"\"},\"bgcolor\":\"white\",\"radialaxis\":{\"gridcolor\":\"#EBF0F8\",\"linecolor\":\"#EBF0F8\",\"ticks\":\"\"}},\"scene\":{\"xaxis\":{\"backgroundcolor\":\"white\",\"gridcolor\":\"#DFE8F3\",\"gridwidth\":2,\"linecolor\":\"#EBF0F8\",\"showbackground\":true,\"ticks\":\"\",\"zerolinecolor\":\"#EBF0F8\"},\"yaxis\":{\"backgroundcolor\":\"white\",\"gridcolor\":\"#DFE8F3\",\"gridwidth\":2,\"linecolor\":\"#EBF0F8\",\"showbackground\":true,\"ticks\":\"\",\"zerolinecolor\":\"#EBF0F8\"},\"zaxis\":{\"backgroundcolor\":\"white\",\"gridcolor\":\"#DFE8F3\",\"gridwidth\":2,\"linecolor\":\"#EBF0F8\",\"showbackground\":true,\"ticks\":\"\",\"zerolinecolor\":\"#EBF0F8\"}},\"shapedefaults\":{\"line\":{\"color\":\"#2a3f5f\"}},\"ternary\":{\"aaxis\":{\"gridcolor\":\"#DFE8F3\",\"linecolor\":\"#A2B1C6\",\"ticks\":\"\"},\"baxis\":{\"gridcolor\":\"#DFE8F3\",\"linecolor\":\"#A2B1C6\",\"ticks\":\"\"},\"bgcolor\":\"white\",\"caxis\":{\"gridcolor\":\"#DFE8F3\",\"linecolor\":\"#A2B1C6\",\"ticks\":\"\"}},\"title\":{\"x\":0.05},\"xaxis\":{\"automargin\":true,\"gridcolor\":\"#EBF0F8\",\"linecolor\":\"#EBF0F8\",\"ticks\":\"\",\"title\":{\"standoff\":15},\"zerolinecolor\":\"#EBF0F8\",\"zerolinewidth\":2},\"yaxis\":{\"automargin\":true,\"gridcolor\":\"#EBF0F8\",\"linecolor\":\"#EBF0F8\",\"ticks\":\"\",\"title\":{\"standoff\":15},\"zerolinecolor\":\"#EBF0F8\",\"zerolinewidth\":2}}},\"title\":{\"font\":{\"size\":22,\"color\":\"Black\"},\"text\":\"<b>Hierarchical Clustering\",\"x\":0.5,\"xanchor\":\"center\",\"yanchor\":\"top\"},\"hoverlabel\":{\"font\":{\"size\":16,\"family\":\"Rockwell\"},\"bgcolor\":\"white\"},\"plot_bgcolor\":\"#ECEFF1\"},                        {\"responsive\": true}                    ).then(function(){\n",
       "                            \n",
       "var gd = document.getElementById('c91aada7-7728-455b-bee7-d2e630981204');\n",
       "var x = new MutationObserver(function (mutations, observer) {{\n",
       "        var display = window.getComputedStyle(gd).display;\n",
       "        if (!display || display === 'none') {{\n",
       "            console.log([gd, 'removed!']);\n",
       "            Plotly.purge(gd);\n",
       "            observer.disconnect();\n",
       "        }}\n",
       "}});\n",
       "\n",
       "// Listen for the removal of the full notebook cells\n",
       "var notebookContainer = gd.closest('#notebook-container');\n",
       "if (notebookContainer) {{\n",
       "    x.observe(notebookContainer, {childList: true});\n",
       "}}\n",
       "\n",
       "// Listen for the clearing of the current output cell\n",
       "var outputEl = gd.closest('.output');\n",
       "if (outputEl) {{\n",
       "    x.observe(outputEl, {childList: true});\n",
       "}}\n",
       "\n",
       "                        })                };                });            </script>        </div>"
      ]
     },
     "metadata": {},
     "output_type": "display_data"
    }
   ],
   "source": [
    "model.visualize_hierarchy()"
   ]
  },
  {
   "cell_type": "markdown",
   "id": "aa20297a-ed42-4877-9b3e-89a2cdbb61f5",
   "metadata": {},
   "source": [
    "# Fit Model (Preprocess Strings)"
   ]
  },
  {
   "cell_type": "code",
   "execution_count": 20,
   "id": "0c13c9cb-145f-4b50-b45d-5f694d2191e6",
   "metadata": {},
   "outputs": [],
   "source": [
    "def processor(s):\n",
    "    return \" \".join(\n",
    "        preprocess_string(\n",
    "            s,\n",
    "            filters=[\n",
    "                lambda x: x.lower(),\n",
    "                strip_multiple_whitespaces,\n",
    "                strip_numeric,\n",
    "                strip_punctuation,\n",
    "                remove_stopwords\n",
    "            ]\n",
    "        )\n",
    "    )\n",
    "\n",
    "titles_clean = [processor(s) for s in titles]"
   ]
  },
  {
   "cell_type": "code",
   "execution_count": 23,
   "id": "ea9e01d4-f320-48df-9ebf-071c4f9170d0",
   "metadata": {},
   "outputs": [],
   "source": [
    "model = BERTopic(\n",
    "    embedding_model=embedding_model,\n",
    "    top_n_words=5,\n",
    "    n_gram_range=(1,3),\n",
    ")\n",
    "topics, probs = model.fit_transform(titles_clean)"
   ]
  },
  {
   "cell_type": "code",
   "execution_count": 24,
   "id": "a5ad7eb1-2b97-47e3-89a0-6fa1907d1454",
   "metadata": {},
   "outputs": [
    {
     "data": {
      "text/html": [
       "<div>\n",
       "<style scoped>\n",
       "    .dataframe tbody tr th:only-of-type {\n",
       "        vertical-align: middle;\n",
       "    }\n",
       "\n",
       "    .dataframe tbody tr th {\n",
       "        vertical-align: top;\n",
       "    }\n",
       "\n",
       "    .dataframe thead th {\n",
       "        text-align: right;\n",
       "    }\n",
       "</style>\n",
       "<table border=\"1\" class=\"dataframe\">\n",
       "  <thead>\n",
       "    <tr style=\"text-align: right;\">\n",
       "      <th></th>\n",
       "      <th>Topic</th>\n",
       "      <th>Count</th>\n",
       "      <th>Name</th>\n",
       "    </tr>\n",
       "  </thead>\n",
       "  <tbody>\n",
       "    <tr>\n",
       "      <th>0</th>\n",
       "      <td>-1</td>\n",
       "      <td>301</td>\n",
       "      <td>-1_python_github_flask_airflow</td>\n",
       "    </tr>\n",
       "    <tr>\n",
       "      <th>1</th>\n",
       "      <td>0</td>\n",
       "      <td>203</td>\n",
       "      <td>0_data_science_data science_time</td>\n",
       "    </tr>\n",
       "    <tr>\n",
       "      <th>2</th>\n",
       "      <td>1</td>\n",
       "      <td>56</td>\n",
       "      <td>1_scikit learn documentation_learn documentati...</td>\n",
       "    </tr>\n",
       "    <tr>\n",
       "      <th>3</th>\n",
       "      <td>2</td>\n",
       "      <td>55</td>\n",
       "      <td>2_documentation_python documentation_legoland_...</td>\n",
       "    </tr>\n",
       "    <tr>\n",
       "      <th>4</th>\n",
       "      <td>3</td>\n",
       "      <td>53</td>\n",
       "      <td>3_uc_uc business_uc business analytics_program...</td>\n",
       "    </tr>\n",
       "    <tr>\n",
       "      <th>5</th>\n",
       "      <td>4</td>\n",
       "      <td>48</td>\n",
       "      <td>4_documentation_documentation overview_overvie...</td>\n",
       "    </tr>\n",
       "    <tr>\n",
       "      <th>6</th>\n",
       "      <td>5</td>\n",
       "      <td>40</td>\n",
       "      <td>5_python_real_real python_python real</td>\n",
       "    </tr>\n",
       "    <tr>\n",
       "      <th>7</th>\n",
       "      <td>6</td>\n",
       "      <td>32</td>\n",
       "      <td>6_python_modules_tutorials_python programming</td>\n",
       "    </tr>\n",
       "    <tr>\n",
       "      <th>8</th>\n",
       "      <td>7</td>\n",
       "      <td>29</td>\n",
       "      <td>7_master_github_xgboost_irkernel</td>\n",
       "    </tr>\n",
       "    <tr>\n",
       "      <th>9</th>\n",
       "      <td>8</td>\n",
       "      <td>28</td>\n",
       "      <td>8_overflow_stack overflow_stack_git</td>\n",
       "    </tr>\n",
       "    <tr>\n",
       "      <th>10</th>\n",
       "      <td>9</td>\n",
       "      <td>28</td>\n",
       "      <td>9_cran_cran package_package_caret package</td>\n",
       "    </tr>\n",
       "    <tr>\n",
       "      <th>11</th>\n",
       "      <td>10</td>\n",
       "      <td>25</td>\n",
       "      <td>10_glmnet_https_html_https web stanford</td>\n",
       "    </tr>\n",
       "    <tr>\n",
       "      <th>12</th>\n",
       "      <td>11</td>\n",
       "      <td>21</td>\n",
       "      <td>11_prettypandas rpy_tensorflow pytorch_pytorch...</td>\n",
       "    </tr>\n",
       "    <tr>\n",
       "      <th>13</th>\n",
       "      <td>12</td>\n",
       "      <td>20</td>\n",
       "      <td>12_files_matplotlib_openpyxl_read write</td>\n",
       "    </tr>\n",
       "    <tr>\n",
       "      <th>14</th>\n",
       "      <td>13</td>\n",
       "      <td>18</td>\n",
       "      <td>13_mysql_macos_os_windows</td>\n",
       "    </tr>\n",
       "    <tr>\n",
       "      <th>15</th>\n",
       "      <td>14</td>\n",
       "      <td>18</td>\n",
       "      <td>14_function documentation_function_stat_functi...</td>\n",
       "    </tr>\n",
       "    <tr>\n",
       "      <th>16</th>\n",
       "      <td>15</td>\n",
       "      <td>17</td>\n",
       "      <td>15_statsmodels_api_api reference_statistics py...</td>\n",
       "    </tr>\n",
       "    <tr>\n",
       "      <th>17</th>\n",
       "      <td>16</td>\n",
       "      <td>17</td>\n",
       "      <td>16_welcome_bokeh_keras_documentation welcome</td>\n",
       "    </tr>\n",
       "    <tr>\n",
       "      <th>18</th>\n",
       "      <td>17</td>\n",
       "      <td>16</td>\n",
       "      <td>17_stack_stack overflow_overflow_xgboost codes...</td>\n",
       "    </tr>\n",
       "    <tr>\n",
       "      <th>19</th>\n",
       "      <td>18</td>\n",
       "      <td>16</td>\n",
       "      <td>18_python scikit learn_python scikit_learn_sci...</td>\n",
       "    </tr>\n",
       "    <tr>\n",
       "      <th>20</th>\n",
       "      <td>19</td>\n",
       "      <td>16</td>\n",
       "      <td>19_bl ocks org_ocks_ocks org_bl</td>\n",
       "    </tr>\n",
       "    <tr>\n",
       "      <th>21</th>\n",
       "      <td>20</td>\n",
       "      <td>14</td>\n",
       "      <td>20_airflow_airflow documentation_documentation...</td>\n",
       "    </tr>\n",
       "    <tr>\n",
       "      <th>22</th>\n",
       "      <td>21</td>\n",
       "      <td>13</td>\n",
       "      <td>21_elastic net_elastic_net_lasso</td>\n",
       "    </tr>\n",
       "    <tr>\n",
       "      <th>23</th>\n",
       "      <td>22</td>\n",
       "      <td>13</td>\n",
       "      <td>22_regression_introduction econometrics_econom...</td>\n",
       "    </tr>\n",
       "    <tr>\n",
       "      <th>24</th>\n",
       "      <td>23</td>\n",
       "      <td>13</td>\n",
       "      <td>23_statistical_forecasting_regression time_for...</td>\n",
       "    </tr>\n",
       "    <tr>\n",
       "      <th>25</th>\n",
       "      <td>24</td>\n",
       "      <td>12</td>\n",
       "      <td>24_numpy_numpy manual_manual_numpy manual numpy</td>\n",
       "    </tr>\n",
       "    <tr>\n",
       "      <th>26</th>\n",
       "      <td>25</td>\n",
       "      <td>12</td>\n",
       "      <td>25_hadoop_mapreduce_intellij_hadoop mapreduce</td>\n",
       "    </tr>\n",
       "    <tr>\n",
       "      <th>27</th>\n",
       "      <td>26</td>\n",
       "      <td>12</td>\n",
       "      <td>26_pandas_learn_sklearn pandas_sklearn</td>\n",
       "    </tr>\n",
       "    <tr>\n",
       "      <th>28</th>\n",
       "      <td>27</td>\n",
       "      <td>12</td>\n",
       "      <td>27_user_user guide_documentation dash_dash</td>\n",
       "    </tr>\n",
       "    <tr>\n",
       "      <th>29</th>\n",
       "      <td>28</td>\n",
       "      <td>12</td>\n",
       "      <td>28_package documentation_package_quandl_inform...</td>\n",
       "    </tr>\n",
       "    <tr>\n",
       "      <th>30</th>\n",
       "      <td>29</td>\n",
       "      <td>11</td>\n",
       "      <td>29_command_dev_dev documentation_command line</td>\n",
       "    </tr>\n",
       "    <tr>\n",
       "      <th>31</th>\n",
       "      <td>30</td>\n",
       "      <td>11</td>\n",
       "      <td>30_sphinx_python_style_tutorial</td>\n",
       "    </tr>\n",
       "    <tr>\n",
       "      <th>32</th>\n",
       "      <td>31</td>\n",
       "      <td>11</td>\n",
       "      <td>31_github_markdown_github github_markdown gith...</td>\n",
       "    </tr>\n",
       "  </tbody>\n",
       "</table>\n",
       "</div>"
      ],
      "text/plain": [
       "    Topic  Count                                               Name\n",
       "0      -1    301                     -1_python_github_flask_airflow\n",
       "1       0    203                   0_data_science_data science_time\n",
       "2       1     56  1_scikit learn documentation_learn documentati...\n",
       "3       2     55  2_documentation_python documentation_legoland_...\n",
       "4       3     53  3_uc_uc business_uc business analytics_program...\n",
       "5       4     48  4_documentation_documentation overview_overvie...\n",
       "6       5     40              5_python_real_real python_python real\n",
       "7       6     32      6_python_modules_tutorials_python programming\n",
       "8       7     29                   7_master_github_xgboost_irkernel\n",
       "9       8     28                8_overflow_stack overflow_stack_git\n",
       "10      9     28          9_cran_cran package_package_caret package\n",
       "11     10     25            10_glmnet_https_html_https web stanford\n",
       "12     11     21  11_prettypandas rpy_tensorflow pytorch_pytorch...\n",
       "13     12     20            12_files_matplotlib_openpyxl_read write\n",
       "14     13     18                          13_mysql_macos_os_windows\n",
       "15     14     18  14_function documentation_function_stat_functi...\n",
       "16     15     17  15_statsmodels_api_api reference_statistics py...\n",
       "17     16     17       16_welcome_bokeh_keras_documentation welcome\n",
       "18     17     16  17_stack_stack overflow_overflow_xgboost codes...\n",
       "19     18     16  18_python scikit learn_python scikit_learn_sci...\n",
       "20     19     16                    19_bl ocks org_ocks_ocks org_bl\n",
       "21     20     14  20_airflow_airflow documentation_documentation...\n",
       "22     21     13                   21_elastic net_elastic_net_lasso\n",
       "23     22     13  22_regression_introduction econometrics_econom...\n",
       "24     23     13  23_statistical_forecasting_regression time_for...\n",
       "25     24     12    24_numpy_numpy manual_manual_numpy manual numpy\n",
       "26     25     12      25_hadoop_mapreduce_intellij_hadoop mapreduce\n",
       "27     26     12             26_pandas_learn_sklearn pandas_sklearn\n",
       "28     27     12         27_user_user guide_documentation dash_dash\n",
       "29     28     12  28_package documentation_package_quandl_inform...\n",
       "30     29     11      29_command_dev_dev documentation_command line\n",
       "31     30     11                    30_sphinx_python_style_tutorial\n",
       "32     31     11  31_github_markdown_github github_markdown gith..."
      ]
     },
     "execution_count": 24,
     "metadata": {},
     "output_type": "execute_result"
    }
   ],
   "source": [
    "model.get_topic_info()"
   ]
  },
  {
   "cell_type": "markdown",
   "id": "525d3778-996e-4cbe-996f-bc2d6ea919b9",
   "metadata": {},
   "source": [
    "----------------"
   ]
  }
 ],
 "metadata": {
  "kernelspec": {
   "display_name": "Python 3 (ipykernel)",
   "language": "python",
   "name": "python3"
  },
  "language_info": {
   "codemirror_mode": {
    "name": "ipython",
    "version": 3
   },
   "file_extension": ".py",
   "mimetype": "text/x-python",
   "name": "python",
   "nbconvert_exporter": "python",
   "pygments_lexer": "ipython3",
   "version": "3.9.15"
  }
 },
 "nbformat": 4,
 "nbformat_minor": 5
}
