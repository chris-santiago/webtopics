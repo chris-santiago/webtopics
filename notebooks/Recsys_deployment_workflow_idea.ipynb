{
 "cells": [
  {
   "cell_type": "markdown",
   "id": "5d415b8f",
   "metadata": {},
   "source": [
    "\n",
    "\n",
    "**Identify just 10 distinct item categories that we're interested in pushing to the audience.**\n",
    "- These are 10 item categories that we're confident represent distinct profuct groups.\n",
    "    - Even though we only have 10 item types, there are hundreds (thousands) of options of each of these 10 item categories.  \n",
    "\n",
    "**Output of interest**\n",
    "- Concretely, our goal is to produce -- for each user -- a `10 x 1` softmax vector that tells us which item category the user is probable to be intersted in.  \n",
    "\n",
    "\n",
    "**We could consider two stages of deployment**\n",
    "\n",
    "- stage 1: Deploy a basic recommender basd on just the similarity of items.  \n",
    "    - (Model that recommends just similar items -- similar to what the user recently browses\n",
    "- stage 2: embed users also.  Interact user embeddings with item embeddings\n",
    "\n",
    "\n",
    "**Stage 1 of deployment: Deploy a recommender imodel based on just the similarity of items.**\n",
    "\n",
    "- All that we need here are item embeddings for now.\n",
    "- We ingest a user's recent browsing\n",
    "- Take the most prominent topic from that browsing session\n",
    "- Recommend similar items. \n"
   ]
  },
  {
   "cell_type": "markdown",
   "id": "7d112f93",
   "metadata": {},
   "source": [
    "\n",
    "**Stage 2 preparation: Begin to embed users as well using tehir browsing sessions.  This alows us to march towards stage 2 deployment**\n",
    "\n",
    "- Each user can be emebdded in two ways:\n",
    "    - The most recent session is a representation of the user's current interests\n",
    "    - The embedding of a user's entire set of sessions over the past year represents this user's baseline.  We exponentially weight this towards the most recent sessions.\n",
    "- Call the user embedding  $\\mathbf{x}\\in R^{34}$ \n"
   ]
  },
  {
   "cell_type": "markdown",
   "id": "275575f6",
   "metadata": {},
   "source": [
    "**Stage 2 basic architecture: Interact $\\mathbf{A}$ and $\\mathbf{x}$ for each user to serve a user with a softmax vector -- 1 dimension for each item.**\n",
    "\n",
    "\n",
    "- $\\mathbf{x}\\in R^{34}$ is the user's embedding vector.\n",
    "- $\\mathbf{A}\\in R^{N\\times 34}$ is a matrix of N rows, each with a 34-dimensional embedding for each of N item cateories.  In other words, basketballs are one row, baseballs are another, and televisions are a third.\n",
    "\n",
    "\n",
    "Then interact our 10 different34-dimensional item category embeddings with our single 34-dimensional embedding of our user as follows\n",
    "\n",
    "\\begin{eqnarray*}\n",
    "\\mathbf{x} = \\mathbf{A} * \\mathbf{x} \\in \\mathbf{R}^{10}\n",
    "\\end{eqnarray*}\n",
    "\n",
    "Train a softmax layer\n",
    "\n",
    "\\begin{eqnarray*}\n",
    "\\mathbf{p}=\\text{softmax}(\\mathbf{z})\\in \\mathbf{R}^{10}\n",
    "\\end{eqnarray*}\n",
    "\n",
    "tuned to yes / no was the user's most recent session $\\mathbf{x}$ in category $i$.  This vector $\\mathbf{p}$ indicates the probability that the user is interested in item i.\n"
   ]
  },
  {
   "cell_type": "markdown",
   "id": "7b4d0c1d",
   "metadata": {},
   "source": [
    "**Starting point -- we initialize without training any model -- just use Chris's existing item embeddings** \n",
    "\n",
    "We can unfreeze these parameters as we get more data."
   ]
  },
  {
   "cell_type": "markdown",
   "id": "ae2f9f81",
   "metadata": {},
   "source": [
    "\n",
    "\n",
    "\n",
    "\n"
   ]
  }
 ],
 "metadata": {
  "kernelspec": {
   "display_name": "coursera_rnn",
   "language": "python",
   "name": "coursera_rnn"
  },
  "language_info": {
   "codemirror_mode": {
    "name": "ipython",
    "version": 3
   },
   "file_extension": ".py",
   "mimetype": "text/x-python",
   "name": "python",
   "nbconvert_exporter": "python",
   "pygments_lexer": "ipython3",
   "version": "3.8.12"
  }
 },
 "nbformat": 4,
 "nbformat_minor": 5
}
