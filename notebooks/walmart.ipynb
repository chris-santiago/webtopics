{
 "cells": [
  {
   "cell_type": "code",
   "execution_count": 1,
   "id": "0aaf81a5-6cc6-4598-be20-5682fec2ddf9",
   "metadata": {},
   "outputs": [
    {
     "name": "stderr",
     "output_type": "stream",
     "text": [
      "/opt/homebrew/Caskroom/miniforge/base/envs/webtopics/lib/python3.9/site-packages/tqdm/auto.py:22: TqdmWarning: IProgress not found. Please update jupyter and ipywidgets. See https://ipywidgets.readthedocs.io/en/stable/user_install.html\n",
      "  from .autonotebook import tqdm as notebook_tqdm\n"
     ]
    }
   ],
   "source": [
    "import pandas as pd\n",
    "from sentence_transformers import SentenceTransformer\n",
    "import umap\n",
    "import hdbscan\n",
    "from sklearn.preprocessing import StandardScaler"
   ]
  },
  {
   "cell_type": "code",
   "execution_count": 2,
   "id": "c5bffc42-94d1-4a26-913c-83ca3ba3a23f",
   "metadata": {},
   "outputs": [],
   "source": [
    "data = pd.read_parquet('../data/marketing_sample_walmart.parq.gzip')"
   ]
  },
  {
   "cell_type": "code",
   "execution_count": 3,
   "id": "1628b433-2735-4546-84cb-e9ecc1b8e648",
   "metadata": {},
   "outputs": [
    {
     "data": {
      "text/html": [
       "<div>\n",
       "<style scoped>\n",
       "    .dataframe tbody tr th:only-of-type {\n",
       "        vertical-align: middle;\n",
       "    }\n",
       "\n",
       "    .dataframe tbody tr th {\n",
       "        vertical-align: top;\n",
       "    }\n",
       "\n",
       "    .dataframe thead th {\n",
       "        text-align: right;\n",
       "    }\n",
       "</style>\n",
       "<table border=\"1\" class=\"dataframe\">\n",
       "  <thead>\n",
       "    <tr style=\"text-align: right;\">\n",
       "      <th></th>\n",
       "      <th>Uniq Id</th>\n",
       "      <th>Crawl Timestamp</th>\n",
       "      <th>Product Url</th>\n",
       "      <th>Product Name</th>\n",
       "      <th>Description</th>\n",
       "      <th>List Price</th>\n",
       "      <th>Sale Price</th>\n",
       "      <th>Brand</th>\n",
       "      <th>Item Number</th>\n",
       "      <th>Gtin</th>\n",
       "      <th>Package Size</th>\n",
       "      <th>Category</th>\n",
       "      <th>Postal Code</th>\n",
       "      <th>Available</th>\n",
       "    </tr>\n",
       "  </thead>\n",
       "  <tbody>\n",
       "    <tr>\n",
       "      <th>0</th>\n",
       "      <td>51b010b871cde349bd32159a1cc1a15f</td>\n",
       "      <td>2020-01-24 16:08:36 +0000</td>\n",
       "      <td>https://www.walmart.com/ip/Allegiance-Economy-...</td>\n",
       "      <td>Allegiance Economy Dual-scale Digital Thermometer</td>\n",
       "      <td>We aim to show you accurate product informati...</td>\n",
       "      <td>11.11</td>\n",
       "      <td>11.11</td>\n",
       "      <td>Cardinal Health</td>\n",
       "      <td>NaN</td>\n",
       "      <td>707389636164</td>\n",
       "      <td>NaN</td>\n",
       "      <td>Health | Medicine Cabinet | Thermometers | Dig...</td>\n",
       "      <td>NaN</td>\n",
       "      <td>True</td>\n",
       "    </tr>\n",
       "    <tr>\n",
       "      <th>1</th>\n",
       "      <td>d6a7f100e44a626a3701804e99236ad6</td>\n",
       "      <td>2020-01-24 15:54:21 +0000</td>\n",
       "      <td>https://www.walmart.com/ip/Kenneth-Cole-Reacti...</td>\n",
       "      <td>Kenneth Cole Reaction Eau De Parfum Spray For ...</td>\n",
       "      <td>We aim to show you accurate product informati...</td>\n",
       "      <td>23.99</td>\n",
       "      <td>23.99</td>\n",
       "      <td>Kenneth Cole</td>\n",
       "      <td>NaN</td>\n",
       "      <td>191565696101</td>\n",
       "      <td>NaN</td>\n",
       "      <td>Premium Beauty | Premium Fragrance | Premium P...</td>\n",
       "      <td>NaN</td>\n",
       "      <td>True</td>\n",
       "    </tr>\n",
       "    <tr>\n",
       "      <th>2</th>\n",
       "      <td>99d2b7da7e3e427a942f864937dacd9d</td>\n",
       "      <td>2020-01-24 18:34:28 +0000</td>\n",
       "      <td>https://www.walmart.com/ip/Kid-Tough-Fitness-I...</td>\n",
       "      <td>Kid Tough Fitness Inflatable Free-Standing Pun...</td>\n",
       "      <td>We aim to show you accurate product informati...</td>\n",
       "      <td>30.76</td>\n",
       "      <td>30.76</td>\n",
       "      <td>BONK FIT</td>\n",
       "      <td>563852139.0</td>\n",
       "      <td>855523007070</td>\n",
       "      <td>NaN</td>\n",
       "      <td>Sports &amp; Outdoors | Outdoor Sports | Hunting |...</td>\n",
       "      <td>NaN</td>\n",
       "      <td>True</td>\n",
       "    </tr>\n",
       "    <tr>\n",
       "      <th>3</th>\n",
       "      <td>4c76d170c2c6a759cbce812d790a0b88</td>\n",
       "      <td>2020-01-24 11:08:53 +0000</td>\n",
       "      <td>https://www.walmart.com/ip/THE-FIRST-YEARS/167...</td>\n",
       "      <td>THE FIRST YEARS</td>\n",
       "      <td>We aim to show you accurate product informati...</td>\n",
       "      <td>6.99</td>\n",
       "      <td>6.99</td>\n",
       "      <td>The First Years</td>\n",
       "      <td>553299941.0</td>\n",
       "      <td>71463046263</td>\n",
       "      <td>NaN</td>\n",
       "      <td>Baby | Diapering | Baby Wipes</td>\n",
       "      <td>NaN</td>\n",
       "      <td>True</td>\n",
       "    </tr>\n",
       "    <tr>\n",
       "      <th>4</th>\n",
       "      <td>8ac95837dc8baa01e504fd8f633ffaf2</td>\n",
       "      <td>2020-03-10 07:37:21 +0000</td>\n",
       "      <td>https://www.walmart.com/ip/4-Pack-MD-USA-Seaml...</td>\n",
       "      <td>4 Pack - MD USA Seamless Toe-Wave-In Mesh Diab...</td>\n",
       "      <td>We aim to show you accurate product informatio...</td>\n",
       "      <td>28.27</td>\n",
       "      <td>28.27</td>\n",
       "      <td>MD USA</td>\n",
       "      <td>NaN</td>\n",
       "      <td>191897514500</td>\n",
       "      <td>NaN</td>\n",
       "      <td>Health | Diabetes Care | Diabetic Socks</td>\n",
       "      <td>NaN</td>\n",
       "      <td>True</td>\n",
       "    </tr>\n",
       "  </tbody>\n",
       "</table>\n",
       "</div>"
      ],
      "text/plain": [
       "                            Uniq Id            Crawl Timestamp  \\\n",
       "0  51b010b871cde349bd32159a1cc1a15f  2020-01-24 16:08:36 +0000   \n",
       "1  d6a7f100e44a626a3701804e99236ad6  2020-01-24 15:54:21 +0000   \n",
       "2  99d2b7da7e3e427a942f864937dacd9d  2020-01-24 18:34:28 +0000   \n",
       "3  4c76d170c2c6a759cbce812d790a0b88  2020-01-24 11:08:53 +0000   \n",
       "4  8ac95837dc8baa01e504fd8f633ffaf2  2020-03-10 07:37:21 +0000   \n",
       "\n",
       "                                         Product Url  \\\n",
       "0  https://www.walmart.com/ip/Allegiance-Economy-...   \n",
       "1  https://www.walmart.com/ip/Kenneth-Cole-Reacti...   \n",
       "2  https://www.walmart.com/ip/Kid-Tough-Fitness-I...   \n",
       "3  https://www.walmart.com/ip/THE-FIRST-YEARS/167...   \n",
       "4  https://www.walmart.com/ip/4-Pack-MD-USA-Seaml...   \n",
       "\n",
       "                                        Product Name  \\\n",
       "0  Allegiance Economy Dual-scale Digital Thermometer   \n",
       "1  Kenneth Cole Reaction Eau De Parfum Spray For ...   \n",
       "2  Kid Tough Fitness Inflatable Free-Standing Pun...   \n",
       "3                                    THE FIRST YEARS   \n",
       "4  4 Pack - MD USA Seamless Toe-Wave-In Mesh Diab...   \n",
       "\n",
       "                                         Description  List Price  Sale Price  \\\n",
       "0   We aim to show you accurate product informati...       11.11       11.11   \n",
       "1   We aim to show you accurate product informati...       23.99       23.99   \n",
       "2   We aim to show you accurate product informati...       30.76       30.76   \n",
       "3   We aim to show you accurate product informati...        6.99        6.99   \n",
       "4  We aim to show you accurate product informatio...       28.27       28.27   \n",
       "\n",
       "             Brand  Item Number          Gtin  Package Size  \\\n",
       "0  Cardinal Health          NaN  707389636164           NaN   \n",
       "1     Kenneth Cole          NaN  191565696101           NaN   \n",
       "2         BONK FIT  563852139.0  855523007070           NaN   \n",
       "3  The First Years  553299941.0   71463046263           NaN   \n",
       "4           MD USA          NaN  191897514500           NaN   \n",
       "\n",
       "                                            Category  Postal Code  Available  \n",
       "0  Health | Medicine Cabinet | Thermometers | Dig...          NaN       True  \n",
       "1  Premium Beauty | Premium Fragrance | Premium P...          NaN       True  \n",
       "2  Sports & Outdoors | Outdoor Sports | Hunting |...          NaN       True  \n",
       "3                      Baby | Diapering | Baby Wipes          NaN       True  \n",
       "4            Health | Diabetes Care | Diabetic Socks          NaN       True  "
      ]
     },
     "execution_count": 3,
     "metadata": {},
     "output_type": "execute_result"
    }
   ],
   "source": [
    "data.head()"
   ]
  },
  {
   "cell_type": "code",
   "execution_count": 4,
   "id": "d70ebf40-7221-4f8f-9828-683b20081e0f",
   "metadata": {},
   "outputs": [
    {
     "data": {
      "text/plain": [
       "(30000, 14)"
      ]
     },
     "execution_count": 4,
     "metadata": {},
     "output_type": "execute_result"
    }
   ],
   "source": [
    "data.shape"
   ]
  },
  {
   "cell_type": "markdown",
   "id": "0e545018-18a2-44f3-9f04-da10b171d16d",
   "metadata": {},
   "source": [
    "Many of these URLs are invalid (two years old), so I'm going to treat the `Product Name` as the title that would've been retrieved from URL HTML.  Otherwise, we would fetch the titles and/or actual HTML content."
   ]
  },
  {
   "cell_type": "code",
   "execution_count": 5,
   "id": "cb315931-aca5-4ebc-a799-32e987b1de8b",
   "metadata": {},
   "outputs": [],
   "source": [
    "products = data['Product Name'].to_list()"
   ]
  },
  {
   "cell_type": "code",
   "execution_count": 6,
   "id": "d113277e-9b5f-4788-b851-0d061ba5311a",
   "metadata": {},
   "outputs": [
    {
     "data": {
      "text/plain": [
       "['Allegiance Economy Dual-scale Digital Thermometer',\n",
       " 'Kenneth Cole Reaction Eau De Parfum Spray For Women 3.40 Oz',\n",
       " 'Kid Tough Fitness Inflatable Free-Standing Punching Bag + Machine Washable Fabric Cover South Carolina Gamecocks Kids Workout Buddy by Bonk Fit',\n",
       " 'THE FIRST YEARS',\n",
       " '4 Pack - MD USA Seamless Toe-Wave-In Mesh Diabetic Crew Socks, Black, Medium, 1 Pair',\n",
       " 'Gerber 2nd Foods Apple Baby Food 4 oz. Tubs 2 Count',\n",
       " 'Kushies Ultra-Lite All-In-One Form-Fitted Washable Cloth Diapers (Blue Whales, Infant)',\n",
       " 'sunmark Stop Smoking Aid 14 mg Strength Transdermal Patch, 70677003101 - Box of 14',\n",
       " 'Berkley PowerBait Glitter Chroma-Glow Dough Fishing Bait',\n",
       " 'Mikasa Rubber Basketball, Intermediate, 28.5']"
      ]
     },
     "execution_count": 6,
     "metadata": {},
     "output_type": "execute_result"
    }
   ],
   "source": [
    "products[:10]"
   ]
  },
  {
   "cell_type": "code",
   "execution_count": 7,
   "id": "6ffdd06a-ede4-4eb6-84e2-bd7c05431f8b",
   "metadata": {},
   "outputs": [
    {
     "name": "stderr",
     "output_type": "stream",
     "text": [
      "Batches: 100%|████████████████████████████████████████████████████████████████████████████████████████████████████████████████████████████████████████████████████| 938/938 [02:46<00:00,  5.64it/s]\n"
     ]
    }
   ],
   "source": [
    "model = SentenceTransformer('sentence-transformers/all-MiniLM-L6-v2')\n",
    "embeddings = model.encode(products, show_progress_bar=True)"
   ]
  },
  {
   "cell_type": "code",
   "execution_count": 24,
   "id": "07f2b0ed-8b0c-476b-ad4d-090fb828347e",
   "metadata": {},
   "outputs": [
    {
     "data": {
      "text/plain": [
       "(30000, 384)"
      ]
     },
     "execution_count": 24,
     "metadata": {},
     "output_type": "execute_result"
    }
   ],
   "source": [
    "embeddings.shape"
   ]
  },
  {
   "cell_type": "code",
   "execution_count": 26,
   "id": "e8b763a5-1348-4602-9de2-dfdad0371329",
   "metadata": {},
   "outputs": [],
   "source": [
    "red = umap.UMAP(n_components=int(embeddings.shape[1]*.2), metric='cosine')\n",
    "red_embed = red.fit_transform(embeddings)"
   ]
  },
  {
   "cell_type": "code",
   "execution_count": 27,
   "id": "cd70cc31-9abc-44ae-a8da-1765c066e9bd",
   "metadata": {},
   "outputs": [],
   "source": [
    "sc = StandardScaler()\n",
    "red_embed = sc.fit_transform(red_embed)"
   ]
  },
  {
   "cell_type": "code",
   "execution_count": 28,
   "id": "0ea1e15d-26af-4298-a35c-b6c43c0f093e",
   "metadata": {},
   "outputs": [
    {
     "data": {
      "text/html": [
       "<style>#sk-container-id-5 {color: black;background-color: white;}#sk-container-id-5 pre{padding: 0;}#sk-container-id-5 div.sk-toggleable {background-color: white;}#sk-container-id-5 label.sk-toggleable__label {cursor: pointer;display: block;width: 100%;margin-bottom: 0;padding: 0.3em;box-sizing: border-box;text-align: center;}#sk-container-id-5 label.sk-toggleable__label-arrow:before {content: \"▸\";float: left;margin-right: 0.25em;color: #696969;}#sk-container-id-5 label.sk-toggleable__label-arrow:hover:before {color: black;}#sk-container-id-5 div.sk-estimator:hover label.sk-toggleable__label-arrow:before {color: black;}#sk-container-id-5 div.sk-toggleable__content {max-height: 0;max-width: 0;overflow: hidden;text-align: left;background-color: #f0f8ff;}#sk-container-id-5 div.sk-toggleable__content pre {margin: 0.2em;color: black;border-radius: 0.25em;background-color: #f0f8ff;}#sk-container-id-5 input.sk-toggleable__control:checked~div.sk-toggleable__content {max-height: 200px;max-width: 100%;overflow: auto;}#sk-container-id-5 input.sk-toggleable__control:checked~label.sk-toggleable__label-arrow:before {content: \"▾\";}#sk-container-id-5 div.sk-estimator input.sk-toggleable__control:checked~label.sk-toggleable__label {background-color: #d4ebff;}#sk-container-id-5 div.sk-label input.sk-toggleable__control:checked~label.sk-toggleable__label {background-color: #d4ebff;}#sk-container-id-5 input.sk-hidden--visually {border: 0;clip: rect(1px 1px 1px 1px);clip: rect(1px, 1px, 1px, 1px);height: 1px;margin: -1px;overflow: hidden;padding: 0;position: absolute;width: 1px;}#sk-container-id-5 div.sk-estimator {font-family: monospace;background-color: #f0f8ff;border: 1px dotted black;border-radius: 0.25em;box-sizing: border-box;margin-bottom: 0.5em;}#sk-container-id-5 div.sk-estimator:hover {background-color: #d4ebff;}#sk-container-id-5 div.sk-parallel-item::after {content: \"\";width: 100%;border-bottom: 1px solid gray;flex-grow: 1;}#sk-container-id-5 div.sk-label:hover label.sk-toggleable__label {background-color: #d4ebff;}#sk-container-id-5 div.sk-serial::before {content: \"\";position: absolute;border-left: 1px solid gray;box-sizing: border-box;top: 0;bottom: 0;left: 50%;z-index: 0;}#sk-container-id-5 div.sk-serial {display: flex;flex-direction: column;align-items: center;background-color: white;padding-right: 0.2em;padding-left: 0.2em;position: relative;}#sk-container-id-5 div.sk-item {position: relative;z-index: 1;}#sk-container-id-5 div.sk-parallel {display: flex;align-items: stretch;justify-content: center;background-color: white;position: relative;}#sk-container-id-5 div.sk-item::before, #sk-container-id-5 div.sk-parallel-item::before {content: \"\";position: absolute;border-left: 1px solid gray;box-sizing: border-box;top: 0;bottom: 0;left: 50%;z-index: -1;}#sk-container-id-5 div.sk-parallel-item {display: flex;flex-direction: column;z-index: 1;position: relative;background-color: white;}#sk-container-id-5 div.sk-parallel-item:first-child::after {align-self: flex-end;width: 50%;}#sk-container-id-5 div.sk-parallel-item:last-child::after {align-self: flex-start;width: 50%;}#sk-container-id-5 div.sk-parallel-item:only-child::after {width: 0;}#sk-container-id-5 div.sk-dashed-wrapped {border: 1px dashed gray;margin: 0 0.4em 0.5em 0.4em;box-sizing: border-box;padding-bottom: 0.4em;background-color: white;}#sk-container-id-5 div.sk-label label {font-family: monospace;font-weight: bold;display: inline-block;line-height: 1.2em;}#sk-container-id-5 div.sk-label-container {text-align: center;}#sk-container-id-5 div.sk-container {/* jupyter's `normalize.less` sets `[hidden] { display: none; }` but bootstrap.min.css set `[hidden] { display: none !important; }` so we also need the `!important` here to be able to override the default hidden behavior on the sphinx rendered scikit-learn.org. See: https://github.com/scikit-learn/scikit-learn/issues/21755 */display: inline-block !important;position: relative;}#sk-container-id-5 div.sk-text-repr-fallback {display: none;}</style><div id=\"sk-container-id-5\" class=\"sk-top-container\"><div class=\"sk-text-repr-fallback\"><pre>HDBSCAN(cluster_selection_epsilon=0.25, min_cluster_size=15)</pre><b>In a Jupyter environment, please rerun this cell to show the HTML representation or trust the notebook. <br />On GitHub, the HTML representation is unable to render, please try loading this page with nbviewer.org.</b></div><div class=\"sk-container\" hidden><div class=\"sk-item\"><div class=\"sk-estimator sk-toggleable\"><input class=\"sk-toggleable__control sk-hidden--visually\" id=\"sk-estimator-id-5\" type=\"checkbox\" checked><label for=\"sk-estimator-id-5\" class=\"sk-toggleable__label sk-toggleable__label-arrow\">HDBSCAN</label><div class=\"sk-toggleable__content\"><pre>HDBSCAN(cluster_selection_epsilon=0.25, min_cluster_size=15)</pre></div></div></div></div></div>"
      ],
      "text/plain": [
       "HDBSCAN(cluster_selection_epsilon=0.25, min_cluster_size=15)"
      ]
     },
     "execution_count": 28,
     "metadata": {},
     "output_type": "execute_result"
    }
   ],
   "source": [
    "clust = hdbscan.HDBSCAN(min_cluster_size=15, cluster_selection_epsilon=.25)\n",
    "clust.fit(red_embed)"
   ]
  },
  {
   "cell_type": "code",
   "execution_count": 122,
   "id": "8c8c5d66-4915-4754-bace-52f02819c8de",
   "metadata": {},
   "outputs": [],
   "source": [
    "res = pd.DataFrame({\n",
    "    'product': products,\n",
    "    'cluster': clust.labels_\n",
    "})"
   ]
  },
  {
   "cell_type": "code",
   "execution_count": 123,
   "id": "2b21b61e-3149-4138-b289-6e42d4826575",
   "metadata": {},
   "outputs": [
    {
     "data": {
      "text/html": [
       "<div>\n",
       "<style scoped>\n",
       "    .dataframe tbody tr th:only-of-type {\n",
       "        vertical-align: middle;\n",
       "    }\n",
       "\n",
       "    .dataframe tbody tr th {\n",
       "        vertical-align: top;\n",
       "    }\n",
       "\n",
       "    .dataframe thead th {\n",
       "        text-align: right;\n",
       "    }\n",
       "</style>\n",
       "<table border=\"1\" class=\"dataframe\">\n",
       "  <thead>\n",
       "    <tr style=\"text-align: right;\">\n",
       "      <th></th>\n",
       "      <th>product</th>\n",
       "    </tr>\n",
       "    <tr>\n",
       "      <th>cluster</th>\n",
       "      <th></th>\n",
       "    </tr>\n",
       "  </thead>\n",
       "  <tbody>\n",
       "    <tr>\n",
       "      <th>-1</th>\n",
       "      <td>9757</td>\n",
       "    </tr>\n",
       "    <tr>\n",
       "      <th>209</th>\n",
       "      <td>410</td>\n",
       "    </tr>\n",
       "    <tr>\n",
       "      <th>161</th>\n",
       "      <td>313</td>\n",
       "    </tr>\n",
       "    <tr>\n",
       "      <th>62</th>\n",
       "      <td>247</td>\n",
       "    </tr>\n",
       "    <tr>\n",
       "      <th>35</th>\n",
       "      <td>241</td>\n",
       "    </tr>\n",
       "    <tr>\n",
       "      <th>...</th>\n",
       "      <td>...</td>\n",
       "    </tr>\n",
       "    <tr>\n",
       "      <th>0</th>\n",
       "      <td>16</td>\n",
       "    </tr>\n",
       "    <tr>\n",
       "      <th>213</th>\n",
       "      <td>16</td>\n",
       "    </tr>\n",
       "    <tr>\n",
       "      <th>191</th>\n",
       "      <td>16</td>\n",
       "    </tr>\n",
       "    <tr>\n",
       "      <th>261</th>\n",
       "      <td>15</td>\n",
       "    </tr>\n",
       "    <tr>\n",
       "      <th>195</th>\n",
       "      <td>15</td>\n",
       "    </tr>\n",
       "  </tbody>\n",
       "</table>\n",
       "<p>384 rows × 1 columns</p>\n",
       "</div>"
      ],
      "text/plain": [
       "         product\n",
       "cluster         \n",
       "-1          9757\n",
       " 209         410\n",
       " 161         313\n",
       " 62          247\n",
       " 35          241\n",
       "...          ...\n",
       " 0            16\n",
       " 213          16\n",
       " 191          16\n",
       " 261          15\n",
       " 195          15\n",
       "\n",
       "[384 rows x 1 columns]"
      ]
     },
     "execution_count": 123,
     "metadata": {},
     "output_type": "execute_result"
    }
   ],
   "source": [
    "res.groupby('cluster').count().sort_values('product', ascending=False)"
   ]
  },
  {
   "cell_type": "code",
   "execution_count": 129,
   "id": "442755be-afe9-4be7-8d52-664706a09225",
   "metadata": {},
   "outputs": [
    {
     "data": {
      "text/html": [
       "<div>\n",
       "<style scoped>\n",
       "    .dataframe tbody tr th:only-of-type {\n",
       "        vertical-align: middle;\n",
       "    }\n",
       "\n",
       "    .dataframe tbody tr th {\n",
       "        vertical-align: top;\n",
       "    }\n",
       "\n",
       "    .dataframe thead th {\n",
       "        text-align: right;\n",
       "    }\n",
       "</style>\n",
       "<table border=\"1\" class=\"dataframe\">\n",
       "  <thead>\n",
       "    <tr style=\"text-align: right;\">\n",
       "      <th></th>\n",
       "      <th>product</th>\n",
       "      <th>cluster</th>\n",
       "    </tr>\n",
       "  </thead>\n",
       "  <tbody>\n",
       "    <tr>\n",
       "      <th>290</th>\n",
       "      <td>Swimline Inflatable 36-Inch Classic Rainbow Be...</td>\n",
       "      <td>277</td>\n",
       "    </tr>\n",
       "    <tr>\n",
       "      <th>381</th>\n",
       "      <td>Swimline Vinyl Sidebyside Inflatable Pool Floa...</td>\n",
       "      <td>277</td>\n",
       "    </tr>\n",
       "    <tr>\n",
       "      <th>641</th>\n",
       "      <td>Swimline Vinyl Ultimate Super-Sized Mattress P...</td>\n",
       "      <td>277</td>\n",
       "    </tr>\n",
       "    <tr>\n",
       "      <th>1670</th>\n",
       "      <td>SwimWays Spring Float Graphic Prints - Pink Tr...</td>\n",
       "      <td>277</td>\n",
       "    </tr>\n",
       "    <tr>\n",
       "      <th>1758</th>\n",
       "      <td>Swimline Water Wheel Inflatable Pool Toy</td>\n",
       "      <td>277</td>\n",
       "    </tr>\n",
       "    <tr>\n",
       "      <th>...</th>\n",
       "      <td>...</td>\n",
       "      <td>...</td>\n",
       "    </tr>\n",
       "    <tr>\n",
       "      <th>26073</th>\n",
       "      <td>Vp Components No Float Cleat</td>\n",
       "      <td>277</td>\n",
       "    </tr>\n",
       "    <tr>\n",
       "      <th>26567</th>\n",
       "      <td>Swimline Inflatable YOLO Swimming Pool Backyar...</td>\n",
       "      <td>277</td>\n",
       "    </tr>\n",
       "    <tr>\n",
       "      <th>28207</th>\n",
       "      <td>Intex Kiddie Pool - Kid\\s Summer Sunset Glow D...</td>\n",
       "      <td>277</td>\n",
       "    </tr>\n",
       "    <tr>\n",
       "      <th>29798</th>\n",
       "      <td>Intex Vinyl Sit N Inflatable Tube Pool Float, ...</td>\n",
       "      <td>277</td>\n",
       "    </tr>\n",
       "    <tr>\n",
       "      <th>29905</th>\n",
       "      <td>Barbie Glam Pool</td>\n",
       "      <td>277</td>\n",
       "    </tr>\n",
       "  </tbody>\n",
       "</table>\n",
       "<p>67 rows × 2 columns</p>\n",
       "</div>"
      ],
      "text/plain": [
       "                                                 product  cluster\n",
       "290    Swimline Inflatable 36-Inch Classic Rainbow Be...      277\n",
       "381    Swimline Vinyl Sidebyside Inflatable Pool Floa...      277\n",
       "641    Swimline Vinyl Ultimate Super-Sized Mattress P...      277\n",
       "1670   SwimWays Spring Float Graphic Prints - Pink Tr...      277\n",
       "1758            Swimline Water Wheel Inflatable Pool Toy      277\n",
       "...                                                  ...      ...\n",
       "26073                       Vp Components No Float Cleat      277\n",
       "26567  Swimline Inflatable YOLO Swimming Pool Backyar...      277\n",
       "28207  Intex Kiddie Pool - Kid\\s Summer Sunset Glow D...      277\n",
       "29798  Intex Vinyl Sit N Inflatable Tube Pool Float, ...      277\n",
       "29905                                   Barbie Glam Pool      277\n",
       "\n",
       "[67 rows x 2 columns]"
      ]
     },
     "execution_count": 129,
     "metadata": {},
     "output_type": "execute_result"
    }
   ],
   "source": [
    "mask = res['cluster'] == 277\n",
    "res[mask]"
   ]
  },
  {
   "cell_type": "code",
   "execution_count": 130,
   "id": "9f711841-45c8-4b89-8501-1635cb7c8fac",
   "metadata": {},
   "outputs": [
    {
     "data": {
      "text/plain": [
       "['Swimline Inflatable 36-Inch Classic Rainbow Beach Ball For Pool/Lake | 90036',\n",
       " 'Swimline Vinyl Sidebyside Inflatable Pool Float, Purple',\n",
       " 'Swimline Vinyl Ultimate Super-Sized Mattress Pool Float, Blue',\n",
       " 'SwimWays Spring Float Graphic Prints - Pink Tropical Hibiscus',\n",
       " 'Swimline Water Wheel Inflatable Pool Toy',\n",
       " 'Intex Outdoor Inflatable Family and Kids Swimming Pool Swim Center, Mandarin',\n",
       " 'Heavy-Duty 4 x 8 Winterizing Air Pillow for Above-Ground Swimming Pools',\n",
       " 'California Sun Deluxe Oversized Unsinkable Foam Cushion Pool Float',\n",
       " 'Swimline Giant LED Light-Up Swan Float for Swimming Pools',\n",
       " 'Summer Waves Large Golden Giant Ride On Swan Inflatable Swimming Pool Float Raft',\n",
       " '59\" Clear and Blue Inflatable Sea Life 3 Ring Swimming Pool for Children',\n",
       " 'Inflatable Popsicle Pool Lounge',\n",
       " 'SwimWays Baby Spring Float Activity Canopy',\n",
       " 'Intex Palm Leaf Mat Floating Pool Lounge',\n",
       " 'My Sunshine Animal Split Ring Float',\n",
       " 'Swim Central 22\" Water Sports Underwater Slalom Hoops Course Swimming Pool Kids Game - Green',\n",
       " 'SwimWays Spring Float Paddle Paws Dog Pool Float - Large (65 lbs and Up)',\n",
       " 'GoPong Inflatable Swimming Pool Party Barge Floating Beer Pong Drinking Table with Cooler, White, 6 Float',\n",
       " 'ALEKO BSTENT250R Summer Canopy Boat Tent Sun Shelter Sunshade for Inflatable Boats, Red',\n",
       " 'Summer Waves Inflatable Jungle Play Center Pool with Slide, 101\" x 75\" x 50\"',\n",
       " 'Intex Inflatable 2-Seat Swim Center Family Lounge Pool',\n",
       " 'Intex 66\" Round Watermelon Kids Swimming Wading Pool',\n",
       " 'BigMouth Inc Giant Inflatable Avocado Pool Float, Durable Fun Pool Tube with Patch Kit Included',\n",
       " 'Solstice Vinyl Convertible Duo Love Seat Pool Float, Blue',\n",
       " 'Intex Vinyl Strawberry Inflatable Island Pool Float',\n",
       " 'Intex Marina Breeze Island for Swimming Pools',\n",
       " 'Swimline Inflatable Unicorm Baby Floating Lounger Raft Float for Swimming Pool',\n",
       " 'Summer Waves Inflatable Butterfly Shade Baby Pool, Pink',\n",
       " 'Intex Froggy Friend Toddler Pool Float with Canopy',\n",
       " 'Texas Recreation Serenity Swimming Foam Pool Floating Mattress, Coral, 1.5\" Thick',\n",
       " 'Solstice Malibu Mattress StyleFloat for Swimming Pools',\n",
       " 'Inflatable Kiddie Pool, Ball Pool, Family Kids Water Play Fun In Summer 39in',\n",
       " '2-Pack Of Intex Sit N Float Classic Inflatable Floating Loungers | 2 x 58859EP',\n",
       " 'GoFloats Inflatable Flamingo Drink Holder, 3-Pack, Float your drinks in style',\n",
       " 'SwimWays 6044161-SW Eaten Alive Inflatable Shark Pool Float for Ages 5 and Up',\n",
       " 'Margaritaville Inflatable Cabana Chair Lounge Raft Float with Canopy Sun Shade',\n",
       " 'Blue Wave 3D Inflatable 7.5-ft Round 22-in Deep Family Swimming Pool',\n",
       " 'Intex Inflatable Flamingo Ride On Pool Float, 56\" x 54\" x 38\"',\n",
       " '78\" Inflatable Blue Camouflage Round Jumbo Sumo Swimming Pool Raft Lounger',\n",
       " 'Water Wings Pool Float Swimming Aid for Children',\n",
       " 'Summer Waves LED Frosted Pink Inflatable Flamingo Swimming Pool Float (2 Pack)',\n",
       " 'Intex Popsicle Float for Swimming Pools',\n",
       " 'Bestway Vinyl Pop Rhino Pool Float, Multicolor',\n",
       " 'Swimline Vinyl Wildthings Cheetah Inflatable Pool Float, Multicolor',\n",
       " 'Bobby Garland Crappie BSSW249-15 Glow Electric Chicken 2.25\" Baby Shad Swimmer',\n",
       " 'Intex Giant Inflatable Emoji Cool Guy Island Lounger Ride-On Swimming Pool Float',\n",
       " '(2 Pack) 47 Inflatable Giant Donut Swimming Tube Rings, Pool Floats and Loungers for Adults and Kids',\n",
       " 'Foam Ring Pool Buoy',\n",
       " 'Summer Waves 6ft x 20in Inflatable Frog Character Quick Set Swimming Pool, Green',\n",
       " 'Gladon AG100 Waveless Wall Foam 1-8 in.by 48 in. by 100 in.for Swimming Pool',\n",
       " 'Pool Central 2pc Boat and Airplane Inflatable Childrens Swimming Pool Arm Floats - Yellow/White - 12\"',\n",
       " 'SPA PARTY POOL',\n",
       " 'Swimline Vinyl Giant Inflatable Peacock with Backrest Pool Float, Multicolor',\n",
       " 'GoFloats Duck Party Tube Inflatable Swimming Pool Raft, Float In Style (for Adults and Kids)',\n",
       " 'Swimline Swimming Pool Ride-On Shark Float Inflatable Toy Lounge 72-inch | 9045',\n",
       " 'Spiralin Seas Waterpark',\n",
       " 'TRC Recreation Super Soft SOL Float, Orange Breeze',\n",
       " 'Swimline Pool Pizza Slice',\n",
       " 'Summer Waves Above Ground, Summer Waves Pool, LED Inflatable Rocking Chair (4)',\n",
       " 'FINIS Foam Floating Island Large Pool Float',\n",
       " 'H2OGO! Inflatable Rainbow Play Kids Swimming Pool',\n",
       " 'H2OGO! Pop Stingray Inflatable Island',\n",
       " 'Vp Components No Float Cleat',\n",
       " 'Swimline Inflatable YOLO Swimming Pool Backyard Fun Raft Float Toy Tube (2 Pack)',\n",
       " 'Intex Kiddie Pool - Kid\\\\s Summer Sunset Glow Design - 58\\\\\" x 13\\\\\"',\n",
       " 'Intex Vinyl Sit N Inflatable Tube Pool Float, Yellow',\n",
       " 'Barbie Glam Pool']"
      ]
     },
     "execution_count": 130,
     "metadata": {},
     "output_type": "execute_result"
    }
   ],
   "source": [
    "[p for p in res.loc[mask, 'product']]"
   ]
  },
  {
   "cell_type": "code",
   "execution_count": 131,
   "id": "a71fa2b5-5391-42df-bd97-b399ee5b1a4c",
   "metadata": {},
   "outputs": [],
   "source": [
    "from sklearn.feature_extraction.text import TfidfVectorizer, CountVectorizer"
   ]
  },
  {
   "cell_type": "code",
   "execution_count": 132,
   "id": "282454ed-9888-4bbb-91ed-8726dafdd170",
   "metadata": {},
   "outputs": [],
   "source": [
    "tf = TfidfVectorizer()\n",
    "z = tf.fit_transform([p for p in res.loc[mask, 'product']])"
   ]
  },
  {
   "cell_type": "code",
   "execution_count": 133,
   "id": "242a26e1-87d3-49c4-a559-d85260454c76",
   "metadata": {},
   "outputs": [
    {
     "data": {
      "text/html": [
       "<div>\n",
       "<style scoped>\n",
       "    .dataframe tbody tr th:only-of-type {\n",
       "        vertical-align: middle;\n",
       "    }\n",
       "\n",
       "    .dataframe tbody tr th {\n",
       "        vertical-align: top;\n",
       "    }\n",
       "\n",
       "    .dataframe thead th {\n",
       "        text-align: right;\n",
       "    }\n",
       "</style>\n",
       "<table border=\"1\" class=\"dataframe\">\n",
       "  <thead>\n",
       "    <tr style=\"text-align: right;\">\n",
       "      <th></th>\n",
       "      <th>TF-IDF</th>\n",
       "    </tr>\n",
       "  </thead>\n",
       "  <tbody>\n",
       "    <tr>\n",
       "      <th>36</th>\n",
       "      <td>0.349398</td>\n",
       "    </tr>\n",
       "    <tr>\n",
       "      <th>beach</th>\n",
       "      <td>0.349398</td>\n",
       "    </tr>\n",
       "    <tr>\n",
       "      <th>90036</th>\n",
       "      <td>0.349398</td>\n",
       "    </tr>\n",
       "    <tr>\n",
       "      <th>lake</th>\n",
       "      <td>0.349398</td>\n",
       "    </tr>\n",
       "    <tr>\n",
       "      <th>rainbow</th>\n",
       "      <td>0.318100</td>\n",
       "    </tr>\n",
       "  </tbody>\n",
       "</table>\n",
       "</div>"
      ],
      "text/plain": [
       "           TF-IDF\n",
       "36       0.349398\n",
       "beach    0.349398\n",
       "90036    0.349398\n",
       "lake     0.349398\n",
       "rainbow  0.318100"
      ]
     },
     "execution_count": 133,
     "metadata": {},
     "output_type": "execute_result"
    }
   ],
   "source": [
    "topics = pd.DataFrame(\n",
    "    z[0].T.todense(),\n",
    "    index=tf.get_feature_names_out(),\n",
    "    columns=[\"TF-IDF\"]\n",
    ").sort_values('TF-IDF',ascending=False)\n",
    "\n",
    "topics.head()"
   ]
  },
  {
   "cell_type": "code",
   "execution_count": null,
   "id": "ed183726-47cd-4e84-913e-d3f86964c608",
   "metadata": {},
   "outputs": [],
   "source": []
  }
 ],
 "metadata": {
  "kernelspec": {
   "display_name": "Python 3 (ipykernel)",
   "language": "python",
   "name": "python3"
  },
  "language_info": {
   "codemirror_mode": {
    "name": "ipython",
    "version": 3
   },
   "file_extension": ".py",
   "mimetype": "text/x-python",
   "name": "python",
   "nbconvert_exporter": "python",
   "pygments_lexer": "ipython3",
   "version": "3.9.15"
  }
 },
 "nbformat": 4,
 "nbformat_minor": 5
}
