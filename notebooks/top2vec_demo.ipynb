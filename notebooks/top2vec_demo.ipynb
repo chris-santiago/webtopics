{
 "cells": [
  {
   "cell_type": "code",
   "execution_count": 1,
   "id": "a1cb0bdd-12ef-47b9-9a89-58566adb809a",
   "metadata": {},
   "outputs": [
    {
     "name": "stderr",
     "output_type": "stream",
     "text": [
      "/home/ajhergenroeder/anaconda3/envs/webtopics/lib/python3.9/site-packages/tqdm/auto.py:22: TqdmWarning: IProgress not found. Please update jupyter and ipywidgets. See https://ipywidgets.readthedocs.io/en/stable/user_install.html\n",
      "  from .autonotebook import tqdm as notebook_tqdm\n"
     ]
    }
   ],
   "source": [
    "from top2vec import Top2Vec\n",
    "from sklearn.datasets import fetch_20newsgroups"
   ]
  },
  {
   "cell_type": "code",
   "execution_count": 2,
   "id": "3af683eb-0178-4ee2-9c7a-0545d8043042",
   "metadata": {},
   "outputs": [
    {
     "name": "stderr",
     "output_type": "stream",
     "text": [
      "2023-01-25 15:27:22,023 - top2vec - INFO - Pre-processing documents for training\n",
      "2023-01-25 15:27:25,574 - top2vec - INFO - Creating joint document/word embedding\n",
      "2023-01-25 15:29:01,639 - top2vec - INFO - Creating lower dimension embedding of documents\n",
      "2023-01-25 15:29:14,921 - top2vec - INFO - Finding dense areas of documents\n",
      "2023-01-25 15:29:15,750 - top2vec - INFO - Finding topics\n"
     ]
    }
   ],
   "source": [
    "newsgroups = fetch_20newsgroups(subset='all', remove=('headers', 'footers', 'quotes'))\n",
    "\n",
    "model = Top2Vec(documents=newsgroups.data, speed=\"fast-learn\", workers=6)"
   ]
  },
  {
   "cell_type": "code",
   "execution_count": 3,
   "id": "911585eb-5903-4f8a-bf12-e28b125576eb",
   "metadata": {},
   "outputs": [
    {
     "data": {
      "text/plain": [
       "72"
      ]
     },
     "execution_count": 3,
     "metadata": {},
     "output_type": "execute_result"
    }
   ],
   "source": [
    "model.get_num_topics()"
   ]
  },
  {
   "cell_type": "code",
   "execution_count": 4,
   "id": "6ac3d56d-4277-4678-b588-aeb677200af5",
   "metadata": {},
   "outputs": [],
   "source": [
    "topic_sizes, topic_nums = model.get_topic_sizes()"
   ]
  },
  {
   "cell_type": "code",
   "execution_count": 5,
   "id": "f025ea0a-0f7c-4112-b353-70482b9ce5e5",
   "metadata": {},
   "outputs": [
    {
     "data": {
      "text/plain": [
       "array([1503, 1247, 1043,  740,  738,  696,  627,  571,  566,  529,  504,\n",
       "        488,  465,  450,  412,  379,  362,  359,  351,  343,  340,  315,\n",
       "        313,  309,  263,  257,  230,  221,  212,  210,  186,  175,  172,\n",
       "        170,  155,  154,  144,  139,  132,  124,  122,  109,  104,  100,\n",
       "        100,   99,   96,   93,   91,   85,   81,   77,   75,   74,   71,\n",
       "         70,   68,   68,   68,   66,   64,   55,   54,   52,   51,   50,\n",
       "         43,   37,   34,   33,   31,   31])"
      ]
     },
     "execution_count": 5,
     "metadata": {},
     "output_type": "execute_result"
    }
   ],
   "source": [
    "topic_sizes"
   ]
  },
  {
   "cell_type": "code",
   "execution_count": 6,
   "id": "5b4f6a54-0209-4ce3-8208-03a1569c9be7",
   "metadata": {},
   "outputs": [
    {
     "data": {
      "text/plain": [
       "array([ 0,  1,  2,  3,  4,  5,  6,  7,  8,  9, 10, 11, 12, 13, 14, 15, 16,\n",
       "       17, 18, 19, 20, 21, 22, 23, 24, 25, 26, 27, 28, 29, 30, 31, 32, 33,\n",
       "       34, 35, 36, 37, 38, 39, 40, 41, 42, 43, 44, 45, 46, 47, 48, 49, 50,\n",
       "       51, 52, 53, 54, 55, 56, 57, 58, 59, 60, 61, 62, 63, 64, 65, 66, 67,\n",
       "       68, 69, 70, 71])"
      ]
     },
     "execution_count": 6,
     "metadata": {},
     "output_type": "execute_result"
    }
   ],
   "source": [
    "topic_nums"
   ]
  },
  {
   "cell_type": "code",
   "execution_count": 7,
   "id": "d22ff8b8-af2f-4f09-8d57-8a4748f6a861",
   "metadata": {},
   "outputs": [
    {
     "ename": "ValueError",
     "evalue": "num_topics cannot exceed the number of topics: 72.",
     "output_type": "error",
     "traceback": [
      "\u001b[0;31m---------------------------------------------------------------------------\u001b[0m",
      "\u001b[0;31mValueError\u001b[0m                                Traceback (most recent call last)",
      "Cell \u001b[0;32mIn[7], line 1\u001b[0m\n\u001b[0;32m----> 1\u001b[0m topic_words, word_scores, topic_nums \u001b[38;5;241m=\u001b[39m \u001b[43mmodel\u001b[49m\u001b[38;5;241;43m.\u001b[39;49m\u001b[43mget_topics\u001b[49m\u001b[43m(\u001b[49m\u001b[38;5;241;43m77\u001b[39;49m\u001b[43m)\u001b[49m\n",
      "File \u001b[0;32m~/anaconda3/envs/webtopics/lib/python3.9/site-packages/top2vec/Top2Vec.py:1747\u001b[0m, in \u001b[0;36mTop2Vec.get_topics\u001b[0;34m(self, num_topics, reduced)\u001b[0m\n\u001b[1;32m   1745\u001b[0m     num_topics \u001b[38;5;241m=\u001b[39m \u001b[38;5;28mlen\u001b[39m(\u001b[38;5;28mself\u001b[39m\u001b[38;5;241m.\u001b[39mtopic_vectors)\n\u001b[1;32m   1746\u001b[0m \u001b[38;5;28;01melse\u001b[39;00m:\n\u001b[0;32m-> 1747\u001b[0m     \u001b[38;5;28;43mself\u001b[39;49m\u001b[38;5;241;43m.\u001b[39;49m\u001b[43m_validate_num_topics\u001b[49m\u001b[43m(\u001b[49m\u001b[43mnum_topics\u001b[49m\u001b[43m,\u001b[49m\u001b[43m \u001b[49m\u001b[43mreduced\u001b[49m\u001b[43m)\u001b[49m\n\u001b[1;32m   1749\u001b[0m \u001b[38;5;28;01mreturn\u001b[39;00m \u001b[38;5;28mself\u001b[39m\u001b[38;5;241m.\u001b[39mtopic_words[\u001b[38;5;241m0\u001b[39m:num_topics], \u001b[38;5;28mself\u001b[39m\u001b[38;5;241m.\u001b[39mtopic_word_scores[\u001b[38;5;241m0\u001b[39m:num_topics], np\u001b[38;5;241m.\u001b[39marray(\u001b[38;5;28mrange\u001b[39m(\u001b[38;5;241m0\u001b[39m, num_topics))\n",
      "File \u001b[0;32m~/anaconda3/envs/webtopics/lib/python3.9/site-packages/top2vec/Top2Vec.py:1163\u001b[0m, in \u001b[0;36mTop2Vec._validate_num_topics\u001b[0;34m(self, num_topics, reduced)\u001b[0m\n\u001b[1;32m   1161\u001b[0m topic_count \u001b[38;5;241m=\u001b[39m \u001b[38;5;28mlen\u001b[39m(\u001b[38;5;28mself\u001b[39m\u001b[38;5;241m.\u001b[39mtopic_vectors)\n\u001b[1;32m   1162\u001b[0m \u001b[38;5;28;01mif\u001b[39;00m num_topics \u001b[38;5;241m>\u001b[39m topic_count:\n\u001b[0;32m-> 1163\u001b[0m     \u001b[38;5;28;01mraise\u001b[39;00m \u001b[38;5;167;01mValueError\u001b[39;00m(\u001b[38;5;124mf\u001b[39m\u001b[38;5;124m\"\u001b[39m\u001b[38;5;124mnum_topics cannot exceed the number of topics: \u001b[39m\u001b[38;5;132;01m{\u001b[39;00mtopic_count\u001b[38;5;132;01m}\u001b[39;00m\u001b[38;5;124m.\u001b[39m\u001b[38;5;124m\"\u001b[39m)\n",
      "\u001b[0;31mValueError\u001b[0m: num_topics cannot exceed the number of topics: 72."
     ]
    }
   ],
   "source": [
    "topic_words, word_scores, topic_nums = model.get_topics(77)"
   ]
  },
  {
   "cell_type": "code",
   "execution_count": null,
   "id": "c6ee0b38-7fc0-4160-9dcc-21a36bdd5dd3",
   "metadata": {},
   "outputs": [],
   "source": [
    "topic_words, word_scores, topic_scores, topic_nums = model.search_topics(keywords=[\"medicine\"], num_topics=5)\n",
    "for topic in topic_nums:\n",
    "    model.generate_topic_wordcloud(topic)"
   ]
  },
  {
   "cell_type": "code",
   "execution_count": null,
   "id": "2b1637e4-dfdb-4ccd-83d5-64fe3c851f44",
   "metadata": {},
   "outputs": [],
   "source": [
    "documents, document_scores, document_ids = model.search_documents_by_topic(topic_num=48, num_docs=5)"
   ]
  },
  {
   "cell_type": "code",
   "execution_count": null,
   "id": "c2d54081-7383-41c8-b8dc-9476d23742a9",
   "metadata": {},
   "outputs": [],
   "source": [
    "documents, document_scores, document_ids = model.search_documents_by_topic(topic_num=48, num_docs=5)\n",
    "for doc, score, doc_id in zip(documents, document_scores, document_ids):\n",
    "    print(f\"Document: {doc_id}, Score: {score}\")\n",
    "    print(\"-----------\")\n",
    "    print(doc)\n",
    "    print(\"-----------\")\n",
    "    print()"
   ]
  },
  {
   "cell_type": "code",
   "execution_count": null,
   "id": "90bf6294-90a1-4407-9fbe-07fe700a1b05",
   "metadata": {},
   "outputs": [],
   "source": [
    "documents, document_scores, document_ids = model.search_documents_by_keywords(keywords=[\"cryptography\", \"privacy\"], num_docs=5)\n",
    "for doc, score, doc_id in zip(documents, document_scores, document_ids):\n",
    "    print(f\"Document: {doc_id}, Score: {score}\")\n",
    "    print(\"-----------\")\n",
    "    print(doc)\n",
    "    print(\"-----------\")\n",
    "    print()"
   ]
  },
  {
   "cell_type": "code",
   "execution_count": null,
   "id": "d98d83c7-1492-4c4e-bd46-6a4ea1196571",
   "metadata": {},
   "outputs": [],
   "source": [
    "words, word_scores = model.similar_words(keywords=[\"space\"], keywords_neg=[], num_words=20)\n",
    "for word, score in zip(words, word_scores):\n",
    "    print(f\"{word} {score}\")"
   ]
  },
  {
   "cell_type": "code",
   "execution_count": null,
   "id": "81e63d43-19b7-4657-a102-0604edc9a3a5",
   "metadata": {},
   "outputs": [],
   "source": []
  }
 ],
 "metadata": {
  "kernelspec": {
   "display_name": "webtopics",
   "language": "python",
   "name": "webtopics"
  },
  "language_info": {
   "codemirror_mode": {
    "name": "ipython",
    "version": 3
   },
   "file_extension": ".py",
   "mimetype": "text/x-python",
   "name": "python",
   "nbconvert_exporter": "python",
   "pygments_lexer": "ipython3",
   "version": "3.9.15"
  }
 },
 "nbformat": 4,
 "nbformat_minor": 5
}
