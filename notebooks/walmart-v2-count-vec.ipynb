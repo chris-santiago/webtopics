{
 "cells": [
  {
   "cell_type": "markdown",
   "id": "1bbb4bbc-c9e3-4cdc-a9dc-a08165e66880",
   "metadata": {},
   "source": [
    "# Prelimniaries"
   ]
  },
  {
   "cell_type": "code",
   "execution_count": 1,
   "id": "0aaf81a5-6cc6-4598-be20-5682fec2ddf9",
   "metadata": {},
   "outputs": [
    {
     "name": "stderr",
     "output_type": "stream",
     "text": [
      "/home/ajhergenroeder/anaconda3/envs/webtopics/lib/python3.9/site-packages/tqdm/auto.py:22: TqdmWarning: IProgress not found. Please update jupyter and ipywidgets. See https://ipywidgets.readthedocs.io/en/stable/user_install.html\n",
      "  from .autonotebook import tqdm as notebook_tqdm\n"
     ]
    }
   ],
   "source": [
    "import numpy as np\n",
    "import pandas as pd\n",
    "from sentence_transformers import SentenceTransformer\n",
    "import umap\n",
    "import hdbscan\n",
    "from sklearn.preprocessing import StandardScaler"
   ]
  },
  {
   "cell_type": "markdown",
   "id": "ef09a417-ec02-4e8e-8b1f-96dd5cee5e17",
   "metadata": {},
   "source": [
    "# Data"
   ]
  },
  {
   "cell_type": "code",
   "execution_count": 2,
   "id": "c5bffc42-94d1-4a26-913c-83ca3ba3a23f",
   "metadata": {},
   "outputs": [],
   "source": [
    "data = pd.read_parquet('../data/marketing_sample_walmart.parq.gzip')"
   ]
  },
  {
   "cell_type": "code",
   "execution_count": 3,
   "id": "1628b433-2735-4546-84cb-e9ecc1b8e648",
   "metadata": {},
   "outputs": [
    {
     "data": {
      "text/html": [
       "<div>\n",
       "<style scoped>\n",
       "    .dataframe tbody tr th:only-of-type {\n",
       "        vertical-align: middle;\n",
       "    }\n",
       "\n",
       "    .dataframe tbody tr th {\n",
       "        vertical-align: top;\n",
       "    }\n",
       "\n",
       "    .dataframe thead th {\n",
       "        text-align: right;\n",
       "    }\n",
       "</style>\n",
       "<table border=\"1\" class=\"dataframe\">\n",
       "  <thead>\n",
       "    <tr style=\"text-align: right;\">\n",
       "      <th></th>\n",
       "      <th>Uniq Id</th>\n",
       "      <th>Crawl Timestamp</th>\n",
       "      <th>Product Url</th>\n",
       "      <th>Product Name</th>\n",
       "      <th>Description</th>\n",
       "      <th>List Price</th>\n",
       "      <th>Sale Price</th>\n",
       "      <th>Brand</th>\n",
       "      <th>Item Number</th>\n",
       "      <th>Gtin</th>\n",
       "      <th>Package Size</th>\n",
       "      <th>Category</th>\n",
       "      <th>Postal Code</th>\n",
       "      <th>Available</th>\n",
       "    </tr>\n",
       "  </thead>\n",
       "  <tbody>\n",
       "    <tr>\n",
       "      <th>0</th>\n",
       "      <td>51b010b871cde349bd32159a1cc1a15f</td>\n",
       "      <td>2020-01-24 16:08:36 +0000</td>\n",
       "      <td>https://www.walmart.com/ip/Allegiance-Economy-...</td>\n",
       "      <td>Allegiance Economy Dual-scale Digital Thermometer</td>\n",
       "      <td>We aim to show you accurate product informati...</td>\n",
       "      <td>11.11</td>\n",
       "      <td>11.11</td>\n",
       "      <td>Cardinal Health</td>\n",
       "      <td>NaN</td>\n",
       "      <td>707389636164</td>\n",
       "      <td>NaN</td>\n",
       "      <td>Health | Medicine Cabinet | Thermometers | Dig...</td>\n",
       "      <td>NaN</td>\n",
       "      <td>True</td>\n",
       "    </tr>\n",
       "    <tr>\n",
       "      <th>1</th>\n",
       "      <td>d6a7f100e44a626a3701804e99236ad6</td>\n",
       "      <td>2020-01-24 15:54:21 +0000</td>\n",
       "      <td>https://www.walmart.com/ip/Kenneth-Cole-Reacti...</td>\n",
       "      <td>Kenneth Cole Reaction Eau De Parfum Spray For ...</td>\n",
       "      <td>We aim to show you accurate product informati...</td>\n",
       "      <td>23.99</td>\n",
       "      <td>23.99</td>\n",
       "      <td>Kenneth Cole</td>\n",
       "      <td>NaN</td>\n",
       "      <td>191565696101</td>\n",
       "      <td>NaN</td>\n",
       "      <td>Premium Beauty | Premium Fragrance | Premium P...</td>\n",
       "      <td>NaN</td>\n",
       "      <td>True</td>\n",
       "    </tr>\n",
       "    <tr>\n",
       "      <th>2</th>\n",
       "      <td>99d2b7da7e3e427a942f864937dacd9d</td>\n",
       "      <td>2020-01-24 18:34:28 +0000</td>\n",
       "      <td>https://www.walmart.com/ip/Kid-Tough-Fitness-I...</td>\n",
       "      <td>Kid Tough Fitness Inflatable Free-Standing Pun...</td>\n",
       "      <td>We aim to show you accurate product informati...</td>\n",
       "      <td>30.76</td>\n",
       "      <td>30.76</td>\n",
       "      <td>BONK FIT</td>\n",
       "      <td>563852139.0</td>\n",
       "      <td>855523007070</td>\n",
       "      <td>NaN</td>\n",
       "      <td>Sports &amp; Outdoors | Outdoor Sports | Hunting |...</td>\n",
       "      <td>NaN</td>\n",
       "      <td>True</td>\n",
       "    </tr>\n",
       "    <tr>\n",
       "      <th>3</th>\n",
       "      <td>4c76d170c2c6a759cbce812d790a0b88</td>\n",
       "      <td>2020-01-24 11:08:53 +0000</td>\n",
       "      <td>https://www.walmart.com/ip/THE-FIRST-YEARS/167...</td>\n",
       "      <td>THE FIRST YEARS</td>\n",
       "      <td>We aim to show you accurate product informati...</td>\n",
       "      <td>6.99</td>\n",
       "      <td>6.99</td>\n",
       "      <td>The First Years</td>\n",
       "      <td>553299941.0</td>\n",
       "      <td>71463046263</td>\n",
       "      <td>NaN</td>\n",
       "      <td>Baby | Diapering | Baby Wipes</td>\n",
       "      <td>NaN</td>\n",
       "      <td>True</td>\n",
       "    </tr>\n",
       "    <tr>\n",
       "      <th>4</th>\n",
       "      <td>8ac95837dc8baa01e504fd8f633ffaf2</td>\n",
       "      <td>2020-03-10 07:37:21 +0000</td>\n",
       "      <td>https://www.walmart.com/ip/4-Pack-MD-USA-Seaml...</td>\n",
       "      <td>4 Pack - MD USA Seamless Toe-Wave-In Mesh Diab...</td>\n",
       "      <td>We aim to show you accurate product informatio...</td>\n",
       "      <td>28.27</td>\n",
       "      <td>28.27</td>\n",
       "      <td>MD USA</td>\n",
       "      <td>NaN</td>\n",
       "      <td>191897514500</td>\n",
       "      <td>NaN</td>\n",
       "      <td>Health | Diabetes Care | Diabetic Socks</td>\n",
       "      <td>NaN</td>\n",
       "      <td>True</td>\n",
       "    </tr>\n",
       "  </tbody>\n",
       "</table>\n",
       "</div>"
      ],
      "text/plain": [
       "                            Uniq Id            Crawl Timestamp  \\\n",
       "0  51b010b871cde349bd32159a1cc1a15f  2020-01-24 16:08:36 +0000   \n",
       "1  d6a7f100e44a626a3701804e99236ad6  2020-01-24 15:54:21 +0000   \n",
       "2  99d2b7da7e3e427a942f864937dacd9d  2020-01-24 18:34:28 +0000   \n",
       "3  4c76d170c2c6a759cbce812d790a0b88  2020-01-24 11:08:53 +0000   \n",
       "4  8ac95837dc8baa01e504fd8f633ffaf2  2020-03-10 07:37:21 +0000   \n",
       "\n",
       "                                         Product Url  \\\n",
       "0  https://www.walmart.com/ip/Allegiance-Economy-...   \n",
       "1  https://www.walmart.com/ip/Kenneth-Cole-Reacti...   \n",
       "2  https://www.walmart.com/ip/Kid-Tough-Fitness-I...   \n",
       "3  https://www.walmart.com/ip/THE-FIRST-YEARS/167...   \n",
       "4  https://www.walmart.com/ip/4-Pack-MD-USA-Seaml...   \n",
       "\n",
       "                                        Product Name  \\\n",
       "0  Allegiance Economy Dual-scale Digital Thermometer   \n",
       "1  Kenneth Cole Reaction Eau De Parfum Spray For ...   \n",
       "2  Kid Tough Fitness Inflatable Free-Standing Pun...   \n",
       "3                                    THE FIRST YEARS   \n",
       "4  4 Pack - MD USA Seamless Toe-Wave-In Mesh Diab...   \n",
       "\n",
       "                                         Description  List Price  Sale Price  \\\n",
       "0   We aim to show you accurate product informati...       11.11       11.11   \n",
       "1   We aim to show you accurate product informati...       23.99       23.99   \n",
       "2   We aim to show you accurate product informati...       30.76       30.76   \n",
       "3   We aim to show you accurate product informati...        6.99        6.99   \n",
       "4  We aim to show you accurate product informatio...       28.27       28.27   \n",
       "\n",
       "             Brand  Item Number          Gtin  Package Size  \\\n",
       "0  Cardinal Health          NaN  707389636164           NaN   \n",
       "1     Kenneth Cole          NaN  191565696101           NaN   \n",
       "2         BONK FIT  563852139.0  855523007070           NaN   \n",
       "3  The First Years  553299941.0   71463046263           NaN   \n",
       "4           MD USA          NaN  191897514500           NaN   \n",
       "\n",
       "                                            Category  Postal Code  Available  \n",
       "0  Health | Medicine Cabinet | Thermometers | Dig...          NaN       True  \n",
       "1  Premium Beauty | Premium Fragrance | Premium P...          NaN       True  \n",
       "2  Sports & Outdoors | Outdoor Sports | Hunting |...          NaN       True  \n",
       "3                      Baby | Diapering | Baby Wipes          NaN       True  \n",
       "4            Health | Diabetes Care | Diabetic Socks          NaN       True  "
      ]
     },
     "execution_count": 3,
     "metadata": {},
     "output_type": "execute_result"
    }
   ],
   "source": [
    "data.head()"
   ]
  },
  {
   "cell_type": "code",
   "execution_count": 4,
   "id": "d70ebf40-7221-4f8f-9828-683b20081e0f",
   "metadata": {},
   "outputs": [
    {
     "data": {
      "text/plain": [
       "(30000, 14)"
      ]
     },
     "execution_count": 4,
     "metadata": {},
     "output_type": "execute_result"
    }
   ],
   "source": [
    "data.shape"
   ]
  },
  {
   "cell_type": "markdown",
   "id": "0e545018-18a2-44f3-9f04-da10b171d16d",
   "metadata": {},
   "source": [
    "Many of these URLs are invalid (two years old), so I'm going to treat the `Product Name` as the title that would've been retrieved from URL HTML.  Otherwise, we would fetch the titles and/or actual HTML content."
   ]
  },
  {
   "cell_type": "code",
   "execution_count": 5,
   "id": "cb315931-aca5-4ebc-a799-32e987b1de8b",
   "metadata": {},
   "outputs": [],
   "source": [
    "products = data['Product Name'].to_list()"
   ]
  },
  {
   "cell_type": "code",
   "execution_count": 6,
   "id": "d113277e-9b5f-4788-b851-0d061ba5311a",
   "metadata": {},
   "outputs": [
    {
     "data": {
      "text/plain": [
       "['Allegiance Economy Dual-scale Digital Thermometer',\n",
       " 'Kenneth Cole Reaction Eau De Parfum Spray For Women 3.40 Oz',\n",
       " 'Kid Tough Fitness Inflatable Free-Standing Punching Bag + Machine Washable Fabric Cover South Carolina Gamecocks Kids Workout Buddy by Bonk Fit',\n",
       " 'THE FIRST YEARS',\n",
       " '4 Pack - MD USA Seamless Toe-Wave-In Mesh Diabetic Crew Socks, Black, Medium, 1 Pair',\n",
       " 'Gerber 2nd Foods Apple Baby Food 4 oz. Tubs 2 Count',\n",
       " 'Kushies Ultra-Lite All-In-One Form-Fitted Washable Cloth Diapers (Blue Whales, Infant)',\n",
       " 'sunmark Stop Smoking Aid 14 mg Strength Transdermal Patch, 70677003101 - Box of 14',\n",
       " 'Berkley PowerBait Glitter Chroma-Glow Dough Fishing Bait',\n",
       " 'Mikasa Rubber Basketball, Intermediate, 28.5']"
      ]
     },
     "execution_count": 6,
     "metadata": {},
     "output_type": "execute_result"
    }
   ],
   "source": [
    "products[:10]"
   ]
  },
  {
   "cell_type": "markdown",
   "id": "cc301510-ea3b-455c-a101-8a736e03b35d",
   "metadata": {},
   "source": [
    "# Embed Product Names"
   ]
  },
  {
   "cell_type": "code",
   "execution_count": 7,
   "id": "ebb2fc33-741b-40d2-b1bb-f4bb5c169ce5",
   "metadata": {},
   "outputs": [
    {
     "name": "stderr",
     "output_type": "stream",
     "text": [
      "Batches: 100%|███████████████████████████████████████████████████████████████████████████████| 938/938 [00:10<00:00, 88.66it/s]\n"
     ]
    }
   ],
   "source": [
    "model = SentenceTransformer('sentence-transformers/all-MiniLM-L6-v2')\n",
    "embeddings = model.encode(products, show_progress_bar=True)"
   ]
  },
  {
   "cell_type": "markdown",
   "id": "dc8d03df-78ed-4c4b-bd04-cea7bcf2c6c1",
   "metadata": {},
   "source": [
    "# Dimensionality Reduction and Clustering"
   ]
  },
  {
   "cell_type": "code",
   "execution_count": 8,
   "id": "e8b763a5-1348-4602-9de2-dfdad0371329",
   "metadata": {},
   "outputs": [],
   "source": [
    "red = umap.UMAP(n_components=int(embeddings.shape[1]*.2), metric='cosine')\n",
    "red_embed = red.fit_transform(embeddings)"
   ]
  },
  {
   "cell_type": "code",
   "execution_count": 9,
   "id": "cd70cc31-9abc-44ae-a8da-1765c066e9bd",
   "metadata": {},
   "outputs": [],
   "source": [
    "sc = StandardScaler()\n",
    "red_embed = sc.fit_transform(red_embed)"
   ]
  },
  {
   "cell_type": "code",
   "execution_count": 10,
   "id": "0ea1e15d-26af-4298-a35c-b6c43c0f093e",
   "metadata": {},
   "outputs": [
    {
     "data": {
      "text/html": [
       "<style>#sk-container-id-1 {color: black;background-color: white;}#sk-container-id-1 pre{padding: 0;}#sk-container-id-1 div.sk-toggleable {background-color: white;}#sk-container-id-1 label.sk-toggleable__label {cursor: pointer;display: block;width: 100%;margin-bottom: 0;padding: 0.3em;box-sizing: border-box;text-align: center;}#sk-container-id-1 label.sk-toggleable__label-arrow:before {content: \"▸\";float: left;margin-right: 0.25em;color: #696969;}#sk-container-id-1 label.sk-toggleable__label-arrow:hover:before {color: black;}#sk-container-id-1 div.sk-estimator:hover label.sk-toggleable__label-arrow:before {color: black;}#sk-container-id-1 div.sk-toggleable__content {max-height: 0;max-width: 0;overflow: hidden;text-align: left;background-color: #f0f8ff;}#sk-container-id-1 div.sk-toggleable__content pre {margin: 0.2em;color: black;border-radius: 0.25em;background-color: #f0f8ff;}#sk-container-id-1 input.sk-toggleable__control:checked~div.sk-toggleable__content {max-height: 200px;max-width: 100%;overflow: auto;}#sk-container-id-1 input.sk-toggleable__control:checked~label.sk-toggleable__label-arrow:before {content: \"▾\";}#sk-container-id-1 div.sk-estimator input.sk-toggleable__control:checked~label.sk-toggleable__label {background-color: #d4ebff;}#sk-container-id-1 div.sk-label input.sk-toggleable__control:checked~label.sk-toggleable__label {background-color: #d4ebff;}#sk-container-id-1 input.sk-hidden--visually {border: 0;clip: rect(1px 1px 1px 1px);clip: rect(1px, 1px, 1px, 1px);height: 1px;margin: -1px;overflow: hidden;padding: 0;position: absolute;width: 1px;}#sk-container-id-1 div.sk-estimator {font-family: monospace;background-color: #f0f8ff;border: 1px dotted black;border-radius: 0.25em;box-sizing: border-box;margin-bottom: 0.5em;}#sk-container-id-1 div.sk-estimator:hover {background-color: #d4ebff;}#sk-container-id-1 div.sk-parallel-item::after {content: \"\";width: 100%;border-bottom: 1px solid gray;flex-grow: 1;}#sk-container-id-1 div.sk-label:hover label.sk-toggleable__label {background-color: #d4ebff;}#sk-container-id-1 div.sk-serial::before {content: \"\";position: absolute;border-left: 1px solid gray;box-sizing: border-box;top: 0;bottom: 0;left: 50%;z-index: 0;}#sk-container-id-1 div.sk-serial {display: flex;flex-direction: column;align-items: center;background-color: white;padding-right: 0.2em;padding-left: 0.2em;position: relative;}#sk-container-id-1 div.sk-item {position: relative;z-index: 1;}#sk-container-id-1 div.sk-parallel {display: flex;align-items: stretch;justify-content: center;background-color: white;position: relative;}#sk-container-id-1 div.sk-item::before, #sk-container-id-1 div.sk-parallel-item::before {content: \"\";position: absolute;border-left: 1px solid gray;box-sizing: border-box;top: 0;bottom: 0;left: 50%;z-index: -1;}#sk-container-id-1 div.sk-parallel-item {display: flex;flex-direction: column;z-index: 1;position: relative;background-color: white;}#sk-container-id-1 div.sk-parallel-item:first-child::after {align-self: flex-end;width: 50%;}#sk-container-id-1 div.sk-parallel-item:last-child::after {align-self: flex-start;width: 50%;}#sk-container-id-1 div.sk-parallel-item:only-child::after {width: 0;}#sk-container-id-1 div.sk-dashed-wrapped {border: 1px dashed gray;margin: 0 0.4em 0.5em 0.4em;box-sizing: border-box;padding-bottom: 0.4em;background-color: white;}#sk-container-id-1 div.sk-label label {font-family: monospace;font-weight: bold;display: inline-block;line-height: 1.2em;}#sk-container-id-1 div.sk-label-container {text-align: center;}#sk-container-id-1 div.sk-container {/* jupyter's `normalize.less` sets `[hidden] { display: none; }` but bootstrap.min.css set `[hidden] { display: none !important; }` so we also need the `!important` here to be able to override the default hidden behavior on the sphinx rendered scikit-learn.org. See: https://github.com/scikit-learn/scikit-learn/issues/21755 */display: inline-block !important;position: relative;}#sk-container-id-1 div.sk-text-repr-fallback {display: none;}</style><div id=\"sk-container-id-1\" class=\"sk-top-container\"><div class=\"sk-text-repr-fallback\"><pre>HDBSCAN(cluster_selection_epsilon=0.25)</pre><b>In a Jupyter environment, please rerun this cell to show the HTML representation or trust the notebook. <br />On GitHub, the HTML representation is unable to render, please try loading this page with nbviewer.org.</b></div><div class=\"sk-container\" hidden><div class=\"sk-item\"><div class=\"sk-estimator sk-toggleable\"><input class=\"sk-toggleable__control sk-hidden--visually\" id=\"sk-estimator-id-1\" type=\"checkbox\" checked><label for=\"sk-estimator-id-1\" class=\"sk-toggleable__label sk-toggleable__label-arrow\">HDBSCAN</label><div class=\"sk-toggleable__content\"><pre>HDBSCAN(cluster_selection_epsilon=0.25)</pre></div></div></div></div></div>"
      ],
      "text/plain": [
       "HDBSCAN(cluster_selection_epsilon=0.25)"
      ]
     },
     "execution_count": 10,
     "metadata": {},
     "output_type": "execute_result"
    }
   ],
   "source": [
    "clust = hdbscan.HDBSCAN(min_cluster_size=5, cluster_selection_epsilon=.25)\n",
    "clust.fit(red_embed)"
   ]
  },
  {
   "cell_type": "code",
   "execution_count": 11,
   "id": "8c8c5d66-4915-4754-bace-52f02819c8de",
   "metadata": {},
   "outputs": [],
   "source": [
    "res = pd.DataFrame({\n",
    "    'product': products,\n",
    "    'cluster': clust.labels_\n",
    "})"
   ]
  },
  {
   "cell_type": "code",
   "execution_count": 12,
   "id": "2b21b61e-3149-4138-b289-6e42d4826575",
   "metadata": {},
   "outputs": [
    {
     "data": {
      "text/html": [
       "<div>\n",
       "<style scoped>\n",
       "    .dataframe tbody tr th:only-of-type {\n",
       "        vertical-align: middle;\n",
       "    }\n",
       "\n",
       "    .dataframe tbody tr th {\n",
       "        vertical-align: top;\n",
       "    }\n",
       "\n",
       "    .dataframe thead th {\n",
       "        text-align: right;\n",
       "    }\n",
       "</style>\n",
       "<table border=\"1\" class=\"dataframe\">\n",
       "  <thead>\n",
       "    <tr style=\"text-align: right;\">\n",
       "      <th></th>\n",
       "      <th>product</th>\n",
       "    </tr>\n",
       "    <tr>\n",
       "      <th>cluster</th>\n",
       "      <th></th>\n",
       "    </tr>\n",
       "  </thead>\n",
       "  <tbody>\n",
       "    <tr>\n",
       "      <th>-1</th>\n",
       "      <td>9208</td>\n",
       "    </tr>\n",
       "    <tr>\n",
       "      <th>187</th>\n",
       "      <td>244</td>\n",
       "    </tr>\n",
       "    <tr>\n",
       "      <th>8</th>\n",
       "      <td>227</td>\n",
       "    </tr>\n",
       "    <tr>\n",
       "      <th>837</th>\n",
       "      <td>133</td>\n",
       "    </tr>\n",
       "    <tr>\n",
       "      <th>823</th>\n",
       "      <td>121</td>\n",
       "    </tr>\n",
       "    <tr>\n",
       "      <th>7</th>\n",
       "      <td>120</td>\n",
       "    </tr>\n",
       "    <tr>\n",
       "      <th>182</th>\n",
       "      <td>114</td>\n",
       "    </tr>\n",
       "    <tr>\n",
       "      <th>710</th>\n",
       "      <td>113</td>\n",
       "    </tr>\n",
       "    <tr>\n",
       "      <th>577</th>\n",
       "      <td>111</td>\n",
       "    </tr>\n",
       "    <tr>\n",
       "      <th>100</th>\n",
       "      <td>103</td>\n",
       "    </tr>\n",
       "    <tr>\n",
       "      <th>602</th>\n",
       "      <td>99</td>\n",
       "    </tr>\n",
       "    <tr>\n",
       "      <th>654</th>\n",
       "      <td>98</td>\n",
       "    </tr>\n",
       "    <tr>\n",
       "      <th>582</th>\n",
       "      <td>97</td>\n",
       "    </tr>\n",
       "    <tr>\n",
       "      <th>642</th>\n",
       "      <td>95</td>\n",
       "    </tr>\n",
       "    <tr>\n",
       "      <th>46</th>\n",
       "      <td>94</td>\n",
       "    </tr>\n",
       "    <tr>\n",
       "      <th>460</th>\n",
       "      <td>91</td>\n",
       "    </tr>\n",
       "    <tr>\n",
       "      <th>471</th>\n",
       "      <td>91</td>\n",
       "    </tr>\n",
       "    <tr>\n",
       "      <th>178</th>\n",
       "      <td>90</td>\n",
       "    </tr>\n",
       "    <tr>\n",
       "      <th>92</th>\n",
       "      <td>89</td>\n",
       "    </tr>\n",
       "    <tr>\n",
       "      <th>796</th>\n",
       "      <td>87</td>\n",
       "    </tr>\n",
       "  </tbody>\n",
       "</table>\n",
       "</div>"
      ],
      "text/plain": [
       "         product\n",
       "cluster         \n",
       "-1          9208\n",
       " 187         244\n",
       " 8           227\n",
       " 837         133\n",
       " 823         121\n",
       " 7           120\n",
       " 182         114\n",
       " 710         113\n",
       " 577         111\n",
       " 100         103\n",
       " 602          99\n",
       " 654          98\n",
       " 582          97\n",
       " 642          95\n",
       " 46           94\n",
       " 460          91\n",
       " 471          91\n",
       " 178          90\n",
       " 92           89\n",
       " 796          87"
      ]
     },
     "execution_count": 12,
     "metadata": {},
     "output_type": "execute_result"
    }
   ],
   "source": [
    "res.groupby('cluster').count().sort_values('product', ascending=False)[:20]"
   ]
  },
  {
   "cell_type": "code",
   "execution_count": 13,
   "id": "0e428463-1009-4c92-8931-8aaec356d7f6",
   "metadata": {},
   "outputs": [
    {
     "data": {
      "text/html": [
       "<div>\n",
       "<style scoped>\n",
       "    .dataframe tbody tr th:only-of-type {\n",
       "        vertical-align: middle;\n",
       "    }\n",
       "\n",
       "    .dataframe tbody tr th {\n",
       "        vertical-align: top;\n",
       "    }\n",
       "\n",
       "    .dataframe thead th {\n",
       "        text-align: right;\n",
       "    }\n",
       "</style>\n",
       "<table border=\"1\" class=\"dataframe\">\n",
       "  <thead>\n",
       "    <tr style=\"text-align: right;\">\n",
       "      <th></th>\n",
       "      <th>parent</th>\n",
       "      <th>child</th>\n",
       "      <th>lambda_val</th>\n",
       "      <th>child_size</th>\n",
       "    </tr>\n",
       "  </thead>\n",
       "  <tbody>\n",
       "    <tr>\n",
       "      <th>0</th>\n",
       "      <td>30000</td>\n",
       "      <td>30001</td>\n",
       "      <td>0.019493</td>\n",
       "      <td>29984</td>\n",
       "    </tr>\n",
       "    <tr>\n",
       "      <th>1</th>\n",
       "      <td>30000</td>\n",
       "      <td>30002</td>\n",
       "      <td>0.019493</td>\n",
       "      <td>16</td>\n",
       "    </tr>\n",
       "    <tr>\n",
       "      <th>2</th>\n",
       "      <td>30001</td>\n",
       "      <td>30003</td>\n",
       "      <td>0.022214</td>\n",
       "      <td>29970</td>\n",
       "    </tr>\n",
       "    <tr>\n",
       "      <th>3</th>\n",
       "      <td>30001</td>\n",
       "      <td>30004</td>\n",
       "      <td>0.022214</td>\n",
       "      <td>14</td>\n",
       "    </tr>\n",
       "    <tr>\n",
       "      <th>4</th>\n",
       "      <td>30002</td>\n",
       "      <td>15352</td>\n",
       "      <td>1.917264</td>\n",
       "      <td>1</td>\n",
       "    </tr>\n",
       "  </tbody>\n",
       "</table>\n",
       "</div>"
      ],
      "text/plain": [
       "   parent  child  lambda_val  child_size\n",
       "0   30000  30001    0.019493       29984\n",
       "1   30000  30002    0.019493          16\n",
       "2   30001  30003    0.022214       29970\n",
       "3   30001  30004    0.022214          14\n",
       "4   30002  15352    1.917264           1"
      ]
     },
     "execution_count": 13,
     "metadata": {},
     "output_type": "execute_result"
    }
   ],
   "source": [
    "clust.condensed_tree_.to_pandas().head()"
   ]
  },
  {
   "cell_type": "markdown",
   "id": "6a2330d2-1aae-4a6e-900e-b40d37a1252f",
   "metadata": {},
   "source": [
    "# Explore a Example Cluster"
   ]
  },
  {
   "cell_type": "code",
   "execution_count": null,
   "id": "442755be-afe9-4be7-8d52-664706a09225",
   "metadata": {},
   "outputs": [],
   "source": [
    "#mask = res['cluster'] == 797\n",
    "print(res[mask])"
   ]
  },
  {
   "cell_type": "markdown",
   "id": "ebe4f17b-c670-4ee1-b137-c42b523f8f47",
   "metadata": {},
   "source": [
    "A list makes it easier to read the full product names"
   ]
  },
  {
   "cell_type": "code",
   "execution_count": 15,
   "id": "9f711841-45c8-4b89-8501-1635cb7c8fac",
   "metadata": {},
   "outputs": [
    {
     "data": {
      "text/plain": [
       "['Live Clean Shampoo And Wash - Tearless - Baby - 10 Fl Oz',\n",
       " 'Pipette Baby Shampoo & Wash with Calming Aromas and Plant-Based Squalane, 12 fl oz',\n",
       " 'Babyses Tearless pH Shampoo, 250ml',\n",
       " '4 Pack - JOHNSONS Calming Baby Shampoo with Soothing NaturalCalm Scent 13.6 oz',\n",
       " '(2 Pack) Batiste Dry Shampoo, Tropical Fragrance, Mini 1.6 fl. oz.',\n",
       " 'Aloe VestaÂ 2-n-1 Body Wash and Shampoo-Size: 8 oz - UOM = Each 1',\n",
       " '4 Pack - Burts Bees Baby Shampoo & Wash, Original 21 oz',\n",
       " '4 Pack - JOHNSONS Head-To-Toe Gentle Tear- Free Baby Wash & Shampoo for Babys Sensitive Skin 1.70 oz',\n",
       " 'Batiste Dry Shampoo, Fresh Fragrance, 6.73 fl. oz.',\n",
       " 'Babyganics Gentle Shampoo & Body Wash, Chamomile Verbena, 16 fl oz',\n",
       " '2 Pack - AVEENO Baby Wash and Shampoo 8 oz',\n",
       " 'Aussie Kids 3 in 1 Shampoo, Conditioner & Body Wash, Coral Reef Cupcake, 26.2 Fl Oz',\n",
       " 'Johnsons CottonTouch Newborn Baby Wash & Shampoo, 6.8 fl. oz',\n",
       " 'Ricitos de Oro Hypoallergenic Honey Baby Shampoo 400ml - Champu de Miel para Bebe (Pack of 6)',\n",
       " 'Personal Care Products 90306-7 Personal Care 15 oz. Baby Shampoo',\n",
       " 'Naturel Promise Fresh and Soothing Odor Control Refreshing Shampoo, 22 oz',\n",
       " 'Burts Bees Shed Control Dog Shampoo with Omega-3 and Vitamin E, 16 oz.',\n",
       " 'Fresh Dental FSGPSH22Z 22 oz Naturel Promise Fresh and Soothing Gentle Puppy Shampoo',\n",
       " 'SoCozy Swim 3 in 1 Shampoo + Conditioner + Wash 10.5 oz.']"
      ]
     },
     "execution_count": 15,
     "metadata": {},
     "output_type": "execute_result"
    }
   ],
   "source": [
    "[p for p in res.loc[mask, 'product']]"
   ]
  },
  {
   "cell_type": "markdown",
   "id": "528bc73e-5a19-4e99-a3f3-bec797bdadc4",
   "metadata": {},
   "source": [
    "# Find Most Common Words in Cluster\n",
    "\n",
    "These would be topics.  We're doing a simple frequency analysis (vice TF-IDF) as we expect documents to be similar, thus aren't interested in words that distinguish them from others in the clusters, but rather words that are common within the cluster.\n",
    "\n",
    "Intuitively, these results make sense."
   ]
  },
  {
   "cell_type": "code",
   "execution_count": 16,
   "id": "e6184e0a-b1e5-4f8e-ba5f-8d5d45108faa",
   "metadata": {},
   "outputs": [],
   "source": [
    "from collections import Counter\n",
    "import re"
   ]
  },
  {
   "cell_type": "code",
   "execution_count": 17,
   "id": "4d984eb8-7105-475d-869a-22bd54e11566",
   "metadata": {},
   "outputs": [
    {
     "data": {
      "text/plain": [
       "[('Shampoo', 17), ('Wash', 10), ('Baby', 9), ('oz', 8), ('and', 6)]"
      ]
     },
     "execution_count": 17,
     "metadata": {},
     "output_type": "execute_result"
    }
   ],
   "source": [
    "mask = res['cluster'] == 797\n",
    "bow = re.findall(r'\\w+', ''.join([p for p in res.loc[mask, 'product']]))\n",
    "c = Counter(bow)\n",
    "c.most_common()[:5]"
   ]
  },
  {
   "cell_type": "code",
   "execution_count": 18,
   "id": "31bc95e1-d7bd-40bc-9931-2fb470ab39be",
   "metadata": {},
   "outputs": [],
   "source": [
    "from sklearn.feature_extraction.text import CountVectorizer"
   ]
  },
  {
   "cell_type": "code",
   "execution_count": 19,
   "id": "51394be0-3dc9-4365-a54d-d7db065cc96f",
   "metadata": {},
   "outputs": [],
   "source": [
    "c = CountVectorizer(\n",
    "    strip_accents='ascii',\n",
    "    stop_words='english',\n",
    "    ngram_range=(2,3)\n",
    ")"
   ]
  },
  {
   "cell_type": "code",
   "execution_count": 20,
   "id": "b04079f0-5899-4b04-8ad8-4c4537ba79a3",
   "metadata": {},
   "outputs": [
    {
     "data": {
      "text/plain": [
       "(19, 272)"
      ]
     },
     "execution_count": 20,
     "metadata": {},
     "output_type": "execute_result"
    }
   ],
   "source": [
    "x = c.fit_transform([p for p in res.loc[mask, 'product']])\n",
    "x.shape"
   ]
  },
  {
   "cell_type": "code",
   "execution_count": 21,
   "id": "bb435501-1164-419d-ad18-27af048544a8",
   "metadata": {},
   "outputs": [
    {
     "data": {
      "text/plain": [
       "fl oz                7\n",
       "baby shampoo         5\n",
       "wash shampoo         4\n",
       "baby wash shampoo    3\n",
       "shampoo wash         3\n",
       "dtype: int64"
      ]
     },
     "execution_count": 21,
     "metadata": {},
     "output_type": "execute_result"
    }
   ],
   "source": [
    "pd.DataFrame(x.toarray(), columns=c.get_feature_names_out()).sum(0).sort_values(ascending=False).head(5)"
   ]
  },
  {
   "cell_type": "markdown",
   "id": "9eb4a4e9-b2d3-45bc-9390-0642f4d11170",
   "metadata": {},
   "source": [
    "------------"
   ]
  },
  {
   "cell_type": "code",
   "execution_count": 22,
   "id": "287d9d38-9cd3-4def-8f89-7a3dd818cd23",
   "metadata": {},
   "outputs": [],
   "source": [
    "red = umap.UMAP(n_components=int(embeddings.shape[1]*.2))\n",
    "red_embed = red.fit_transform(embeddings)"
   ]
  },
  {
   "cell_type": "code",
   "execution_count": 23,
   "id": "706b677a-a3ce-4481-8184-751a0fbcb2fd",
   "metadata": {},
   "outputs": [],
   "source": [
    "sc = StandardScaler()\n",
    "red_embed = sc.fit_transform(red_embed)"
   ]
  },
  {
   "cell_type": "code",
   "execution_count": 24,
   "id": "5c8b495e-5c36-48f0-812a-8897ad8641d1",
   "metadata": {},
   "outputs": [
    {
     "ename": "KeyboardInterrupt",
     "evalue": "",
     "output_type": "error",
     "traceback": [
      "\u001b[0;31m---------------------------------------------------------------------------\u001b[0m",
      "\u001b[0;31mKeyboardInterrupt\u001b[0m                         Traceback (most recent call last)",
      "Cell \u001b[0;32mIn[24], line 2\u001b[0m\n\u001b[1;32m      1\u001b[0m clust \u001b[38;5;241m=\u001b[39m hdbscan\u001b[38;5;241m.\u001b[39mHDBSCAN(min_cluster_size\u001b[38;5;241m=\u001b[39m\u001b[38;5;241m5\u001b[39m, cluster_selection_epsilon\u001b[38;5;241m=\u001b[39m\u001b[38;5;241m.25\u001b[39m)\n\u001b[0;32m----> 2\u001b[0m \u001b[43mclust\u001b[49m\u001b[38;5;241;43m.\u001b[39;49m\u001b[43mfit\u001b[49m\u001b[43m(\u001b[49m\u001b[43mred_embed\u001b[49m\u001b[43m)\u001b[49m\n",
      "File \u001b[0;32m~/anaconda3/envs/webtopics/lib/python3.9/site-packages/hdbscan/hdbscan_.py:1190\u001b[0m, in \u001b[0;36mHDBSCAN.fit\u001b[0;34m(self, X, y)\u001b[0m\n\u001b[1;32m   1180\u001b[0m kwargs\u001b[38;5;241m.\u001b[39mpop(\u001b[38;5;124m\"\u001b[39m\u001b[38;5;124mprediction_data\u001b[39m\u001b[38;5;124m\"\u001b[39m, \u001b[38;5;28;01mNone\u001b[39;00m)\n\u001b[1;32m   1181\u001b[0m kwargs\u001b[38;5;241m.\u001b[39mupdate(\u001b[38;5;28mself\u001b[39m\u001b[38;5;241m.\u001b[39m_metric_kwargs)\n\u001b[1;32m   1183\u001b[0m (\n\u001b[1;32m   1184\u001b[0m     \u001b[38;5;28mself\u001b[39m\u001b[38;5;241m.\u001b[39mlabels_,\n\u001b[1;32m   1185\u001b[0m     \u001b[38;5;28mself\u001b[39m\u001b[38;5;241m.\u001b[39mprobabilities_,\n\u001b[1;32m   1186\u001b[0m     \u001b[38;5;28mself\u001b[39m\u001b[38;5;241m.\u001b[39mcluster_persistence_,\n\u001b[1;32m   1187\u001b[0m     \u001b[38;5;28mself\u001b[39m\u001b[38;5;241m.\u001b[39m_condensed_tree,\n\u001b[1;32m   1188\u001b[0m     \u001b[38;5;28mself\u001b[39m\u001b[38;5;241m.\u001b[39m_single_linkage_tree,\n\u001b[1;32m   1189\u001b[0m     \u001b[38;5;28mself\u001b[39m\u001b[38;5;241m.\u001b[39m_min_spanning_tree,\n\u001b[0;32m-> 1190\u001b[0m ) \u001b[38;5;241m=\u001b[39m \u001b[43mhdbscan\u001b[49m\u001b[43m(\u001b[49m\u001b[43mclean_data\u001b[49m\u001b[43m,\u001b[49m\u001b[43m \u001b[49m\u001b[38;5;241;43m*\u001b[39;49m\u001b[38;5;241;43m*\u001b[39;49m\u001b[43mkwargs\u001b[49m\u001b[43m)\u001b[49m\n\u001b[1;32m   1192\u001b[0m \u001b[38;5;28;01mif\u001b[39;00m \u001b[38;5;28mself\u001b[39m\u001b[38;5;241m.\u001b[39mmetric \u001b[38;5;241m!=\u001b[39m \u001b[38;5;124m\"\u001b[39m\u001b[38;5;124mprecomputed\u001b[39m\u001b[38;5;124m\"\u001b[39m \u001b[38;5;129;01mand\u001b[39;00m \u001b[38;5;129;01mnot\u001b[39;00m \u001b[38;5;28mself\u001b[39m\u001b[38;5;241m.\u001b[39m_all_finite:\n\u001b[1;32m   1193\u001b[0m     \u001b[38;5;66;03m# remap indices to align with original data in the case of non-finite entries.\u001b[39;00m\n\u001b[1;32m   1194\u001b[0m     \u001b[38;5;28mself\u001b[39m\u001b[38;5;241m.\u001b[39m_condensed_tree \u001b[38;5;241m=\u001b[39m remap_condensed_tree(\n\u001b[1;32m   1195\u001b[0m         \u001b[38;5;28mself\u001b[39m\u001b[38;5;241m.\u001b[39m_condensed_tree, internal_to_raw, outliers\n\u001b[1;32m   1196\u001b[0m     )\n",
      "File \u001b[0;32m~/anaconda3/envs/webtopics/lib/python3.9/site-packages/hdbscan/hdbscan_.py:809\u001b[0m, in \u001b[0;36mhdbscan\u001b[0;34m(X, min_cluster_size, min_samples, alpha, cluster_selection_epsilon, max_cluster_size, metric, p, leaf_size, algorithm, memory, approx_min_span_tree, gen_min_span_tree, core_dist_n_jobs, cluster_selection_method, allow_single_cluster, match_reference_implementation, **kwargs)\u001b[0m\n\u001b[1;32m    805\u001b[0m \u001b[38;5;28;01melif\u001b[39;00m metric \u001b[38;5;129;01min\u001b[39;00m KDTree\u001b[38;5;241m.\u001b[39mvalid_metrics:\n\u001b[1;32m    806\u001b[0m     \u001b[38;5;66;03m# TO DO: Need heuristic to decide when to go to boruvka;\u001b[39;00m\n\u001b[1;32m    807\u001b[0m     \u001b[38;5;66;03m# still debugging for now\u001b[39;00m\n\u001b[1;32m    808\u001b[0m     \u001b[38;5;28;01mif\u001b[39;00m X\u001b[38;5;241m.\u001b[39mshape[\u001b[38;5;241m1\u001b[39m] \u001b[38;5;241m>\u001b[39m \u001b[38;5;241m60\u001b[39m:\n\u001b[0;32m--> 809\u001b[0m         (single_linkage_tree, result_min_span_tree) \u001b[38;5;241m=\u001b[39m \u001b[43mmemory\u001b[49m\u001b[38;5;241;43m.\u001b[39;49m\u001b[43mcache\u001b[49m\u001b[43m(\u001b[49m\n\u001b[1;32m    810\u001b[0m \u001b[43m            \u001b[49m\u001b[43m_hdbscan_prims_kdtree\u001b[49m\n\u001b[1;32m    811\u001b[0m \u001b[43m        \u001b[49m\u001b[43m)\u001b[49m\u001b[43m(\u001b[49m\n\u001b[1;32m    812\u001b[0m \u001b[43m            \u001b[49m\u001b[43mX\u001b[49m\u001b[43m,\u001b[49m\n\u001b[1;32m    813\u001b[0m \u001b[43m            \u001b[49m\u001b[43mmin_samples\u001b[49m\u001b[43m,\u001b[49m\n\u001b[1;32m    814\u001b[0m \u001b[43m            \u001b[49m\u001b[43malpha\u001b[49m\u001b[43m,\u001b[49m\n\u001b[1;32m    815\u001b[0m \u001b[43m            \u001b[49m\u001b[43mmetric\u001b[49m\u001b[43m,\u001b[49m\n\u001b[1;32m    816\u001b[0m \u001b[43m            \u001b[49m\u001b[43mp\u001b[49m\u001b[43m,\u001b[49m\n\u001b[1;32m    817\u001b[0m \u001b[43m            \u001b[49m\u001b[43mleaf_size\u001b[49m\u001b[43m,\u001b[49m\n\u001b[1;32m    818\u001b[0m \u001b[43m            \u001b[49m\u001b[43mgen_min_span_tree\u001b[49m\u001b[43m,\u001b[49m\n\u001b[1;32m    819\u001b[0m \u001b[43m            \u001b[49m\u001b[38;5;241;43m*\u001b[39;49m\u001b[38;5;241;43m*\u001b[39;49m\u001b[43mkwargs\u001b[49m\n\u001b[1;32m    820\u001b[0m \u001b[43m        \u001b[49m\u001b[43m)\u001b[49m\n\u001b[1;32m    821\u001b[0m     \u001b[38;5;28;01melse\u001b[39;00m:\n\u001b[1;32m    822\u001b[0m         (single_linkage_tree, result_min_span_tree) \u001b[38;5;241m=\u001b[39m memory\u001b[38;5;241m.\u001b[39mcache(\n\u001b[1;32m    823\u001b[0m             _hdbscan_boruvka_kdtree\n\u001b[1;32m    824\u001b[0m         )(\n\u001b[0;32m   (...)\u001b[0m\n\u001b[1;32m    834\u001b[0m             \u001b[38;5;241m*\u001b[39m\u001b[38;5;241m*\u001b[39mkwargs\n\u001b[1;32m    835\u001b[0m         )\n",
      "File \u001b[0;32m~/anaconda3/envs/webtopics/lib/python3.9/site-packages/joblib/memory.py:349\u001b[0m, in \u001b[0;36mNotMemorizedFunc.__call__\u001b[0;34m(self, *args, **kwargs)\u001b[0m\n\u001b[1;32m    348\u001b[0m \u001b[38;5;28;01mdef\u001b[39;00m \u001b[38;5;21m__call__\u001b[39m(\u001b[38;5;28mself\u001b[39m, \u001b[38;5;241m*\u001b[39margs, \u001b[38;5;241m*\u001b[39m\u001b[38;5;241m*\u001b[39mkwargs):\n\u001b[0;32m--> 349\u001b[0m     \u001b[38;5;28;01mreturn\u001b[39;00m \u001b[38;5;28;43mself\u001b[39;49m\u001b[38;5;241;43m.\u001b[39;49m\u001b[43mfunc\u001b[49m\u001b[43m(\u001b[49m\u001b[38;5;241;43m*\u001b[39;49m\u001b[43margs\u001b[49m\u001b[43m,\u001b[49m\u001b[43m \u001b[49m\u001b[38;5;241;43m*\u001b[39;49m\u001b[38;5;241;43m*\u001b[39;49m\u001b[43mkwargs\u001b[49m\u001b[43m)\u001b[49m\n",
      "File \u001b[0;32m~/anaconda3/envs/webtopics/lib/python3.9/site-packages/hdbscan/hdbscan_.py:250\u001b[0m, in \u001b[0;36m_hdbscan_prims_kdtree\u001b[0;34m(X, min_samples, alpha, metric, p, leaf_size, gen_min_span_tree, **kwargs)\u001b[0m\n\u001b[1;32m    245\u001b[0m core_distances \u001b[38;5;241m=\u001b[39m tree\u001b[38;5;241m.\u001b[39mquery(\n\u001b[1;32m    246\u001b[0m     X, k\u001b[38;5;241m=\u001b[39mmin_samples \u001b[38;5;241m+\u001b[39m \u001b[38;5;241m1\u001b[39m, dualtree\u001b[38;5;241m=\u001b[39m\u001b[38;5;28;01mTrue\u001b[39;00m, breadth_first\u001b[38;5;241m=\u001b[39m\u001b[38;5;28;01mTrue\u001b[39;00m\n\u001b[1;32m    247\u001b[0m )[\u001b[38;5;241m0\u001b[39m][:, \u001b[38;5;241m-\u001b[39m\u001b[38;5;241m1\u001b[39m]\u001b[38;5;241m.\u001b[39mcopy(order\u001b[38;5;241m=\u001b[39m\u001b[38;5;124m\"\u001b[39m\u001b[38;5;124mC\u001b[39m\u001b[38;5;124m\"\u001b[39m)\n\u001b[1;32m    249\u001b[0m \u001b[38;5;66;03m# Mutual reachability distance is implicit in mst_linkage_core_vector\u001b[39;00m\n\u001b[0;32m--> 250\u001b[0m min_spanning_tree \u001b[38;5;241m=\u001b[39m \u001b[43mmst_linkage_core_vector\u001b[49m\u001b[43m(\u001b[49m\u001b[43mX\u001b[49m\u001b[43m,\u001b[49m\u001b[43m \u001b[49m\u001b[43mcore_distances\u001b[49m\u001b[43m,\u001b[49m\u001b[43m \u001b[49m\u001b[43mdist_metric\u001b[49m\u001b[43m,\u001b[49m\u001b[43m \u001b[49m\u001b[43malpha\u001b[49m\u001b[43m)\u001b[49m\n\u001b[1;32m    252\u001b[0m \u001b[38;5;66;03m# Sort edges of the min_spanning_tree by weight\u001b[39;00m\n\u001b[1;32m    253\u001b[0m min_spanning_tree \u001b[38;5;241m=\u001b[39m min_spanning_tree[np\u001b[38;5;241m.\u001b[39margsort(min_spanning_tree\u001b[38;5;241m.\u001b[39mT[\u001b[38;5;241m2\u001b[39m]), :]\n",
      "\u001b[0;31mKeyboardInterrupt\u001b[0m: "
     ]
    }
   ],
   "source": [
    "clust = hdbscan.HDBSCAN(min_cluster_size=5, cluster_selection_epsilon=.25)\n",
    "clust.fit(red_embed)"
   ]
  },
  {
   "cell_type": "code",
   "execution_count": null,
   "id": "e62d4cdc-edb3-4cb8-a49c-5db64923576a",
   "metadata": {},
   "outputs": [],
   "source": [
    "res = pd.DataFrame({\n",
    "    'product': products,\n",
    "    'cluster': clust.labels_\n",
    "})"
   ]
  },
  {
   "cell_type": "code",
   "execution_count": null,
   "id": "f7c79133-75b2-4787-a0f5-1d5889cbc736",
   "metadata": {},
   "outputs": [],
   "source": [
    "res.groupby('cluster').count().sort_values('product', ascending=False)[:20]"
   ]
  },
  {
   "cell_type": "code",
   "execution_count": null,
   "id": "52659403-de53-407d-918c-b3b72258ec96",
   "metadata": {},
   "outputs": [],
   "source": [
    "mask = res['cluster'] == 679\n",
    "res[mask]"
   ]
  },
  {
   "cell_type": "code",
   "execution_count": null,
   "id": "10ae9fcc-bdcc-4c23-a796-897fa8651c96",
   "metadata": {},
   "outputs": [],
   "source": [
    "mask = res['cluster'] == 679\n",
    "bow = re.findall(r'\\w+', ''.join([p.lower() for p in res.loc[mask, 'product']]))\n",
    "c = Counter(bow)\n",
    "c.most_common()[:5]"
   ]
  },
  {
   "cell_type": "code",
   "execution_count": null,
   "id": "ff63afb0-3bf2-4918-94c4-d1ae63797a03",
   "metadata": {},
   "outputs": [],
   "source": [
    "c = CountVectorizer(\n",
    "    strip_accents='ascii',\n",
    "    stop_words='english',\n",
    "    ngram_range=(2,3)\n",
    ")\n",
    "\n",
    "x = c.fit_transform([p for p in res.loc[mask, 'product']])\n",
    "pd.DataFrame(x.toarray(), columns=c.get_feature_names_out()).sum(0).sort_values(ascending=False).head(5)"
   ]
  },
  {
   "cell_type": "code",
   "execution_count": null,
   "id": "48724231-04e1-4ba4-a313-bcc64da22e78",
   "metadata": {},
   "outputs": [],
   "source": [
    "mask = res['cluster'] == 21\n",
    "res[mask]"
   ]
  },
  {
   "cell_type": "code",
   "execution_count": null,
   "id": "df8f60a9-6e04-4fb6-a2fb-a546b37fea7b",
   "metadata": {},
   "outputs": [],
   "source": [
    "mask = res['cluster'] == 21\n",
    "bow = re.findall(r'\\w+', ''.join([p.lower() for p in res.loc[mask, 'product']]))\n",
    "c = Counter(bow)\n",
    "c.most_common()[:5]"
   ]
  },
  {
   "cell_type": "code",
   "execution_count": null,
   "id": "c8cd06a3-e2fc-4396-bc70-8d2c5ff32f2b",
   "metadata": {},
   "outputs": [],
   "source": [
    "c = CountVectorizer(\n",
    "    strip_accents='ascii',\n",
    "    stop_words='english',\n",
    "    ngram_range=(1,3)\n",
    ")\n",
    "\n",
    "x = c.fit_transform([p for p in res.loc[mask, 'product']])\n",
    "pd.DataFrame(x.toarray(), columns=c.get_feature_names_out()).sum(0).sort_values(ascending=False).head(5)"
   ]
  },
  {
   "cell_type": "code",
   "execution_count": null,
   "id": "7d9ce2c3-8c74-47b2-ae62-aea5e2966a9c",
   "metadata": {},
   "outputs": [],
   "source": []
  },
  {
   "cell_type": "code",
   "execution_count": null,
   "id": "a9b92296-0149-4035-998d-7fb72f276a99",
   "metadata": {},
   "outputs": [],
   "source": []
  }
 ],
 "metadata": {
  "kernelspec": {
   "display_name": "webtopics",
   "language": "python",
   "name": "webtopics"
  },
  "language_info": {
   "codemirror_mode": {
    "name": "ipython",
    "version": 3
   },
   "file_extension": ".py",
   "mimetype": "text/x-python",
   "name": "python",
   "nbconvert_exporter": "python",
   "pygments_lexer": "ipython3",
   "version": "3.9.15"
  }
 },
 "nbformat": 4,
 "nbformat_minor": 5
}
