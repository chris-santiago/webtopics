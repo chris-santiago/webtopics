{
 "cells": [
  {
   "cell_type": "markdown",
   "id": "1bbb4bbc-c9e3-4cdc-a9dc-a08165e66880",
   "metadata": {},
   "source": [
    "# Prelimniaries"
   ]
  },
  {
   "cell_type": "code",
   "execution_count": 1,
   "id": "0aaf81a5-6cc6-4598-be20-5682fec2ddf9",
   "metadata": {},
   "outputs": [
    {
     "name": "stderr",
     "output_type": "stream",
     "text": [
      "/opt/homebrew/Caskroom/miniforge/base/envs/webtopics/lib/python3.9/site-packages/tqdm/auto.py:22: TqdmWarning: IProgress not found. Please update jupyter and ipywidgets. See https://ipywidgets.readthedocs.io/en/stable/user_install.html\n",
      "  from .autonotebook import tqdm as notebook_tqdm\n"
     ]
    }
   ],
   "source": [
    "import numpy as np\n",
    "import pandas as pd\n",
    "from sentence_transformers import SentenceTransformer\n",
    "import umap\n",
    "import hdbscan\n",
    "from sklearn.preprocessing import StandardScaler"
   ]
  },
  {
   "cell_type": "markdown",
   "id": "ef09a417-ec02-4e8e-8b1f-96dd5cee5e17",
   "metadata": {},
   "source": [
    "# Data"
   ]
  },
  {
   "cell_type": "code",
   "execution_count": 2,
   "id": "c5bffc42-94d1-4a26-913c-83ca3ba3a23f",
   "metadata": {},
   "outputs": [],
   "source": [
    "data = pd.read_parquet('../data/marketing_sample_walmart.parq.gzip')"
   ]
  },
  {
   "cell_type": "code",
   "execution_count": 3,
   "id": "1628b433-2735-4546-84cb-e9ecc1b8e648",
   "metadata": {},
   "outputs": [
    {
     "data": {
      "text/html": [
       "<div>\n",
       "<style scoped>\n",
       "    .dataframe tbody tr th:only-of-type {\n",
       "        vertical-align: middle;\n",
       "    }\n",
       "\n",
       "    .dataframe tbody tr th {\n",
       "        vertical-align: top;\n",
       "    }\n",
       "\n",
       "    .dataframe thead th {\n",
       "        text-align: right;\n",
       "    }\n",
       "</style>\n",
       "<table border=\"1\" class=\"dataframe\">\n",
       "  <thead>\n",
       "    <tr style=\"text-align: right;\">\n",
       "      <th></th>\n",
       "      <th>Uniq Id</th>\n",
       "      <th>Crawl Timestamp</th>\n",
       "      <th>Product Url</th>\n",
       "      <th>Product Name</th>\n",
       "      <th>Description</th>\n",
       "      <th>List Price</th>\n",
       "      <th>Sale Price</th>\n",
       "      <th>Brand</th>\n",
       "      <th>Item Number</th>\n",
       "      <th>Gtin</th>\n",
       "      <th>Package Size</th>\n",
       "      <th>Category</th>\n",
       "      <th>Postal Code</th>\n",
       "      <th>Available</th>\n",
       "    </tr>\n",
       "  </thead>\n",
       "  <tbody>\n",
       "    <tr>\n",
       "      <th>0</th>\n",
       "      <td>51b010b871cde349bd32159a1cc1a15f</td>\n",
       "      <td>2020-01-24 16:08:36 +0000</td>\n",
       "      <td>https://www.walmart.com/ip/Allegiance-Economy-...</td>\n",
       "      <td>Allegiance Economy Dual-scale Digital Thermometer</td>\n",
       "      <td>We aim to show you accurate product informati...</td>\n",
       "      <td>11.11</td>\n",
       "      <td>11.11</td>\n",
       "      <td>Cardinal Health</td>\n",
       "      <td>NaN</td>\n",
       "      <td>707389636164</td>\n",
       "      <td>NaN</td>\n",
       "      <td>Health | Medicine Cabinet | Thermometers | Dig...</td>\n",
       "      <td>NaN</td>\n",
       "      <td>True</td>\n",
       "    </tr>\n",
       "    <tr>\n",
       "      <th>1</th>\n",
       "      <td>d6a7f100e44a626a3701804e99236ad6</td>\n",
       "      <td>2020-01-24 15:54:21 +0000</td>\n",
       "      <td>https://www.walmart.com/ip/Kenneth-Cole-Reacti...</td>\n",
       "      <td>Kenneth Cole Reaction Eau De Parfum Spray For ...</td>\n",
       "      <td>We aim to show you accurate product informati...</td>\n",
       "      <td>23.99</td>\n",
       "      <td>23.99</td>\n",
       "      <td>Kenneth Cole</td>\n",
       "      <td>NaN</td>\n",
       "      <td>191565696101</td>\n",
       "      <td>NaN</td>\n",
       "      <td>Premium Beauty | Premium Fragrance | Premium P...</td>\n",
       "      <td>NaN</td>\n",
       "      <td>True</td>\n",
       "    </tr>\n",
       "    <tr>\n",
       "      <th>2</th>\n",
       "      <td>99d2b7da7e3e427a942f864937dacd9d</td>\n",
       "      <td>2020-01-24 18:34:28 +0000</td>\n",
       "      <td>https://www.walmart.com/ip/Kid-Tough-Fitness-I...</td>\n",
       "      <td>Kid Tough Fitness Inflatable Free-Standing Pun...</td>\n",
       "      <td>We aim to show you accurate product informati...</td>\n",
       "      <td>30.76</td>\n",
       "      <td>30.76</td>\n",
       "      <td>BONK FIT</td>\n",
       "      <td>563852139.0</td>\n",
       "      <td>855523007070</td>\n",
       "      <td>NaN</td>\n",
       "      <td>Sports &amp; Outdoors | Outdoor Sports | Hunting |...</td>\n",
       "      <td>NaN</td>\n",
       "      <td>True</td>\n",
       "    </tr>\n",
       "    <tr>\n",
       "      <th>3</th>\n",
       "      <td>4c76d170c2c6a759cbce812d790a0b88</td>\n",
       "      <td>2020-01-24 11:08:53 +0000</td>\n",
       "      <td>https://www.walmart.com/ip/THE-FIRST-YEARS/167...</td>\n",
       "      <td>THE FIRST YEARS</td>\n",
       "      <td>We aim to show you accurate product informati...</td>\n",
       "      <td>6.99</td>\n",
       "      <td>6.99</td>\n",
       "      <td>The First Years</td>\n",
       "      <td>553299941.0</td>\n",
       "      <td>71463046263</td>\n",
       "      <td>NaN</td>\n",
       "      <td>Baby | Diapering | Baby Wipes</td>\n",
       "      <td>NaN</td>\n",
       "      <td>True</td>\n",
       "    </tr>\n",
       "    <tr>\n",
       "      <th>4</th>\n",
       "      <td>8ac95837dc8baa01e504fd8f633ffaf2</td>\n",
       "      <td>2020-03-10 07:37:21 +0000</td>\n",
       "      <td>https://www.walmart.com/ip/4-Pack-MD-USA-Seaml...</td>\n",
       "      <td>4 Pack - MD USA Seamless Toe-Wave-In Mesh Diab...</td>\n",
       "      <td>We aim to show you accurate product informatio...</td>\n",
       "      <td>28.27</td>\n",
       "      <td>28.27</td>\n",
       "      <td>MD USA</td>\n",
       "      <td>NaN</td>\n",
       "      <td>191897514500</td>\n",
       "      <td>NaN</td>\n",
       "      <td>Health | Diabetes Care | Diabetic Socks</td>\n",
       "      <td>NaN</td>\n",
       "      <td>True</td>\n",
       "    </tr>\n",
       "  </tbody>\n",
       "</table>\n",
       "</div>"
      ],
      "text/plain": [
       "                            Uniq Id            Crawl Timestamp  \\\n",
       "0  51b010b871cde349bd32159a1cc1a15f  2020-01-24 16:08:36 +0000   \n",
       "1  d6a7f100e44a626a3701804e99236ad6  2020-01-24 15:54:21 +0000   \n",
       "2  99d2b7da7e3e427a942f864937dacd9d  2020-01-24 18:34:28 +0000   \n",
       "3  4c76d170c2c6a759cbce812d790a0b88  2020-01-24 11:08:53 +0000   \n",
       "4  8ac95837dc8baa01e504fd8f633ffaf2  2020-03-10 07:37:21 +0000   \n",
       "\n",
       "                                         Product Url  \\\n",
       "0  https://www.walmart.com/ip/Allegiance-Economy-...   \n",
       "1  https://www.walmart.com/ip/Kenneth-Cole-Reacti...   \n",
       "2  https://www.walmart.com/ip/Kid-Tough-Fitness-I...   \n",
       "3  https://www.walmart.com/ip/THE-FIRST-YEARS/167...   \n",
       "4  https://www.walmart.com/ip/4-Pack-MD-USA-Seaml...   \n",
       "\n",
       "                                        Product Name  \\\n",
       "0  Allegiance Economy Dual-scale Digital Thermometer   \n",
       "1  Kenneth Cole Reaction Eau De Parfum Spray For ...   \n",
       "2  Kid Tough Fitness Inflatable Free-Standing Pun...   \n",
       "3                                    THE FIRST YEARS   \n",
       "4  4 Pack - MD USA Seamless Toe-Wave-In Mesh Diab...   \n",
       "\n",
       "                                         Description  List Price  Sale Price  \\\n",
       "0   We aim to show you accurate product informati...       11.11       11.11   \n",
       "1   We aim to show you accurate product informati...       23.99       23.99   \n",
       "2   We aim to show you accurate product informati...       30.76       30.76   \n",
       "3   We aim to show you accurate product informati...        6.99        6.99   \n",
       "4  We aim to show you accurate product informatio...       28.27       28.27   \n",
       "\n",
       "             Brand  Item Number          Gtin  Package Size  \\\n",
       "0  Cardinal Health          NaN  707389636164           NaN   \n",
       "1     Kenneth Cole          NaN  191565696101           NaN   \n",
       "2         BONK FIT  563852139.0  855523007070           NaN   \n",
       "3  The First Years  553299941.0   71463046263           NaN   \n",
       "4           MD USA          NaN  191897514500           NaN   \n",
       "\n",
       "                                            Category  Postal Code  Available  \n",
       "0  Health | Medicine Cabinet | Thermometers | Dig...          NaN       True  \n",
       "1  Premium Beauty | Premium Fragrance | Premium P...          NaN       True  \n",
       "2  Sports & Outdoors | Outdoor Sports | Hunting |...          NaN       True  \n",
       "3                      Baby | Diapering | Baby Wipes          NaN       True  \n",
       "4            Health | Diabetes Care | Diabetic Socks          NaN       True  "
      ]
     },
     "execution_count": 3,
     "metadata": {},
     "output_type": "execute_result"
    }
   ],
   "source": [
    "data.head()"
   ]
  },
  {
   "cell_type": "code",
   "execution_count": 4,
   "id": "d70ebf40-7221-4f8f-9828-683b20081e0f",
   "metadata": {},
   "outputs": [
    {
     "data": {
      "text/plain": [
       "(30000, 14)"
      ]
     },
     "execution_count": 4,
     "metadata": {},
     "output_type": "execute_result"
    }
   ],
   "source": [
    "data.shape"
   ]
  },
  {
   "cell_type": "markdown",
   "id": "0e545018-18a2-44f3-9f04-da10b171d16d",
   "metadata": {},
   "source": [
    "Many of these URLs are invalid (two years old), so I'm going to treat the `Product Name` as the title that would've been retrieved from URL HTML.  Otherwise, we would fetch the titles and/or actual HTML content."
   ]
  },
  {
   "cell_type": "code",
   "execution_count": 5,
   "id": "cb315931-aca5-4ebc-a799-32e987b1de8b",
   "metadata": {},
   "outputs": [],
   "source": [
    "products = data['Product Name'].to_list()"
   ]
  },
  {
   "cell_type": "code",
   "execution_count": 6,
   "id": "d113277e-9b5f-4788-b851-0d061ba5311a",
   "metadata": {},
   "outputs": [
    {
     "data": {
      "text/plain": [
       "['Allegiance Economy Dual-scale Digital Thermometer',\n",
       " 'Kenneth Cole Reaction Eau De Parfum Spray For Women 3.40 Oz',\n",
       " 'Kid Tough Fitness Inflatable Free-Standing Punching Bag + Machine Washable Fabric Cover South Carolina Gamecocks Kids Workout Buddy by Bonk Fit',\n",
       " 'THE FIRST YEARS',\n",
       " '4 Pack - MD USA Seamless Toe-Wave-In Mesh Diabetic Crew Socks, Black, Medium, 1 Pair',\n",
       " 'Gerber 2nd Foods Apple Baby Food 4 oz. Tubs 2 Count',\n",
       " 'Kushies Ultra-Lite All-In-One Form-Fitted Washable Cloth Diapers (Blue Whales, Infant)',\n",
       " 'sunmark Stop Smoking Aid 14 mg Strength Transdermal Patch, 70677003101 - Box of 14',\n",
       " 'Berkley PowerBait Glitter Chroma-Glow Dough Fishing Bait',\n",
       " 'Mikasa Rubber Basketball, Intermediate, 28.5']"
      ]
     },
     "execution_count": 6,
     "metadata": {},
     "output_type": "execute_result"
    }
   ],
   "source": [
    "products[:10]"
   ]
  },
  {
   "cell_type": "markdown",
   "id": "cc301510-ea3b-455c-a101-8a736e03b35d",
   "metadata": {},
   "source": [
    "# Embed Product Names"
   ]
  },
  {
   "cell_type": "code",
   "execution_count": 22,
   "id": "ebb2fc33-741b-40d2-b1bb-f4bb5c169ce5",
   "metadata": {},
   "outputs": [
    {
     "name": "stderr",
     "output_type": "stream",
     "text": [
      "Batches: 100%|███████████████████████████████████████████████████████████████████████████████| 938/938 [02:46<00:00,  5.63it/s]\n"
     ]
    }
   ],
   "source": [
    "model = SentenceTransformer('sentence-transformers/all-MiniLM-L6-v2')\n",
    "embeddings = model.encode(products, show_progress_bar=True)"
   ]
  },
  {
   "cell_type": "markdown",
   "id": "dc8d03df-78ed-4c4b-bd04-cea7bcf2c6c1",
   "metadata": {},
   "source": [
    "# Dimensionality Reduction and Clustering"
   ]
  },
  {
   "cell_type": "code",
   "execution_count": 74,
   "id": "e8b763a5-1348-4602-9de2-dfdad0371329",
   "metadata": {},
   "outputs": [],
   "source": [
    "red = umap.UMAP(n_components=int(embeddings.shape[1]*.2), metric='cosine')\n",
    "red_embed = red.fit_transform(embeddings)"
   ]
  },
  {
   "cell_type": "code",
   "execution_count": 75,
   "id": "cd70cc31-9abc-44ae-a8da-1765c066e9bd",
   "metadata": {},
   "outputs": [],
   "source": [
    "sc = StandardScaler()\n",
    "red_embed = sc.fit_transform(red_embed)"
   ]
  },
  {
   "cell_type": "code",
   "execution_count": 76,
   "id": "0ea1e15d-26af-4298-a35c-b6c43c0f093e",
   "metadata": {},
   "outputs": [
    {
     "data": {
      "text/html": [
       "<style>#sk-container-id-7 {color: black;background-color: white;}#sk-container-id-7 pre{padding: 0;}#sk-container-id-7 div.sk-toggleable {background-color: white;}#sk-container-id-7 label.sk-toggleable__label {cursor: pointer;display: block;width: 100%;margin-bottom: 0;padding: 0.3em;box-sizing: border-box;text-align: center;}#sk-container-id-7 label.sk-toggleable__label-arrow:before {content: \"▸\";float: left;margin-right: 0.25em;color: #696969;}#sk-container-id-7 label.sk-toggleable__label-arrow:hover:before {color: black;}#sk-container-id-7 div.sk-estimator:hover label.sk-toggleable__label-arrow:before {color: black;}#sk-container-id-7 div.sk-toggleable__content {max-height: 0;max-width: 0;overflow: hidden;text-align: left;background-color: #f0f8ff;}#sk-container-id-7 div.sk-toggleable__content pre {margin: 0.2em;color: black;border-radius: 0.25em;background-color: #f0f8ff;}#sk-container-id-7 input.sk-toggleable__control:checked~div.sk-toggleable__content {max-height: 200px;max-width: 100%;overflow: auto;}#sk-container-id-7 input.sk-toggleable__control:checked~label.sk-toggleable__label-arrow:before {content: \"▾\";}#sk-container-id-7 div.sk-estimator input.sk-toggleable__control:checked~label.sk-toggleable__label {background-color: #d4ebff;}#sk-container-id-7 div.sk-label input.sk-toggleable__control:checked~label.sk-toggleable__label {background-color: #d4ebff;}#sk-container-id-7 input.sk-hidden--visually {border: 0;clip: rect(1px 1px 1px 1px);clip: rect(1px, 1px, 1px, 1px);height: 1px;margin: -1px;overflow: hidden;padding: 0;position: absolute;width: 1px;}#sk-container-id-7 div.sk-estimator {font-family: monospace;background-color: #f0f8ff;border: 1px dotted black;border-radius: 0.25em;box-sizing: border-box;margin-bottom: 0.5em;}#sk-container-id-7 div.sk-estimator:hover {background-color: #d4ebff;}#sk-container-id-7 div.sk-parallel-item::after {content: \"\";width: 100%;border-bottom: 1px solid gray;flex-grow: 1;}#sk-container-id-7 div.sk-label:hover label.sk-toggleable__label {background-color: #d4ebff;}#sk-container-id-7 div.sk-serial::before {content: \"\";position: absolute;border-left: 1px solid gray;box-sizing: border-box;top: 0;bottom: 0;left: 50%;z-index: 0;}#sk-container-id-7 div.sk-serial {display: flex;flex-direction: column;align-items: center;background-color: white;padding-right: 0.2em;padding-left: 0.2em;position: relative;}#sk-container-id-7 div.sk-item {position: relative;z-index: 1;}#sk-container-id-7 div.sk-parallel {display: flex;align-items: stretch;justify-content: center;background-color: white;position: relative;}#sk-container-id-7 div.sk-item::before, #sk-container-id-7 div.sk-parallel-item::before {content: \"\";position: absolute;border-left: 1px solid gray;box-sizing: border-box;top: 0;bottom: 0;left: 50%;z-index: -1;}#sk-container-id-7 div.sk-parallel-item {display: flex;flex-direction: column;z-index: 1;position: relative;background-color: white;}#sk-container-id-7 div.sk-parallel-item:first-child::after {align-self: flex-end;width: 50%;}#sk-container-id-7 div.sk-parallel-item:last-child::after {align-self: flex-start;width: 50%;}#sk-container-id-7 div.sk-parallel-item:only-child::after {width: 0;}#sk-container-id-7 div.sk-dashed-wrapped {border: 1px dashed gray;margin: 0 0.4em 0.5em 0.4em;box-sizing: border-box;padding-bottom: 0.4em;background-color: white;}#sk-container-id-7 div.sk-label label {font-family: monospace;font-weight: bold;display: inline-block;line-height: 1.2em;}#sk-container-id-7 div.sk-label-container {text-align: center;}#sk-container-id-7 div.sk-container {/* jupyter's `normalize.less` sets `[hidden] { display: none; }` but bootstrap.min.css set `[hidden] { display: none !important; }` so we also need the `!important` here to be able to override the default hidden behavior on the sphinx rendered scikit-learn.org. See: https://github.com/scikit-learn/scikit-learn/issues/21755 */display: inline-block !important;position: relative;}#sk-container-id-7 div.sk-text-repr-fallback {display: none;}</style><div id=\"sk-container-id-7\" class=\"sk-top-container\"><div class=\"sk-text-repr-fallback\"><pre>HDBSCAN(cluster_selection_epsilon=0.25)</pre><b>In a Jupyter environment, please rerun this cell to show the HTML representation or trust the notebook. <br />On GitHub, the HTML representation is unable to render, please try loading this page with nbviewer.org.</b></div><div class=\"sk-container\" hidden><div class=\"sk-item\"><div class=\"sk-estimator sk-toggleable\"><input class=\"sk-toggleable__control sk-hidden--visually\" id=\"sk-estimator-id-7\" type=\"checkbox\" checked><label for=\"sk-estimator-id-7\" class=\"sk-toggleable__label sk-toggleable__label-arrow\">HDBSCAN</label><div class=\"sk-toggleable__content\"><pre>HDBSCAN(cluster_selection_epsilon=0.25)</pre></div></div></div></div></div>"
      ],
      "text/plain": [
       "HDBSCAN(cluster_selection_epsilon=0.25)"
      ]
     },
     "execution_count": 76,
     "metadata": {},
     "output_type": "execute_result"
    }
   ],
   "source": [
    "clust = hdbscan.HDBSCAN(min_cluster_size=5, cluster_selection_epsilon=.25)\n",
    "clust.fit(red_embed)"
   ]
  },
  {
   "cell_type": "code",
   "execution_count": 77,
   "id": "8c8c5d66-4915-4754-bace-52f02819c8de",
   "metadata": {},
   "outputs": [],
   "source": [
    "res = pd.DataFrame({\n",
    "    'product': products,\n",
    "    'cluster': clust.labels_\n",
    "})"
   ]
  },
  {
   "cell_type": "code",
   "execution_count": 78,
   "id": "2b21b61e-3149-4138-b289-6e42d4826575",
   "metadata": {},
   "outputs": [
    {
     "data": {
      "text/html": [
       "<div>\n",
       "<style scoped>\n",
       "    .dataframe tbody tr th:only-of-type {\n",
       "        vertical-align: middle;\n",
       "    }\n",
       "\n",
       "    .dataframe tbody tr th {\n",
       "        vertical-align: top;\n",
       "    }\n",
       "\n",
       "    .dataframe thead th {\n",
       "        text-align: right;\n",
       "    }\n",
       "</style>\n",
       "<table border=\"1\" class=\"dataframe\">\n",
       "  <thead>\n",
       "    <tr style=\"text-align: right;\">\n",
       "      <th></th>\n",
       "      <th>product</th>\n",
       "    </tr>\n",
       "    <tr>\n",
       "      <th>cluster</th>\n",
       "      <th></th>\n",
       "    </tr>\n",
       "  </thead>\n",
       "  <tbody>\n",
       "    <tr>\n",
       "      <th>-1</th>\n",
       "      <td>8677</td>\n",
       "    </tr>\n",
       "    <tr>\n",
       "      <th>100</th>\n",
       "      <td>281</td>\n",
       "    </tr>\n",
       "    <tr>\n",
       "      <th>151</th>\n",
       "      <td>246</td>\n",
       "    </tr>\n",
       "    <tr>\n",
       "      <th>750</th>\n",
       "      <td>246</td>\n",
       "    </tr>\n",
       "    <tr>\n",
       "      <th>5</th>\n",
       "      <td>227</td>\n",
       "    </tr>\n",
       "    <tr>\n",
       "      <th>782</th>\n",
       "      <td>165</td>\n",
       "    </tr>\n",
       "    <tr>\n",
       "      <th>688</th>\n",
       "      <td>149</td>\n",
       "    </tr>\n",
       "    <tr>\n",
       "      <th>682</th>\n",
       "      <td>144</td>\n",
       "    </tr>\n",
       "    <tr>\n",
       "      <th>727</th>\n",
       "      <td>142</td>\n",
       "    </tr>\n",
       "    <tr>\n",
       "      <th>710</th>\n",
       "      <td>136</td>\n",
       "    </tr>\n",
       "    <tr>\n",
       "      <th>795</th>\n",
       "      <td>123</td>\n",
       "    </tr>\n",
       "    <tr>\n",
       "      <th>57</th>\n",
       "      <td>121</td>\n",
       "    </tr>\n",
       "    <tr>\n",
       "      <th>4</th>\n",
       "      <td>120</td>\n",
       "    </tr>\n",
       "    <tr>\n",
       "      <th>261</th>\n",
       "      <td>114</td>\n",
       "    </tr>\n",
       "    <tr>\n",
       "      <th>660</th>\n",
       "      <td>109</td>\n",
       "    </tr>\n",
       "    <tr>\n",
       "      <th>462</th>\n",
       "      <td>105</td>\n",
       "    </tr>\n",
       "    <tr>\n",
       "      <th>445</th>\n",
       "      <td>100</td>\n",
       "    </tr>\n",
       "    <tr>\n",
       "      <th>560</th>\n",
       "      <td>99</td>\n",
       "    </tr>\n",
       "    <tr>\n",
       "      <th>589</th>\n",
       "      <td>98</td>\n",
       "    </tr>\n",
       "    <tr>\n",
       "      <th>797</th>\n",
       "      <td>98</td>\n",
       "    </tr>\n",
       "  </tbody>\n",
       "</table>\n",
       "</div>"
      ],
      "text/plain": [
       "         product\n",
       "cluster         \n",
       "-1          8677\n",
       " 100         281\n",
       " 151         246\n",
       " 750         246\n",
       " 5           227\n",
       " 782         165\n",
       " 688         149\n",
       " 682         144\n",
       " 727         142\n",
       " 710         136\n",
       " 795         123\n",
       " 57          121\n",
       " 4           120\n",
       " 261         114\n",
       " 660         109\n",
       " 462         105\n",
       " 445         100\n",
       " 560          99\n",
       " 589          98\n",
       " 797          98"
      ]
     },
     "execution_count": 78,
     "metadata": {},
     "output_type": "execute_result"
    }
   ],
   "source": [
    "res.groupby('cluster').count().sort_values('product', ascending=False)[:20]"
   ]
  },
  {
   "cell_type": "code",
   "execution_count": 79,
   "id": "0e428463-1009-4c92-8931-8aaec356d7f6",
   "metadata": {},
   "outputs": [
    {
     "data": {
      "text/html": [
       "<div>\n",
       "<style scoped>\n",
       "    .dataframe tbody tr th:only-of-type {\n",
       "        vertical-align: middle;\n",
       "    }\n",
       "\n",
       "    .dataframe tbody tr th {\n",
       "        vertical-align: top;\n",
       "    }\n",
       "\n",
       "    .dataframe thead th {\n",
       "        text-align: right;\n",
       "    }\n",
       "</style>\n",
       "<table border=\"1\" class=\"dataframe\">\n",
       "  <thead>\n",
       "    <tr style=\"text-align: right;\">\n",
       "      <th></th>\n",
       "      <th>parent</th>\n",
       "      <th>child</th>\n",
       "      <th>lambda_val</th>\n",
       "      <th>child_size</th>\n",
       "    </tr>\n",
       "  </thead>\n",
       "  <tbody>\n",
       "    <tr>\n",
       "      <th>0</th>\n",
       "      <td>30000</td>\n",
       "      <td>30001</td>\n",
       "      <td>0.020398</td>\n",
       "      <td>29988</td>\n",
       "    </tr>\n",
       "    <tr>\n",
       "      <th>1</th>\n",
       "      <td>30000</td>\n",
       "      <td>30002</td>\n",
       "      <td>0.020398</td>\n",
       "      <td>12</td>\n",
       "    </tr>\n",
       "    <tr>\n",
       "      <th>2</th>\n",
       "      <td>30001</td>\n",
       "      <td>30003</td>\n",
       "      <td>0.025556</td>\n",
       "      <td>29974</td>\n",
       "    </tr>\n",
       "    <tr>\n",
       "      <th>3</th>\n",
       "      <td>30001</td>\n",
       "      <td>30004</td>\n",
       "      <td>0.025556</td>\n",
       "      <td>14</td>\n",
       "    </tr>\n",
       "    <tr>\n",
       "      <th>4</th>\n",
       "      <td>30002</td>\n",
       "      <td>11780</td>\n",
       "      <td>65.167837</td>\n",
       "      <td>1</td>\n",
       "    </tr>\n",
       "  </tbody>\n",
       "</table>\n",
       "</div>"
      ],
      "text/plain": [
       "   parent  child  lambda_val  child_size\n",
       "0   30000  30001    0.020398       29988\n",
       "1   30000  30002    0.020398          12\n",
       "2   30001  30003    0.025556       29974\n",
       "3   30001  30004    0.025556          14\n",
       "4   30002  11780   65.167837           1"
      ]
     },
     "execution_count": 79,
     "metadata": {},
     "output_type": "execute_result"
    }
   ],
   "source": [
    "clust.condensed_tree_.to_pandas().head()"
   ]
  },
  {
   "cell_type": "code",
   "execution_count": null,
   "id": "8ce949d9-e052-4028-8870-d79c74dd01c8",
   "metadata": {},
   "outputs": [],
   "source": []
  },
  {
   "cell_type": "code",
   "execution_count": null,
   "id": "d9376209-c0d4-4de8-b7d6-6a4e8353d6b8",
   "metadata": {},
   "outputs": [],
   "source": []
  },
  {
   "cell_type": "markdown",
   "id": "6a2330d2-1aae-4a6e-900e-b40d37a1252f",
   "metadata": {},
   "source": [
    "# Explore a Example Cluster"
   ]
  },
  {
   "cell_type": "code",
   "execution_count": 80,
   "id": "442755be-afe9-4be7-8d52-664706a09225",
   "metadata": {},
   "outputs": [
    {
     "data": {
      "text/html": [
       "<div>\n",
       "<style scoped>\n",
       "    .dataframe tbody tr th:only-of-type {\n",
       "        vertical-align: middle;\n",
       "    }\n",
       "\n",
       "    .dataframe tbody tr th {\n",
       "        vertical-align: top;\n",
       "    }\n",
       "\n",
       "    .dataframe thead th {\n",
       "        text-align: right;\n",
       "    }\n",
       "</style>\n",
       "<table border=\"1\" class=\"dataframe\">\n",
       "  <thead>\n",
       "    <tr style=\"text-align: right;\">\n",
       "      <th></th>\n",
       "      <th>product</th>\n",
       "      <th>cluster</th>\n",
       "    </tr>\n",
       "  </thead>\n",
       "  <tbody>\n",
       "    <tr>\n",
       "      <th>2556</th>\n",
       "      <td>Dial Antibacterial Deodorant Bar Soap, Gold, 4...</td>\n",
       "      <td>797</td>\n",
       "    </tr>\n",
       "    <tr>\n",
       "      <th>2874</th>\n",
       "      <td>J.r. Watkins Foaming Hand Soap - Grapefruit - ...</td>\n",
       "      <td>797</td>\n",
       "    </tr>\n",
       "    <tr>\n",
       "      <th>2969</th>\n",
       "      <td>Alaffia Authentic African Black Soap, Tangerin...</td>\n",
       "      <td>797</td>\n",
       "    </tr>\n",
       "    <tr>\n",
       "      <th>3301</th>\n",
       "      <td>money soap - it cleans! it brings wealth! real...</td>\n",
       "      <td>797</td>\n",
       "    </tr>\n",
       "    <tr>\n",
       "      <th>3316</th>\n",
       "      <td>Joy 00614 Dishwashing Liquid, Lemon, 12.6 Oz B...</td>\n",
       "      <td>797</td>\n",
       "    </tr>\n",
       "    <tr>\n",
       "      <th>...</th>\n",
       "      <td>...</td>\n",
       "      <td>...</td>\n",
       "    </tr>\n",
       "    <tr>\n",
       "      <th>28936</th>\n",
       "      <td>(Pack of 4) Dial Antibacterial Liquid Hand Soa...</td>\n",
       "      <td>797</td>\n",
       "    </tr>\n",
       "    <tr>\n",
       "      <th>29081</th>\n",
       "      <td>Mrs. Meyers 1237791 Liquid Hand Soap Refill, B...</td>\n",
       "      <td>797</td>\n",
       "    </tr>\n",
       "    <tr>\n",
       "      <th>29550</th>\n",
       "      <td>Mrs. Meyers Hand Soap Lemon Verbena, 12.5 Flui...</td>\n",
       "      <td>797</td>\n",
       "    </tr>\n",
       "    <tr>\n",
       "      <th>29582</th>\n",
       "      <td>Assorted Flip Flop Decorative Hand Soap - Set ...</td>\n",
       "      <td>797</td>\n",
       "    </tr>\n",
       "    <tr>\n",
       "      <th>29829</th>\n",
       "      <td>Floris London Luxury Soaps 6 x 3.5 oz Luxury S...</td>\n",
       "      <td>797</td>\n",
       "    </tr>\n",
       "  </tbody>\n",
       "</table>\n",
       "<p>98 rows × 2 columns</p>\n",
       "</div>"
      ],
      "text/plain": [
       "                                                 product  cluster\n",
       "2556   Dial Antibacterial Deodorant Bar Soap, Gold, 4...      797\n",
       "2874   J.r. Watkins Foaming Hand Soap - Grapefruit - ...      797\n",
       "2969   Alaffia Authentic African Black Soap, Tangerin...      797\n",
       "3301   money soap - it cleans! it brings wealth! real...      797\n",
       "3316   Joy 00614 Dishwashing Liquid, Lemon, 12.6 Oz B...      797\n",
       "...                                                  ...      ...\n",
       "28936  (Pack of 4) Dial Antibacterial Liquid Hand Soa...      797\n",
       "29081  Mrs. Meyers 1237791 Liquid Hand Soap Refill, B...      797\n",
       "29550  Mrs. Meyers Hand Soap Lemon Verbena, 12.5 Flui...      797\n",
       "29582  Assorted Flip Flop Decorative Hand Soap - Set ...      797\n",
       "29829  Floris London Luxury Soaps 6 x 3.5 oz Luxury S...      797\n",
       "\n",
       "[98 rows x 2 columns]"
      ]
     },
     "execution_count": 80,
     "metadata": {},
     "output_type": "execute_result"
    }
   ],
   "source": [
    "mask = res['cluster'] == 797\n",
    "res[mask]"
   ]
  },
  {
   "cell_type": "markdown",
   "id": "ebe4f17b-c670-4ee1-b137-c42b523f8f47",
   "metadata": {},
   "source": [
    "A list makes it easier to read the full product names"
   ]
  },
  {
   "cell_type": "code",
   "execution_count": 81,
   "id": "9f711841-45c8-4b89-8501-1635cb7c8fac",
   "metadata": {},
   "outputs": [
    {
     "data": {
      "text/plain": [
       "['Dial Antibacterial Deodorant Bar Soap, Gold, 4 Ounce, 12 Bars',\n",
       " 'J.r. Watkins Foaming Hand Soap - Grapefruit - Pack of 6 - 9 Fl Oz',\n",
       " 'Alaffia Authentic African Black Soap, Tangerine Citrus 2 oz',\n",
       " 'money soap - it cleans! it brings wealth! real money in every bar from 1$ to 50$ - 5 oz (141g)',\n",
       " 'Joy 00614 Dishwashing Liquid, Lemon, 12.6 Oz Bottle, 25/carton',\n",
       " 'Mrs. Meyers Clean Day Liquid Hand Soap Refill, Lemon Verbena, 33 fl oz',\n",
       " 'One With Nature Dead Sea Mineral Olive Oil Soap - 7 oz',\n",
       " 'MICRELL Antibacterial Lotion Soap, Gold, 800 mL Soap Refill for MICRELL Bag-in-Box Push-Style Dispenser (Pack of 6) - 9756-06',\n",
       " 'Mrs. Meyers Rhubarb Liquid Hand Soap (6x12.5 Oz)',\n",
       " 'Yardley London Soothing Luxurious Hand Soap, Oatmeal & Almond, 8.4 Oz Bar',\n",
       " 'Rubbermaid Commercial FG750112 AutoFoam 1,100mL Moisturizing Hand Soap Refill (4-Pack)',\n",
       " 'Areej 1 LB Clear Glycerin Melt and Pour Soap Base',\n",
       " '3 Pack - Dial Anti-Bacterial Hand Soap with Moisturizer, Sweet Watermelon 7.50 oz',\n",
       " 'Softsoap Liquid Hand Soap Pump, Black Raspberry and Vanilla - 11.25 oz',\n",
       " 'Everyone 3-in-1 Soap for Men Cedar and Citrus 32 Oz.',\n",
       " 'Ivy-dry Soap. Instantly Removes Poison-ivy, Oak and Sumac. 3 Bars of Soap (0.7 Oz Each)',\n",
       " 'Defense Soap Healing Salve',\n",
       " 'Hand Soap, Unscented Bar, 4oz, 48/Carton',\n",
       " 'Irish Spring Original, Deodorant Bar Soap, 3.7 Ounce, 12 Bar Pack',\n",
       " 'Product of Softsoap Liquid Hand Soap, 4 pk./11.25 oz. - Hand Soap & Sanitizers [Bulk Savings]',\n",
       " 'ACQUAINT Foam Hand Soap, 1250mL Refill, Fruity 6162-04',\n",
       " 'Softsoap, CPC01900CT, Aloe Vera Soap Refill, 4 / Carton, White',\n",
       " '4 PACKS : Dial Complete Antimicrobial Foaming Hand Soap - for Foodservice Workers, 1 Liter -- 4 per case.',\n",
       " 'Boardwalk Antibacterial Liquid Soap, Floral Balsam, 1gal Bottle',\n",
       " 'Bee & Flower Rose Soap 4.4 oz Bar(S)',\n",
       " 'Paul Mitchell Refreshing Citrus Bath Soap lot of 16 each 1.5 Oz bars. Total of 24 Oz',\n",
       " 'Mrs. Meyers Toilet Bowl Cleaner - Lemon Verbena - 24 Fl Oz',\n",
       " 'Zest Zestfully Clean! Ocean Breeze Refreshing Bar Soap, 4.0 oz, 8 count',\n",
       " 'African Formula Sulfur Soap Acne Treatment Soap Bar, 3.5 Oz',\n",
       " 'Provon Antimicrobial Lotion Soap - 16 oz Pump',\n",
       " '771331 771331 771331 Soap Hand Softsoap 800mL Antibacterial Aloe Crtdg 1/Pk from Office Depot',\n",
       " 'Earth Friendly Products ECOS Ultra Dishmate Hand Dish Soap, Free and Clear, 25oz',\n",
       " 'Shea Moisture African Black Soap With Shea Butter 8 oz (Pack of 3)',\n",
       " 'Mrs. Meyer´s Clean Day Hand Soap Refill, Rain Water, 33 fl oz',\n",
       " 'Dial Liquid Soap - 7.5 Fl Oz [221.8 Ml] - Push Pump Dispenser - Antimicrobial, Anti-bacterial - 1 Each (DPR84014)',\n",
       " 'GOJO Ultra Mild Foam Hand Soap, 1200mL Refill, PK2 5383-02',\n",
       " 'Dr. Woods Natural Raw Black Peppermint Liquid Castile Soap w/Organic Shea 8 oz',\n",
       " 'Dial Liquid Hand Soap, Vanilla Honey 7.50 oz (Pack of 2)',\n",
       " 'Lever 2000 Bar Soap Aloe & Cucumber 4 oz, 12 Bar',\n",
       " 'InterDesign Franklin Soap Pump Dispenser, Frosted',\n",
       " 'Everyone Kid Soap - Orange Squeeze - Pack of 1 - 16 fl oz.',\n",
       " 'Maddawash 741320002 Medium Terry Soap Mitt, Can be used on the left or right hand By Maddak Inc Ship from US',\n",
       " 'Dr. Woods Peppermint Castile Soap, Fair Trade Shea Butter, 32 fl oz (946 ml)',\n",
       " 'Seventh Generation Fresh Citrus Dish Liquid Soap, 22 oz',\n",
       " 'EnMotion Gen2 Refills Herbal 40.5 Oz. 2/Carton (42715) 2554959',\n",
       " 'Cucina Lime Zest & Cypress Hand Wash Refill 33.8oz',\n",
       " 'Avalon Organics Rejuvenating Rosemary Glycerin Hand Soap, 12 oz.',\n",
       " 'InterDesign Franklin Soap Pump Dispenser, Sand',\n",
       " 'Great Value Ultra Concentrated & Grease Fighting Lemon Scent Dishwashing Liquid, 24 Fl. Oz.',\n",
       " 'Nature Secrete Exfoliating lightening soap 11.6 oz',\n",
       " 'Palmolive Bath Bar Soap, Classic Scent 3.20 oz, 3 ea',\n",
       " 'Hotello Bar Soap, 1 1/2 oz, Individually Wrapped, 500/Carton',\n",
       " '2 Pack - Dial Professional 84019 Gold Antimicrobial Liquid Hand Soap, Floral, 1000mL Refill Bottle 1 ea',\n",
       " 'HUMCO 104994001 Green Soap Tincture USP 4 oz, Shape',\n",
       " 'Maja Women by Myrurgia 3 x 3.15 oz Rectangular Soap',\n",
       " 'Shelley Kyle Ballerine Liquid Hand Soap 8oz',\n",
       " '4 Pack - Dial Antibacterial Liquid Hand Soap Refill, Spring Water 52 oz',\n",
       " 'Avalon Organics Nourishing Lavender Glycerin Hand Soap, 12 oz.',\n",
       " 'Mrs. Meyers Clean Day Liquid Hand Soap Refill, Lemon Verbena - 33 Oz',\n",
       " 'Caro White Soap 6.3oz (Pack of 2)',\n",
       " 'New 215117 3Pk Jergens Mild Soap (32-Pack) Hand And Bar Soaps Cheap Wholesale Discount Bulk Health And Beauty Hand And Bar Soaps X Others',\n",
       " '4 Pack - Avalon Organics Glycerin Hand Soap, Nourishing Lavender 12 oz',\n",
       " 'Dial, DIA84019, Original Gold Antimicrobial Soap Refill, 1 Each, Orange',\n",
       " 'Boulder Clean Liquid Dish Soap, Valencia Orange, 28 oz',\n",
       " 'Heno De Pravia set of 6 body soaps 4 oz',\n",
       " 'Shea Moisture African Black Soap Bamboo Charcoal Purification Masque 340g/12oz (Pack of 2)',\n",
       " '6 Pack Basis Sensitive Skin Bar Soap 4 oz (113 g)',\n",
       " 'African Black Soap',\n",
       " 'Boraxo 02203CT Original Unscented Powdered Hand Soap (10-Pack)',\n",
       " 'Great Value Hand Rejuvenation Dishwashing Liquid, Fresh Pomegranate, 40 fl oz',\n",
       " 'GOJO 1250 ml Refill Orange Blossom Scented Antibacterial Luxuury Foam Handwash Chloroxylenol Liquid',\n",
       " 'Fair & White Exclusive Exfoliating Soap w/Pure Vitamin C 7oz/200g',\n",
       " 'Softsoap Liquid Hand Soap, Cherry Blossom, 11.25 Oz, 2 Pack',\n",
       " 'Dial Glycerin Bar Soap with Power Berries, Cranberry, 4 oz bars, 3 ea (Pack of 4)',\n",
       " 'Lucky Super Soft Mermaid Liquid Soap, Ocean Fresh, 13.5 Oz',\n",
       " 'mysore sandalwood soap 150g double size (pack of 6)',\n",
       " '4 Pack - Traditional 10% Sulfur Soap',\n",
       " '2 Pack - Lava Heavy Duty Hand Soap 5.75 oz',\n",
       " '6 Pack - Grisi Neutral Soap, 3.5 oz',\n",
       " 'Eo Products Everyone Hand Soap - Lavender And Coconut - 12.75 Oz',\n",
       " 'Product of Softsoap Aloe Liquid Hand Soap, 2 pk./64 oz.',\n",
       " 'Ambi Complexion Cleansing Bar Soap, 3.5 oz (Pack of 2)',\n",
       " 'Mario Badescu A.H.A. Botanical Body Soap, 16 Fl Oz',\n",
       " 'Dial Boraxo Powdered Hand Soap, 12 Oz',\n",
       " 'Mrs. Meyers HG1237791 33 fl oz Liquid Hand Soap Refill, Basil',\n",
       " 'Sierra Dawn Campsuds Outdoor Soap Biodegradable Environmentally Safe All Purpose Cleaner, Camping Hiking Backpacking Travel Camp, Multipurpose for Dishes Shower Hand Shampoo',\n",
       " 'Harrys Fig Bar Soap 5oz',\n",
       " 'Dettol Original Soap, 125g (Pack of 4)',\n",
       " 'Rubbermaid Commercial FG4013131 Green Seal Certified Lotion Soap, Honeysuckle Scent, 800ml Refill, 4/carton',\n",
       " 'Hotel Size Steel Wool Soap Pad,10/Box,120/Carton',\n",
       " 'Maja Set Of 3 Soaps 4.9 oz each',\n",
       " 'Dettol Co-created with moms Tulsi Bathing Soap, 125gm (Buy 4 Get 1 Free)',\n",
       " 'Mrs. Meyers Clean Day Liquid Hand Soap, Apple 12.5 oz (Pack of 2)',\n",
       " '(Pack of 4) Dial Antibacterial Liquid Hand Soap, Spring Water, 9.375 Ounce',\n",
       " 'Mrs. Meyers 1237791 Liquid Hand Soap Refill, Basil - 33 fl oz',\n",
       " 'Mrs. Meyers Hand Soap Lemon Verbena, 12.5 Fluid Ounce (Pack of 3)',\n",
       " 'Assorted Flip Flop Decorative Hand Soap - Set of Five',\n",
       " 'Floris London Luxury Soaps 6 x 3.5 oz Luxury Soap Collection']"
      ]
     },
     "execution_count": 81,
     "metadata": {},
     "output_type": "execute_result"
    }
   ],
   "source": [
    "[p for p in res.loc[mask, 'product']]"
   ]
  },
  {
   "cell_type": "markdown",
   "id": "528bc73e-5a19-4e99-a3f3-bec797bdadc4",
   "metadata": {},
   "source": [
    "# Find Most Common Words in Cluster\n",
    "\n",
    "These would be topics.  We're doing a simple frequency analysis (vice TF-IDF) as we expect documents to be similar, thus aren't interested in words that distinguish them from others in the clusters, but rather words that are common within the cluster.\n",
    "\n",
    "Intuitively, these results make sense."
   ]
  },
  {
   "cell_type": "code",
   "execution_count": 53,
   "id": "e6184e0a-b1e5-4f8e-ba5f-8d5d45108faa",
   "metadata": {},
   "outputs": [],
   "source": [
    "from collections import Counter\n",
    "import re"
   ]
  },
  {
   "cell_type": "code",
   "execution_count": 83,
   "id": "4d984eb8-7105-475d-869a-22bd54e11566",
   "metadata": {},
   "outputs": [
    {
     "data": {
      "text/plain": [
       "[('Soap', 87), ('Hand', 40), ('Pack', 24), ('oz', 24), ('Liquid', 24)]"
      ]
     },
     "execution_count": 83,
     "metadata": {},
     "output_type": "execute_result"
    }
   ],
   "source": [
    "mask = res['cluster'] == 797\n",
    "bow = re.findall(r'\\w+', ''.join([p for p in res.loc[mask, 'product']]))\n",
    "c = Counter(bow)\n",
    "c.most_common()[:5]"
   ]
  },
  {
   "cell_type": "code",
   "execution_count": 84,
   "id": "31bc95e1-d7bd-40bc-9931-2fb470ab39be",
   "metadata": {},
   "outputs": [],
   "source": [
    "from sklearn.feature_extraction.text import CountVectorizer"
   ]
  },
  {
   "cell_type": "code",
   "execution_count": 121,
   "id": "51394be0-3dc9-4365-a54d-d7db065cc96f",
   "metadata": {},
   "outputs": [],
   "source": [
    "c = CountVectorizer(\n",
    "    strip_accents='ascii',\n",
    "    stop_words='english',\n",
    "    ngram_range=(2,3)\n",
    ")"
   ]
  },
  {
   "cell_type": "code",
   "execution_count": 122,
   "id": "b04079f0-5899-4b04-8ad8-4c4537ba79a3",
   "metadata": {},
   "outputs": [
    {
     "data": {
      "text/plain": [
       "(98, 1302)"
      ]
     },
     "execution_count": 122,
     "metadata": {},
     "output_type": "execute_result"
    }
   ],
   "source": [
    "x = c.fit_transform([p for p in res.loc[mask, 'product']])\n",
    "x.shape"
   ]
  },
  {
   "cell_type": "code",
   "execution_count": 123,
   "id": "bb435501-1164-419d-ad18-27af048544a8",
   "metadata": {},
   "outputs": [
    {
     "data": {
      "text/plain": [
       "hand soap           34\n",
       "liquid hand         15\n",
       "liquid hand soap    15\n",
       "fl oz               12\n",
       "soap refill         10\n",
       "dtype: int64"
      ]
     },
     "execution_count": 123,
     "metadata": {},
     "output_type": "execute_result"
    }
   ],
   "source": [
    "pd.DataFrame(x.toarray(), columns=c.get_feature_names_out()).sum(0).sort_values(ascending=False).head(5)"
   ]
  },
  {
   "cell_type": "markdown",
   "id": "9eb4a4e9-b2d3-45bc-9390-0642f4d11170",
   "metadata": {},
   "source": [
    "------------"
   ]
  },
  {
   "cell_type": "code",
   "execution_count": 124,
   "id": "287d9d38-9cd3-4def-8f89-7a3dd818cd23",
   "metadata": {},
   "outputs": [],
   "source": [
    "red = umap.UMAP(n_components=int(embeddings.shape[1]*.2))\n",
    "red_embed = red.fit_transform(embeddings)"
   ]
  },
  {
   "cell_type": "code",
   "execution_count": 125,
   "id": "706b677a-a3ce-4481-8184-751a0fbcb2fd",
   "metadata": {},
   "outputs": [],
   "source": [
    "sc = StandardScaler()\n",
    "red_embed = sc.fit_transform(red_embed)"
   ]
  },
  {
   "cell_type": "code",
   "execution_count": 126,
   "id": "5c8b495e-5c36-48f0-812a-8897ad8641d1",
   "metadata": {},
   "outputs": [
    {
     "data": {
      "text/html": [
       "<style>#sk-container-id-9 {color: black;background-color: white;}#sk-container-id-9 pre{padding: 0;}#sk-container-id-9 div.sk-toggleable {background-color: white;}#sk-container-id-9 label.sk-toggleable__label {cursor: pointer;display: block;width: 100%;margin-bottom: 0;padding: 0.3em;box-sizing: border-box;text-align: center;}#sk-container-id-9 label.sk-toggleable__label-arrow:before {content: \"▸\";float: left;margin-right: 0.25em;color: #696969;}#sk-container-id-9 label.sk-toggleable__label-arrow:hover:before {color: black;}#sk-container-id-9 div.sk-estimator:hover label.sk-toggleable__label-arrow:before {color: black;}#sk-container-id-9 div.sk-toggleable__content {max-height: 0;max-width: 0;overflow: hidden;text-align: left;background-color: #f0f8ff;}#sk-container-id-9 div.sk-toggleable__content pre {margin: 0.2em;color: black;border-radius: 0.25em;background-color: #f0f8ff;}#sk-container-id-9 input.sk-toggleable__control:checked~div.sk-toggleable__content {max-height: 200px;max-width: 100%;overflow: auto;}#sk-container-id-9 input.sk-toggleable__control:checked~label.sk-toggleable__label-arrow:before {content: \"▾\";}#sk-container-id-9 div.sk-estimator input.sk-toggleable__control:checked~label.sk-toggleable__label {background-color: #d4ebff;}#sk-container-id-9 div.sk-label input.sk-toggleable__control:checked~label.sk-toggleable__label {background-color: #d4ebff;}#sk-container-id-9 input.sk-hidden--visually {border: 0;clip: rect(1px 1px 1px 1px);clip: rect(1px, 1px, 1px, 1px);height: 1px;margin: -1px;overflow: hidden;padding: 0;position: absolute;width: 1px;}#sk-container-id-9 div.sk-estimator {font-family: monospace;background-color: #f0f8ff;border: 1px dotted black;border-radius: 0.25em;box-sizing: border-box;margin-bottom: 0.5em;}#sk-container-id-9 div.sk-estimator:hover {background-color: #d4ebff;}#sk-container-id-9 div.sk-parallel-item::after {content: \"\";width: 100%;border-bottom: 1px solid gray;flex-grow: 1;}#sk-container-id-9 div.sk-label:hover label.sk-toggleable__label {background-color: #d4ebff;}#sk-container-id-9 div.sk-serial::before {content: \"\";position: absolute;border-left: 1px solid gray;box-sizing: border-box;top: 0;bottom: 0;left: 50%;z-index: 0;}#sk-container-id-9 div.sk-serial {display: flex;flex-direction: column;align-items: center;background-color: white;padding-right: 0.2em;padding-left: 0.2em;position: relative;}#sk-container-id-9 div.sk-item {position: relative;z-index: 1;}#sk-container-id-9 div.sk-parallel {display: flex;align-items: stretch;justify-content: center;background-color: white;position: relative;}#sk-container-id-9 div.sk-item::before, #sk-container-id-9 div.sk-parallel-item::before {content: \"\";position: absolute;border-left: 1px solid gray;box-sizing: border-box;top: 0;bottom: 0;left: 50%;z-index: -1;}#sk-container-id-9 div.sk-parallel-item {display: flex;flex-direction: column;z-index: 1;position: relative;background-color: white;}#sk-container-id-9 div.sk-parallel-item:first-child::after {align-self: flex-end;width: 50%;}#sk-container-id-9 div.sk-parallel-item:last-child::after {align-self: flex-start;width: 50%;}#sk-container-id-9 div.sk-parallel-item:only-child::after {width: 0;}#sk-container-id-9 div.sk-dashed-wrapped {border: 1px dashed gray;margin: 0 0.4em 0.5em 0.4em;box-sizing: border-box;padding-bottom: 0.4em;background-color: white;}#sk-container-id-9 div.sk-label label {font-family: monospace;font-weight: bold;display: inline-block;line-height: 1.2em;}#sk-container-id-9 div.sk-label-container {text-align: center;}#sk-container-id-9 div.sk-container {/* jupyter's `normalize.less` sets `[hidden] { display: none; }` but bootstrap.min.css set `[hidden] { display: none !important; }` so we also need the `!important` here to be able to override the default hidden behavior on the sphinx rendered scikit-learn.org. See: https://github.com/scikit-learn/scikit-learn/issues/21755 */display: inline-block !important;position: relative;}#sk-container-id-9 div.sk-text-repr-fallback {display: none;}</style><div id=\"sk-container-id-9\" class=\"sk-top-container\"><div class=\"sk-text-repr-fallback\"><pre>HDBSCAN(cluster_selection_epsilon=0.25)</pre><b>In a Jupyter environment, please rerun this cell to show the HTML representation or trust the notebook. <br />On GitHub, the HTML representation is unable to render, please try loading this page with nbviewer.org.</b></div><div class=\"sk-container\" hidden><div class=\"sk-item\"><div class=\"sk-estimator sk-toggleable\"><input class=\"sk-toggleable__control sk-hidden--visually\" id=\"sk-estimator-id-9\" type=\"checkbox\" checked><label for=\"sk-estimator-id-9\" class=\"sk-toggleable__label sk-toggleable__label-arrow\">HDBSCAN</label><div class=\"sk-toggleable__content\"><pre>HDBSCAN(cluster_selection_epsilon=0.25)</pre></div></div></div></div></div>"
      ],
      "text/plain": [
       "HDBSCAN(cluster_selection_epsilon=0.25)"
      ]
     },
     "execution_count": 126,
     "metadata": {},
     "output_type": "execute_result"
    }
   ],
   "source": [
    "clust = hdbscan.HDBSCAN(min_cluster_size=5, cluster_selection_epsilon=.25)\n",
    "clust.fit(red_embed)"
   ]
  },
  {
   "cell_type": "code",
   "execution_count": 127,
   "id": "e62d4cdc-edb3-4cb8-a49c-5db64923576a",
   "metadata": {},
   "outputs": [],
   "source": [
    "res = pd.DataFrame({\n",
    "    'product': products,\n",
    "    'cluster': clust.labels_\n",
    "})"
   ]
  },
  {
   "cell_type": "code",
   "execution_count": 128,
   "id": "f7c79133-75b2-4787-a0f5-1d5889cbc736",
   "metadata": {},
   "outputs": [
    {
     "data": {
      "text/html": [
       "<div>\n",
       "<style scoped>\n",
       "    .dataframe tbody tr th:only-of-type {\n",
       "        vertical-align: middle;\n",
       "    }\n",
       "\n",
       "    .dataframe tbody tr th {\n",
       "        vertical-align: top;\n",
       "    }\n",
       "\n",
       "    .dataframe thead th {\n",
       "        text-align: right;\n",
       "    }\n",
       "</style>\n",
       "<table border=\"1\" class=\"dataframe\">\n",
       "  <thead>\n",
       "    <tr style=\"text-align: right;\">\n",
       "      <th></th>\n",
       "      <th>product</th>\n",
       "    </tr>\n",
       "    <tr>\n",
       "      <th>cluster</th>\n",
       "      <th></th>\n",
       "    </tr>\n",
       "  </thead>\n",
       "  <tbody>\n",
       "    <tr>\n",
       "      <th>-1</th>\n",
       "      <td>9112</td>\n",
       "    </tr>\n",
       "    <tr>\n",
       "      <th>236</th>\n",
       "      <td>237</td>\n",
       "    </tr>\n",
       "    <tr>\n",
       "      <th>5</th>\n",
       "      <td>224</td>\n",
       "    </tr>\n",
       "    <tr>\n",
       "      <th>97</th>\n",
       "      <td>183</td>\n",
       "    </tr>\n",
       "    <tr>\n",
       "      <th>705</th>\n",
       "      <td>172</td>\n",
       "    </tr>\n",
       "    <tr>\n",
       "      <th>120</th>\n",
       "      <td>166</td>\n",
       "    </tr>\n",
       "    <tr>\n",
       "      <th>783</th>\n",
       "      <td>153</td>\n",
       "    </tr>\n",
       "    <tr>\n",
       "      <th>737</th>\n",
       "      <td>142</td>\n",
       "    </tr>\n",
       "    <tr>\n",
       "      <th>565</th>\n",
       "      <td>139</td>\n",
       "    </tr>\n",
       "    <tr>\n",
       "      <th>110</th>\n",
       "      <td>128</td>\n",
       "    </tr>\n",
       "    <tr>\n",
       "      <th>634</th>\n",
       "      <td>122</td>\n",
       "    </tr>\n",
       "    <tr>\n",
       "      <th>4</th>\n",
       "      <td>120</td>\n",
       "    </tr>\n",
       "    <tr>\n",
       "      <th>152</th>\n",
       "      <td>119</td>\n",
       "    </tr>\n",
       "    <tr>\n",
       "      <th>596</th>\n",
       "      <td>112</td>\n",
       "    </tr>\n",
       "    <tr>\n",
       "      <th>785</th>\n",
       "      <td>110</td>\n",
       "    </tr>\n",
       "    <tr>\n",
       "      <th>396</th>\n",
       "      <td>106</td>\n",
       "    </tr>\n",
       "    <tr>\n",
       "      <th>21</th>\n",
       "      <td>97</td>\n",
       "    </tr>\n",
       "    <tr>\n",
       "      <th>57</th>\n",
       "      <td>96</td>\n",
       "    </tr>\n",
       "    <tr>\n",
       "      <th>228</th>\n",
       "      <td>94</td>\n",
       "    </tr>\n",
       "    <tr>\n",
       "      <th>234</th>\n",
       "      <td>92</td>\n",
       "    </tr>\n",
       "  </tbody>\n",
       "</table>\n",
       "</div>"
      ],
      "text/plain": [
       "         product\n",
       "cluster         \n",
       "-1          9112\n",
       " 236         237\n",
       " 5           224\n",
       " 97          183\n",
       " 705         172\n",
       " 120         166\n",
       " 783         153\n",
       " 737         142\n",
       " 565         139\n",
       " 110         128\n",
       " 634         122\n",
       " 4           120\n",
       " 152         119\n",
       " 596         112\n",
       " 785         110\n",
       " 396         106\n",
       " 21           97\n",
       " 57           96\n",
       " 228          94\n",
       " 234          92"
      ]
     },
     "execution_count": 128,
     "metadata": {},
     "output_type": "execute_result"
    }
   ],
   "source": [
    "res.groupby('cluster').count().sort_values('product', ascending=False)[:20]"
   ]
  },
  {
   "cell_type": "code",
   "execution_count": 136,
   "id": "52659403-de53-407d-918c-b3b72258ec96",
   "metadata": {},
   "outputs": [
    {
     "data": {
      "text/html": [
       "<div>\n",
       "<style scoped>\n",
       "    .dataframe tbody tr th:only-of-type {\n",
       "        vertical-align: middle;\n",
       "    }\n",
       "\n",
       "    .dataframe tbody tr th {\n",
       "        vertical-align: top;\n",
       "    }\n",
       "\n",
       "    .dataframe thead th {\n",
       "        text-align: right;\n",
       "    }\n",
       "</style>\n",
       "<table border=\"1\" class=\"dataframe\">\n",
       "  <thead>\n",
       "    <tr style=\"text-align: right;\">\n",
       "      <th></th>\n",
       "      <th>product</th>\n",
       "      <th>cluster</th>\n",
       "    </tr>\n",
       "  </thead>\n",
       "  <tbody>\n",
       "    <tr>\n",
       "      <th>3351</th>\n",
       "      <td>Watermelon Cooler Flavor Fountain and Color (4...</td>\n",
       "      <td>679</td>\n",
       "    </tr>\n",
       "    <tr>\n",
       "      <th>3738</th>\n",
       "      <td>Gatorade G2 Cool Blue Sports Drink, 12 Fl. Oz....</td>\n",
       "      <td>679</td>\n",
       "    </tr>\n",
       "    <tr>\n",
       "      <th>4302</th>\n",
       "      <td>Gatorade Thirst Quencher Frost Sports Drink, G...</td>\n",
       "      <td>679</td>\n",
       "    </tr>\n",
       "    <tr>\n",
       "      <th>5500</th>\n",
       "      <td>Gatorade Fierce Intense Melon Sports Drink, 28...</td>\n",
       "      <td>679</td>\n",
       "    </tr>\n",
       "    <tr>\n",
       "      <th>8269</th>\n",
       "      <td>(1 Can) Red Bull Energy Drink, Plum-Twist, 12 ...</td>\n",
       "      <td>679</td>\n",
       "    </tr>\n",
       "    <tr>\n",
       "      <th>8633</th>\n",
       "      <td>(24 Cans) Rockstar Recovery Energy Drink, Lemo...</td>\n",
       "      <td>679</td>\n",
       "    </tr>\n",
       "    <tr>\n",
       "      <th>9309</th>\n",
       "      <td>Powerade Zero Sports Drink, Fruit Punch, 20 Fl...</td>\n",
       "      <td>679</td>\n",
       "    </tr>\n",
       "    <tr>\n",
       "      <th>10834</th>\n",
       "      <td>Snowy River Cocktail Sugar Red (1x4oz)</td>\n",
       "      <td>679</td>\n",
       "    </tr>\n",
       "    <tr>\n",
       "      <th>11109</th>\n",
       "      <td>POWERADE Strawberry Lemonade Bottle, 28 fl oz</td>\n",
       "      <td>679</td>\n",
       "    </tr>\n",
       "    <tr>\n",
       "      <th>11259</th>\n",
       "      <td>(2 pack) Mountain Lightning Energy Drink with ...</td>\n",
       "      <td>679</td>\n",
       "    </tr>\n",
       "    <tr>\n",
       "      <th>12429</th>\n",
       "      <td>Xyience Xenergy Lemonade Raspberry Energy Drin...</td>\n",
       "      <td>679</td>\n",
       "    </tr>\n",
       "    <tr>\n",
       "      <th>12475</th>\n",
       "      <td>Red Bull The Summer Edition Watermelon Energy ...</td>\n",
       "      <td>679</td>\n",
       "    </tr>\n",
       "    <tr>\n",
       "      <th>12982</th>\n",
       "      <td>Gatorade Thirst Quencher Lemon-Lime Sports Dri...</td>\n",
       "      <td>679</td>\n",
       "    </tr>\n",
       "    <tr>\n",
       "      <th>13253</th>\n",
       "      <td>National Beverage Rip It Energy Fuel, 16 oz</td>\n",
       "      <td>679</td>\n",
       "    </tr>\n",
       "    <tr>\n",
       "      <th>13521</th>\n",
       "      <td>Gatorade Thirst Quencher Frost Sports Drink, T...</td>\n",
       "      <td>679</td>\n",
       "    </tr>\n",
       "    <tr>\n",
       "      <th>16929</th>\n",
       "      <td>Horse Power X Lemonade 225gm</td>\n",
       "      <td>679</td>\n",
       "    </tr>\n",
       "    <tr>\n",
       "      <th>17470</th>\n",
       "      <td>Red Bull The Peach Edition Peach-Nectarine Ene...</td>\n",
       "      <td>679</td>\n",
       "    </tr>\n",
       "    <tr>\n",
       "      <th>18415</th>\n",
       "      <td>Blue Sky Juiced Energy Drink, 16 Fl. Oz.</td>\n",
       "      <td>679</td>\n",
       "    </tr>\n",
       "    <tr>\n",
       "      <th>20599</th>\n",
       "      <td>Matchabar - Energy Drink Matcha Hustl - Case o...</td>\n",
       "      <td>679</td>\n",
       "    </tr>\n",
       "    <tr>\n",
       "      <th>21095</th>\n",
       "      <td>Powerade Zero Fruit Punch Sports Drink, 12 Fl....</td>\n",
       "      <td>679</td>\n",
       "    </tr>\n",
       "    <tr>\n",
       "      <th>21510</th>\n",
       "      <td>Venom Mango Energy Drink, 8 Fl. Oz.</td>\n",
       "      <td>679</td>\n",
       "    </tr>\n",
       "    <tr>\n",
       "      <th>21967</th>\n",
       "      <td>C4 Explosive Energy, Natural Zero Carbonated D...</td>\n",
       "      <td>679</td>\n",
       "    </tr>\n",
       "    <tr>\n",
       "      <th>24448</th>\n",
       "      <td>Snapple Venom Energy Black Cherry Can 16 fl oz</td>\n",
       "      <td>679</td>\n",
       "    </tr>\n",
       "    <tr>\n",
       "      <th>27521</th>\n",
       "      <td>Red Bull Sugarfree, Energy Drink, 8.4 Fl Oz Ca...</td>\n",
       "      <td>679</td>\n",
       "    </tr>\n",
       "    <tr>\n",
       "      <th>29178</th>\n",
       "      <td>Dr.s Advantage, Liquid Extreme Energy Athletic...</td>\n",
       "      <td>679</td>\n",
       "    </tr>\n",
       "  </tbody>\n",
       "</table>\n",
       "</div>"
      ],
      "text/plain": [
       "                                                 product  cluster\n",
       "3351   Watermelon Cooler Flavor Fountain and Color (4...      679\n",
       "3738   Gatorade G2 Cool Blue Sports Drink, 12 Fl. Oz....      679\n",
       "4302   Gatorade Thirst Quencher Frost Sports Drink, G...      679\n",
       "5500   Gatorade Fierce Intense Melon Sports Drink, 28...      679\n",
       "8269   (1 Can) Red Bull Energy Drink, Plum-Twist, 12 ...      679\n",
       "8633   (24 Cans) Rockstar Recovery Energy Drink, Lemo...      679\n",
       "9309   Powerade Zero Sports Drink, Fruit Punch, 20 Fl...      679\n",
       "10834             Snowy River Cocktail Sugar Red (1x4oz)      679\n",
       "11109      POWERADE Strawberry Lemonade Bottle, 28 fl oz      679\n",
       "11259  (2 pack) Mountain Lightning Energy Drink with ...      679\n",
       "12429  Xyience Xenergy Lemonade Raspberry Energy Drin...      679\n",
       "12475  Red Bull The Summer Edition Watermelon Energy ...      679\n",
       "12982  Gatorade Thirst Quencher Lemon-Lime Sports Dri...      679\n",
       "13253        National Beverage Rip It Energy Fuel, 16 oz      679\n",
       "13521  Gatorade Thirst Quencher Frost Sports Drink, T...      679\n",
       "16929                       Horse Power X Lemonade 225gm      679\n",
       "17470  Red Bull The Peach Edition Peach-Nectarine Ene...      679\n",
       "18415           Blue Sky Juiced Energy Drink, 16 Fl. Oz.      679\n",
       "20599  Matchabar - Energy Drink Matcha Hustl - Case o...      679\n",
       "21095  Powerade Zero Fruit Punch Sports Drink, 12 Fl....      679\n",
       "21510                Venom Mango Energy Drink, 8 Fl. Oz.      679\n",
       "21967  C4 Explosive Energy, Natural Zero Carbonated D...      679\n",
       "24448     Snapple Venom Energy Black Cherry Can 16 fl oz      679\n",
       "27521  Red Bull Sugarfree, Energy Drink, 8.4 Fl Oz Ca...      679\n",
       "29178  Dr.s Advantage, Liquid Extreme Energy Athletic...      679"
      ]
     },
     "execution_count": 136,
     "metadata": {},
     "output_type": "execute_result"
    }
   ],
   "source": [
    "mask = res['cluster'] == 679\n",
    "res[mask]"
   ]
  },
  {
   "cell_type": "code",
   "execution_count": 137,
   "id": "10ae9fcc-bdcc-4c23-a796-897fa8651c96",
   "metadata": {},
   "outputs": [
    {
     "data": {
      "text/plain": [
       "[('fl', 19), ('drink', 18), ('oz', 15), ('energy', 14), ('12', 10)]"
      ]
     },
     "execution_count": 137,
     "metadata": {},
     "output_type": "execute_result"
    }
   ],
   "source": [
    "mask = res['cluster'] == 679\n",
    "bow = re.findall(r'\\w+', ''.join([p.lower() for p in res.loc[mask, 'product']]))\n",
    "c = Counter(bow)\n",
    "c.most_common()[:5]"
   ]
  },
  {
   "cell_type": "code",
   "execution_count": 139,
   "id": "ff63afb0-3bf2-4918-94c4-d1ae63797a03",
   "metadata": {},
   "outputs": [
    {
     "data": {
      "text/plain": [
       "fl oz           19\n",
       "energy drink    10\n",
       "sports drink     7\n",
       "12 fl            5\n",
       "12 fl oz         5\n",
       "dtype: int64"
      ]
     },
     "execution_count": 139,
     "metadata": {},
     "output_type": "execute_result"
    }
   ],
   "source": [
    "c = CountVectorizer(\n",
    "    strip_accents='ascii',\n",
    "    stop_words='english',\n",
    "    ngram_range=(2,3)\n",
    ")\n",
    "\n",
    "x = c.fit_transform([p for p in res.loc[mask, 'product']])\n",
    "pd.DataFrame(x.toarray(), columns=c.get_feature_names_out()).sum(0).sort_values(ascending=False).head(5)"
   ]
  },
  {
   "cell_type": "code",
   "execution_count": 140,
   "id": "48724231-04e1-4ba4-a313-bcc64da22e78",
   "metadata": {},
   "outputs": [
    {
     "data": {
      "text/html": [
       "<div>\n",
       "<style scoped>\n",
       "    .dataframe tbody tr th:only-of-type {\n",
       "        vertical-align: middle;\n",
       "    }\n",
       "\n",
       "    .dataframe tbody tr th {\n",
       "        vertical-align: top;\n",
       "    }\n",
       "\n",
       "    .dataframe thead th {\n",
       "        text-align: right;\n",
       "    }\n",
       "</style>\n",
       "<table border=\"1\" class=\"dataframe\">\n",
       "  <thead>\n",
       "    <tr style=\"text-align: right;\">\n",
       "      <th></th>\n",
       "      <th>product</th>\n",
       "      <th>cluster</th>\n",
       "    </tr>\n",
       "  </thead>\n",
       "  <tbody>\n",
       "    <tr>\n",
       "      <th>719</th>\n",
       "      <td>OneTouch Verio Test Strip (100 count)-Box of 100</td>\n",
       "      <td>21</td>\n",
       "    </tr>\n",
       "    <tr>\n",
       "      <th>918</th>\n",
       "      <td>Contour Next Blood Glucose Test Strips for Sel...</td>\n",
       "      <td>21</td>\n",
       "    </tr>\n",
       "    <tr>\n",
       "      <th>1002</th>\n",
       "      <td>FreeStyle Freedom Lite Blood Glucose Monitorin...</td>\n",
       "      <td>21</td>\n",
       "    </tr>\n",
       "    <tr>\n",
       "      <th>1102</th>\n",
       "      <td>Second Generation FIT At Home Colon Cancer Tes...</td>\n",
       "      <td>21</td>\n",
       "    </tr>\n",
       "    <tr>\n",
       "      <th>1318</th>\n",
       "      <td>2 Pack - Autolet Impression Lancing Device 1 Each</td>\n",
       "      <td>21</td>\n",
       "    </tr>\n",
       "    <tr>\n",
       "      <th>...</th>\n",
       "      <td>...</td>\n",
       "      <td>...</td>\n",
       "    </tr>\n",
       "    <tr>\n",
       "      <th>26596</th>\n",
       "      <td>Domqga Blood Sugar Monitoring, Blood Sugar Tes...</td>\n",
       "      <td>21</td>\n",
       "    </tr>\n",
       "    <tr>\n",
       "      <th>26771</th>\n",
       "      <td>Glucocard Vital Test Strip (50 count)-Box of 50</td>\n",
       "      <td>21</td>\n",
       "    </tr>\n",
       "    <tr>\n",
       "      <th>26975</th>\n",
       "      <td>4 Pack Onetouch Verio Blood Glucose Monitoring...</td>\n",
       "      <td>21</td>\n",
       "    </tr>\n",
       "    <tr>\n",
       "      <th>29199</th>\n",
       "      <td>5 Pack Quality Choice Urinary Tract Infection ...</td>\n",
       "      <td>21</td>\n",
       "    </tr>\n",
       "    <tr>\n",
       "      <th>29758</th>\n",
       "      <td>2 Pack AgaMatrix AMP Blood Glucose Test Strips...</td>\n",
       "      <td>21</td>\n",
       "    </tr>\n",
       "  </tbody>\n",
       "</table>\n",
       "<p>97 rows × 2 columns</p>\n",
       "</div>"
      ],
      "text/plain": [
       "                                                 product  cluster\n",
       "719     OneTouch Verio Test Strip (100 count)-Box of 100       21\n",
       "918    Contour Next Blood Glucose Test Strips for Sel...       21\n",
       "1002   FreeStyle Freedom Lite Blood Glucose Monitorin...       21\n",
       "1102   Second Generation FIT At Home Colon Cancer Tes...       21\n",
       "1318   2 Pack - Autolet Impression Lancing Device 1 Each       21\n",
       "...                                                  ...      ...\n",
       "26596  Domqga Blood Sugar Monitoring, Blood Sugar Tes...       21\n",
       "26771    Glucocard Vital Test Strip (50 count)-Box of 50       21\n",
       "26975  4 Pack Onetouch Verio Blood Glucose Monitoring...       21\n",
       "29199  5 Pack Quality Choice Urinary Tract Infection ...       21\n",
       "29758  2 Pack AgaMatrix AMP Blood Glucose Test Strips...       21\n",
       "\n",
       "[97 rows x 2 columns]"
      ]
     },
     "execution_count": 140,
     "metadata": {},
     "output_type": "execute_result"
    }
   ],
   "source": [
    "mask = res['cluster'] == 21\n",
    "res[mask]"
   ]
  },
  {
   "cell_type": "code",
   "execution_count": 143,
   "id": "df8f60a9-6e04-4fb6-a2fb-a546b37fea7b",
   "metadata": {},
   "outputs": [
    {
     "data": {
      "text/plain": [
       "[('test', 71), ('strips', 63), ('glucose', 54), ('blood', 53), ('50', 42)]"
      ]
     },
     "execution_count": 143,
     "metadata": {},
     "output_type": "execute_result"
    }
   ],
   "source": [
    "mask = res['cluster'] == 21\n",
    "bow = re.findall(r'\\w+', ''.join([p.lower() for p in res.loc[mask, 'product']]))\n",
    "c = Counter(bow)\n",
    "c.most_common()[:5]"
   ]
  },
  {
   "cell_type": "code",
   "execution_count": 144,
   "id": "c8cd06a3-e2fc-4396-bc70-8d2c5ff32f2b",
   "metadata": {},
   "outputs": [
    {
     "data": {
      "text/plain": [
       "test           72\n",
       "strips         68\n",
       "test strips    56\n",
       "glucose        55\n",
       "blood          54\n",
       "dtype: int64"
      ]
     },
     "execution_count": 144,
     "metadata": {},
     "output_type": "execute_result"
    }
   ],
   "source": [
    "c = CountVectorizer(\n",
    "    strip_accents='ascii',\n",
    "    stop_words='english',\n",
    "    ngram_range=(1,3)\n",
    ")\n",
    "\n",
    "x = c.fit_transform([p for p in res.loc[mask, 'product']])\n",
    "pd.DataFrame(x.toarray(), columns=c.get_feature_names_out()).sum(0).sort_values(ascending=False).head(5)"
   ]
  },
  {
   "cell_type": "code",
   "execution_count": null,
   "id": "7d9ce2c3-8c74-47b2-ae62-aea5e2966a9c",
   "metadata": {},
   "outputs": [],
   "source": []
  },
  {
   "cell_type": "code",
   "execution_count": null,
   "id": "a9b92296-0149-4035-998d-7fb72f276a99",
   "metadata": {},
   "outputs": [],
   "source": []
  }
 ],
 "metadata": {
  "kernelspec": {
   "display_name": "Python 3 (ipykernel)",
   "language": "python",
   "name": "python3"
  },
  "language_info": {
   "codemirror_mode": {
    "name": "ipython",
    "version": 3
   },
   "file_extension": ".py",
   "mimetype": "text/x-python",
   "name": "python",
   "nbconvert_exporter": "python",
   "pygments_lexer": "ipython3",
   "version": "3.9.15"
  }
 },
 "nbformat": 4,
 "nbformat_minor": 5
}
