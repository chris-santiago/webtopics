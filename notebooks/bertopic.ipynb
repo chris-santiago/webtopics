{
 "cells": [
  {
   "cell_type": "markdown",
   "id": "a60580cc-7aef-485b-99e9-eb25efc3f935",
   "metadata": {},
   "source": [
    "# BERTopic\n",
    "\n",
    "This can all be easily done via [BERTopic](https://maartengr.github.io/BERTopic/algorithm/algorithm.html)"
   ]
  },
  {
   "cell_type": "code",
   "execution_count": null,
   "id": "2e5ee897-349e-4dfc-8020-0ed0a5e5fb5c",
   "metadata": {},
   "outputs": [],
   "source": []
  }
 ],
 "metadata": {
  "kernelspec": {
   "display_name": "Python 3 (ipykernel)",
   "language": "python",
   "name": "python3"
  },
  "language_info": {
   "codemirror_mode": {
    "name": "ipython",
    "version": 3
   },
   "file_extension": ".py",
   "mimetype": "text/x-python",
   "name": "python",
   "nbconvert_exporter": "python",
   "pygments_lexer": "ipython3",
   "version": "3.9.15"
  }
 },
 "nbformat": 4,
 "nbformat_minor": 5
}
